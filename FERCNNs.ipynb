{
 "cells": [
  {
   "cell_type": "code",
   "execution_count": 1,
   "id": "66a1e6cf",
   "metadata": {
    "scrolled": true
   },
   "outputs": [
    {
     "name": "stdout",
     "output_type": "stream",
     "text": [
      "Requirement already satisfied: tensorflow in c:\\users\\ahmad\\anaconda3\\lib\\site-packages (2.9.1)\n",
      "Requirement already satisfied: tensorflow-gpu in c:\\users\\ahmad\\anaconda3\\lib\\site-packages (2.9.1)\n",
      "Requirement already satisfied: opencv-python in c:\\users\\ahmad\\anaconda3\\lib\\site-packages (4.6.0.66)\n",
      "Requirement already satisfied: numpy>=1.14.5 in c:\\users\\ahmad\\anaconda3\\lib\\site-packages (from opencv-python) (1.20.1)\n",
      "Requirement already satisfied: typing-extensions>=3.6.6 in c:\\users\\ahmad\\anaconda3\\lib\\site-packages (from tensorflow) (3.7.4.3)\n",
      "Requirement already satisfied: flatbuffers<2,>=1.12 in c:\\users\\ahmad\\anaconda3\\lib\\site-packages (from tensorflow) (1.12)\n",
      "Requirement already satisfied: keras<2.10.0,>=2.9.0rc0 in c:\\users\\ahmad\\anaconda3\\lib\\site-packages (from tensorflow) (2.9.0)\n",
      "Requirement already satisfied: termcolor>=1.1.0 in c:\\users\\ahmad\\anaconda3\\lib\\site-packages (from tensorflow) (1.1.0)\n",
      "Requirement already satisfied: gast<=0.4.0,>=0.2.1 in c:\\users\\ahmad\\anaconda3\\lib\\site-packages (from tensorflow) (0.4.0)\n",
      "Requirement already satisfied: wrapt>=1.11.0 in c:\\users\\ahmad\\anaconda3\\lib\\site-packages (from tensorflow) (1.12.1)\n",
      "Requirement already satisfied: protobuf<3.20,>=3.9.2 in c:\\users\\ahmad\\anaconda3\\lib\\site-packages (from tensorflow) (3.19.4)\n",
      "Requirement already satisfied: tensorflow-io-gcs-filesystem>=0.23.1 in c:\\users\\ahmad\\anaconda3\\lib\\site-packages (from tensorflow) (0.26.0)\n",
      "Requirement already satisfied: setuptools in c:\\users\\ahmad\\anaconda3\\lib\\site-packages (from tensorflow) (52.0.0.post20210125)\n",
      "Requirement already satisfied: tensorflow-estimator<2.10.0,>=2.9.0rc0 in c:\\users\\ahmad\\anaconda3\\lib\\site-packages (from tensorflow) (2.9.0)\n",
      "Requirement already satisfied: packaging in c:\\users\\ahmad\\anaconda3\\lib\\site-packages (from tensorflow) (20.9)\n",
      "Requirement already satisfied: six>=1.12.0 in c:\\users\\ahmad\\anaconda3\\lib\\site-packages (from tensorflow) (1.15.0)\n",
      "Requirement already satisfied: keras-preprocessing>=1.1.1 in c:\\users\\ahmad\\anaconda3\\lib\\site-packages (from tensorflow) (1.1.2)\n",
      "Requirement already satisfied: google-pasta>=0.1.1 in c:\\users\\ahmad\\anaconda3\\lib\\site-packages (from tensorflow) (0.2.0)\n",
      "Requirement already satisfied: astunparse>=1.6.0 in c:\\users\\ahmad\\anaconda3\\lib\\site-packages (from tensorflow) (1.6.3)\n",
      "Requirement already satisfied: absl-py>=1.0.0 in c:\\users\\ahmad\\anaconda3\\lib\\site-packages (from tensorflow) (1.2.0)\n",
      "Requirement already satisfied: tensorboard<2.10,>=2.9 in c:\\users\\ahmad\\anaconda3\\lib\\site-packages (from tensorflow) (2.9.1)\n",
      "Requirement already satisfied: h5py>=2.9.0 in c:\\users\\ahmad\\anaconda3\\lib\\site-packages (from tensorflow) (2.10.0)\n",
      "Requirement already satisfied: libclang>=13.0.0 in c:\\users\\ahmad\\anaconda3\\lib\\site-packages (from tensorflow) (14.0.6)\n",
      "Requirement already satisfied: grpcio<2.0,>=1.24.3 in c:\\users\\ahmad\\anaconda3\\lib\\site-packages (from tensorflow) (1.47.0)\n",
      "Requirement already satisfied: opt-einsum>=2.3.2 in c:\\users\\ahmad\\anaconda3\\lib\\site-packages (from tensorflow) (3.3.0)\n",
      "Requirement already satisfied: wheel<1.0,>=0.23.0 in c:\\users\\ahmad\\anaconda3\\lib\\site-packages (from astunparse>=1.6.0->tensorflow) (0.36.2)\n",
      "Requirement already satisfied: google-auth<3,>=1.6.3 in c:\\users\\ahmad\\anaconda3\\lib\\site-packages (from tensorboard<2.10,>=2.9->tensorflow) (2.9.1)\n",
      "Requirement already satisfied: tensorboard-plugin-wit>=1.6.0 in c:\\users\\ahmad\\anaconda3\\lib\\site-packages (from tensorboard<2.10,>=2.9->tensorflow) (1.8.1)\n",
      "Requirement already satisfied: google-auth-oauthlib<0.5,>=0.4.1 in c:\\users\\ahmad\\anaconda3\\lib\\site-packages (from tensorboard<2.10,>=2.9->tensorflow) (0.4.6)\n",
      "Requirement already satisfied: markdown>=2.6.8 in c:\\users\\ahmad\\anaconda3\\lib\\site-packages (from tensorboard<2.10,>=2.9->tensorflow) (3.4.1)\n",
      "Requirement already satisfied: tensorboard-data-server<0.7.0,>=0.6.0 in c:\\users\\ahmad\\anaconda3\\lib\\site-packages (from tensorboard<2.10,>=2.9->tensorflow) (0.6.1)\n",
      "Requirement already satisfied: werkzeug>=1.0.1 in c:\\users\\ahmad\\anaconda3\\lib\\site-packages (from tensorboard<2.10,>=2.9->tensorflow) (1.0.1)\n",
      "Requirement already satisfied: requests<3,>=2.21.0 in c:\\users\\ahmad\\anaconda3\\lib\\site-packages (from tensorboard<2.10,>=2.9->tensorflow) (2.25.1)\n",
      "Requirement already satisfied: cachetools<6.0,>=2.0.0 in c:\\users\\ahmad\\anaconda3\\lib\\site-packages (from google-auth<3,>=1.6.3->tensorboard<2.10,>=2.9->tensorflow) (5.2.0)\n",
      "Requirement already satisfied: pyasn1-modules>=0.2.1 in c:\\users\\ahmad\\anaconda3\\lib\\site-packages (from google-auth<3,>=1.6.3->tensorboard<2.10,>=2.9->tensorflow) (0.2.8)\n",
      "Requirement already satisfied: rsa<5,>=3.1.4 in c:\\users\\ahmad\\anaconda3\\lib\\site-packages (from google-auth<3,>=1.6.3->tensorboard<2.10,>=2.9->tensorflow) (4.9)\n",
      "Requirement already satisfied: requests-oauthlib>=0.7.0 in c:\\users\\ahmad\\anaconda3\\lib\\site-packages (from google-auth-oauthlib<0.5,>=0.4.1->tensorboard<2.10,>=2.9->tensorflow) (1.3.1)\n",
      "Requirement already satisfied: importlib-metadata>=4.4 in c:\\users\\ahmad\\anaconda3\\lib\\site-packages (from markdown>=2.6.8->tensorboard<2.10,>=2.9->tensorflow) (4.12.0)\n",
      "Requirement already satisfied: zipp>=0.5 in c:\\users\\ahmad\\anaconda3\\lib\\site-packages (from importlib-metadata>=4.4->markdown>=2.6.8->tensorboard<2.10,>=2.9->tensorflow) (3.4.1)\n",
      "Requirement already satisfied: pyasn1<0.5.0,>=0.4.6 in c:\\users\\ahmad\\anaconda3\\lib\\site-packages (from pyasn1-modules>=0.2.1->google-auth<3,>=1.6.3->tensorboard<2.10,>=2.9->tensorflow) (0.4.8)\n",
      "Requirement already satisfied: chardet<5,>=3.0.2 in c:\\users\\ahmad\\anaconda3\\lib\\site-packages (from requests<3,>=2.21.0->tensorboard<2.10,>=2.9->tensorflow) (4.0.0)\n",
      "Requirement already satisfied: certifi>=2017.4.17 in c:\\users\\ahmad\\anaconda3\\lib\\site-packages (from requests<3,>=2.21.0->tensorboard<2.10,>=2.9->tensorflow) (2020.12.5)\n",
      "Requirement already satisfied: urllib3<1.27,>=1.21.1 in c:\\users\\ahmad\\anaconda3\\lib\\site-packages (from requests<3,>=2.21.0->tensorboard<2.10,>=2.9->tensorflow) (1.26.4)\n",
      "Requirement already satisfied: idna<3,>=2.5 in c:\\users\\ahmad\\anaconda3\\lib\\site-packages (from requests<3,>=2.21.0->tensorboard<2.10,>=2.9->tensorflow) (2.10)\n",
      "Requirement already satisfied: oauthlib>=3.0.0 in c:\\users\\ahmad\\anaconda3\\lib\\site-packages (from requests-oauthlib>=0.7.0->google-auth-oauthlib<0.5,>=0.4.1->tensorboard<2.10,>=2.9->tensorflow) (3.2.0)\n",
      "Requirement already satisfied: pyparsing>=2.0.2 in c:\\users\\ahmad\\anaconda3\\lib\\site-packages (from packaging->tensorflow) (2.4.7)\n",
      "Using matplotlib backend: <object object at 0x0000022CD60D4DE0>\n"
     ]
    }
   ],
   "source": [
    "# !pip install tensorflow tensorflow-gpu opencv-python\n",
    "# %matplotlib"
   ]
  },
  {
   "cell_type": "code",
   "execution_count": 2,
   "id": "d813ec88",
   "metadata": {},
   "outputs": [],
   "source": [
    "import tensorflow as tf\n",
    "import os"
   ]
  },
  {
   "cell_type": "code",
   "execution_count": 3,
   "id": "c94c1010",
   "metadata": {},
   "outputs": [],
   "source": [
    "gpus = tf.config.experimental.list_physical_devices('GPU')\n",
    "for gpu in gpus:\n",
    "        tf.config.experimental.set_memory_growth(gpu, True)"
   ]
  },
  {
   "cell_type": "code",
   "execution_count": 4,
   "id": "b9fbe013",
   "metadata": {},
   "outputs": [],
   "source": [
    "import cv2\n",
    "import imghdr"
   ]
  },
  {
   "cell_type": "code",
   "execution_count": 5,
   "id": "3752dc3c",
   "metadata": {},
   "outputs": [],
   "source": [
    "data_dir = 'data'"
   ]
  },
  {
   "cell_type": "code",
   "execution_count": 6,
   "id": "7feac77f",
   "metadata": {},
   "outputs": [],
   "source": [
    "import numpy as np\n",
    "from matplotlib import pyplot as plt"
   ]
  },
  {
   "cell_type": "code",
   "execution_count": 12,
   "id": "454505af",
   "metadata": {},
   "outputs": [
    {
     "name": "stdout",
     "output_type": "stream",
     "text": [
      "Found 1605 files belonging to 6 classes.\n"
     ]
    }
   ],
   "source": [
    "data = tf.keras.utils.image_dataset_from_directory('data')"
   ]
  },
  {
   "cell_type": "code",
   "execution_count": 13,
   "id": "4995adf1",
   "metadata": {},
   "outputs": [],
   "source": [
    "data_iterator = data.as_numpy_iterator()"
   ]
  },
  {
   "cell_type": "code",
   "execution_count": 14,
   "id": "1a8cf718",
   "metadata": {},
   "outputs": [],
   "source": [
    "batch = data_iterator.next()"
   ]
  },
  {
   "cell_type": "code",
   "execution_count": 15,
   "id": "7c57b583",
   "metadata": {},
   "outputs": [],
   "source": [
    "fig, ax = plt.subplots(ncols=4, figsize=(20,20))\n",
    "for idx, img in enumerate(batch[0][:4]):\n",
    "    ax[idx].imshow(img.astype(int))\n",
    "    ax[idx].title.set_text(batch[1][idx])"
   ]
  },
  {
   "cell_type": "code",
   "execution_count": 16,
   "id": "f0517300",
   "metadata": {},
   "outputs": [],
   "source": [
    "data = data.map(lambda x,y: (x/255, y))"
   ]
  },
  {
   "cell_type": "code",
   "execution_count": 17,
   "id": "d9771630",
   "metadata": {
    "scrolled": true
   },
   "outputs": [
    {
     "data": {
      "text/plain": [
       "(array([[[[0.46629903, 0.77610296, 0.9447304 ],\n",
       "          [0.5101716 , 0.8317402 , 0.9807598 ],\n",
       "          [0.48835784, 0.79816175, 0.95894605],\n",
       "          ...,\n",
       "          [0.27022058, 0.4670343 , 0.66593134],\n",
       "          [0.26164216, 0.42745098, 0.6552696 ],\n",
       "          [0.2737745 , 0.44313726, 0.6602941 ]],\n",
       " \n",
       "         [[0.48014706, 0.78431374, 0.9557598 ],\n",
       "          [0.4952206 , 0.8050245 , 0.9579657 ],\n",
       "          [0.4867647 , 0.8050245 , 0.9551471 ],\n",
       "          ...,\n",
       "          [0.2795343 , 0.45992646, 0.691299  ],\n",
       "          [0.27058825, 0.42634803, 0.6335784 ],\n",
       "          [0.26384804, 0.42745098, 0.5887255 ]],\n",
       " \n",
       "         [[0.5040441 , 0.7942402 , 0.9707108 ],\n",
       "          [0.49411765, 0.8039216 , 0.95686275],\n",
       "          [0.5042892 , 0.8258578 , 0.9709559 ],\n",
       "          ...,\n",
       "          [0.25073528, 0.44681373, 0.6426471 ],\n",
       "          [0.26433823, 0.44313726, 0.6290441 ],\n",
       "          [0.2564951 , 0.4509804 , 0.6140931 ]],\n",
       " \n",
       "         ...,\n",
       " \n",
       "         [[0.2685049 , 0.45906863, 0.66875   ],\n",
       "          [0.2860294 , 0.47659314, 0.6784314 ],\n",
       "          [0.30404413, 0.48443627, 0.68419117],\n",
       "          ...,\n",
       "          [0.18063726, 0.2844363 , 0.37095588],\n",
       "          [0.18455882, 0.29828432, 0.35735294],\n",
       "          [0.17463236, 0.28627452, 0.34117648]],\n",
       " \n",
       "         [[0.26838234, 0.44595587, 0.65612745],\n",
       "          [0.25833333, 0.44595587, 0.6622549 ],\n",
       "          [0.27120098, 0.47230393, 0.6901961 ],\n",
       "          ...,\n",
       "          [0.16421568, 0.28235295, 0.3317402 ],\n",
       "          [0.14068627, 0.2572304 , 0.2841912 ],\n",
       "          [0.15012255, 0.27340686, 0.3154412 ]],\n",
       " \n",
       "         [[0.2709559 , 0.42352942, 0.5835784 ],\n",
       "          [0.26593137, 0.4384804 , 0.6220588 ],\n",
       "          [0.27132353, 0.47132352, 0.6870098 ],\n",
       "          ...,\n",
       "          [0.13370098, 0.2677696 , 0.27487746],\n",
       "          [0.1497549 , 0.2517157 , 0.25490198],\n",
       "          [0.16544117, 0.27058825, 0.29730392]]],\n",
       " \n",
       " \n",
       "        [[[0.5536765 , 0.7223039 , 0.8595588 ],\n",
       "          [0.5294118 , 0.6784314 , 0.83137256],\n",
       "          [0.5996324 , 0.72904414, 0.8976716 ],\n",
       "          ...,\n",
       "          [0.5101716 , 0.6591912 , 0.83639705],\n",
       "          [0.51409316, 0.70625   , 0.87487745],\n",
       "          [0.5084559 , 0.7006127 , 0.8621324 ]],\n",
       " \n",
       "         [[0.56531864, 0.70870095, 0.8498775 ],\n",
       "          [0.5283088 , 0.66838235, 0.8117647 ],\n",
       "          [0.56458336, 0.7102941 , 0.858701  ],\n",
       "          ...,\n",
       "          [0.48909312, 0.6655637 , 0.8207108 ],\n",
       "          [0.5036765 , 0.6930147 , 0.8442402 ],\n",
       "          [0.49926472, 0.6790441 , 0.8330882 ]],\n",
       " \n",
       "         [[0.5785539 , 0.7197304 , 0.86090684],\n",
       "          [0.55919117, 0.7123774 , 0.85539216],\n",
       "          [0.53517157, 0.6982843 , 0.8373774 ],\n",
       "          ...,\n",
       "          [0.52181375, 0.67267156, 0.8256127 ],\n",
       "          [0.4957108 , 0.65416664, 0.81311274],\n",
       "          [0.51348037, 0.6622549 , 0.82512254]],\n",
       " \n",
       "         ...,\n",
       " \n",
       "         [[0.28835785, 0.42169118, 0.5314951 ],\n",
       "          [0.2625    , 0.3997549 , 0.5095588 ],\n",
       "          [0.28811276, 0.42144608, 0.53125   ],\n",
       "          ...,\n",
       "          [0.25539216, 0.3529412 , 0.421201  ],\n",
       "          [0.24154411, 0.33517158, 0.421201  ],\n",
       "          [0.28284314, 0.36862746, 0.47267157]],\n",
       " \n",
       "         [[0.28125   , 0.41568628, 0.5254902 ],\n",
       "          [0.28627452, 0.41960785, 0.5294118 ],\n",
       "          [0.2930147 , 0.41458333, 0.53615195],\n",
       "          ...,\n",
       "          [0.2375    , 0.36409312, 0.44987744],\n",
       "          [0.2185049 , 0.35183823, 0.45882353],\n",
       "          [0.24203432, 0.35637254, 0.46507353]],\n",
       " \n",
       "         [[0.2709559 , 0.42781863, 0.52977943],\n",
       "          [0.2784314 , 0.41568628, 0.5254902 ],\n",
       "          [0.28235295, 0.4117647 , 0.53333336],\n",
       "          ...,\n",
       "          [0.23811275, 0.3432598 , 0.38492647],\n",
       "          [0.22708334, 0.32830882, 0.42671567],\n",
       "          [0.2677696 , 0.35330883, 0.44387254]]],\n",
       " \n",
       " \n",
       "        [[[0.26556373, 0.5507353 , 0.8213235 ],\n",
       "          [0.26813725, 0.4987745 , 0.7579657 ],\n",
       "          [0.30625   , 0.5408088 , 0.81642157],\n",
       "          ...,\n",
       "          [0.29840687, 0.5493873 , 0.8281863 ],\n",
       "          [0.3120098 , 0.5473039 , 0.8218137 ],\n",
       "          [0.26066175, 0.47561276, 0.73088235]],\n",
       " \n",
       "         [[0.27120098, 0.56188726, 0.83137256],\n",
       "          [0.297549  , 0.5446078 , 0.8129902 ],\n",
       "          [0.29632354, 0.5377451 , 0.7948529 ],\n",
       "          ...,\n",
       "          [0.2917892 , 0.55514705, 0.8055147 ],\n",
       "          [0.25710785, 0.50808823, 0.7590686 ],\n",
       "          [0.2723039 , 0.5210784 , 0.76029414]],\n",
       " \n",
       "         [[0.28186274, 0.5346814 , 0.7930147 ],\n",
       "          [0.2800245 , 0.52156866, 0.7898284 ],\n",
       "          [0.2800245 , 0.51740193, 0.76862746],\n",
       "          ...,\n",
       "          [0.3077206 , 0.5785539 , 0.8156863 ],\n",
       "          [0.28492647, 0.53590685, 0.7832108 ],\n",
       "          [0.26666668, 0.5372549 , 0.76862746]],\n",
       " \n",
       "         ...,\n",
       " \n",
       "         [[0.22720589, 0.3762255 , 0.5683824 ],\n",
       "          [0.18639706, 0.37463236, 0.52365196],\n",
       "          [0.20416667, 0.3822304 , 0.5605392 ],\n",
       "          ...,\n",
       "          [0.20183824, 0.39191177, 0.5667892 ],\n",
       "          [0.17622548, 0.37438726, 0.56237745],\n",
       "          [0.22169118, 0.38406864, 0.57990193]],\n",
       " \n",
       "         [[0.2329657 , 0.38762254, 0.57757354],\n",
       "          [0.20833333, 0.3932598 , 0.54338235],\n",
       "          [0.19828431, 0.39828432, 0.56691176],\n",
       "          ...,\n",
       "          [0.2067402 , 0.38602942, 0.58982843],\n",
       "          [0.19044118, 0.38321078, 0.5865196 ],\n",
       "          [0.21176471, 0.4       , 0.5910539 ]],\n",
       " \n",
       "         [[0.2435049 , 0.3807598 , 0.5368872 ],\n",
       "          [0.20612745, 0.36973038, 0.51911765],\n",
       "          [0.19362745, 0.3925245 , 0.5622549 ],\n",
       "          ...,\n",
       "          [0.20392157, 0.3882353 , 0.60784316],\n",
       "          [0.20428921, 0.3807598 , 0.60428923],\n",
       "          [0.2192402 , 0.39142156, 0.58431375]]],\n",
       " \n",
       " \n",
       "        ...,\n",
       " \n",
       " \n",
       "        [[[0.5368872 , 0.71727943, 0.8584559 ],\n",
       "          [0.54901963, 0.6784314 , 0.8156863 ],\n",
       "          [0.60539216, 0.75330883, 0.8952206 ],\n",
       "          ...,\n",
       "          [0.4862745 , 0.6509804 , 0.8156863 ],\n",
       "          [0.51482844, 0.7030637 , 0.891299  ],\n",
       "          [0.48664215, 0.69914216, 0.84705883]],\n",
       " \n",
       "         [[0.56642157, 0.72267157, 0.8745098 ],\n",
       "          [0.54901963, 0.68517154, 0.8330882 ],\n",
       "          [0.56188726, 0.71875   , 0.8560049 ],\n",
       "          ...,\n",
       "          [0.50147057, 0.66838235, 0.82414216],\n",
       "          [0.5115196 , 0.6745098 , 0.84816176],\n",
       "          [0.49473038, 0.6655637 , 0.82916665]],\n",
       " \n",
       "         [[0.5707108 , 0.72365195, 0.8765931 ],\n",
       "          [0.5568628 , 0.7079657 , 0.8650735 ],\n",
       "          [0.5446078 , 0.6936275 , 0.83480394],\n",
       "          ...,\n",
       "          [0.52156866, 0.6745098 , 0.8352941 ],\n",
       "          [0.49963236, 0.66433823, 0.8170343 ],\n",
       "          [0.5077206 , 0.68419117, 0.8449755 ]],\n",
       " \n",
       "         ...,\n",
       " \n",
       "         [[0.28051472, 0.4117647 , 0.5259804 ],\n",
       "          [0.2682598 , 0.40159315, 0.5466912 ],\n",
       "          [0.2901961 , 0.42169118, 0.5370098 ],\n",
       "          ...,\n",
       "          [0.24963236, 0.35159314, 0.40625   ],\n",
       "          [0.23247549, 0.35245097, 0.4047794 ],\n",
       "          [0.24289216, 0.36311275, 0.44313726]],\n",
       " \n",
       "         [[0.27561274, 0.40784314, 0.5181373 ],\n",
       "          [0.2901961 , 0.42242646, 0.5574755 ],\n",
       "          [0.2901961 , 0.42181373, 0.5422794 ],\n",
       "          ...,\n",
       "          [0.23308824, 0.32659313, 0.3882353 ],\n",
       "          [0.25159314, 0.34963235, 0.43370098],\n",
       "          [0.23590687, 0.33333334, 0.42414215]],\n",
       " \n",
       "         [[0.2827206 , 0.41568628, 0.5665441 ],\n",
       "          [0.28627452, 0.40784314, 0.5294118 ],\n",
       "          [0.2780637 , 0.4192402 , 0.54473037],\n",
       "          ...,\n",
       "          [0.22708334, 0.33370098, 0.40784314],\n",
       "          [0.23455882, 0.34117648, 0.4074755 ],\n",
       "          [0.22034314, 0.35514706, 0.3882353 ]]],\n",
       " \n",
       " \n",
       "        [[[0.18063726, 0.34963235, 0.5125    ],\n",
       "          [0.22279412, 0.3322304 , 0.5294118 ],\n",
       "          [0.23039216, 0.33443627, 0.51985294],\n",
       "          ...,\n",
       "          [0.2784314 , 0.4745098 , 0.7137255 ],\n",
       "          [0.2720588 , 0.44313726, 0.6995098 ],\n",
       "          [0.25208333, 0.4745098 , 0.75330883]],\n",
       " \n",
       "         [[0.18933824, 0.33615196, 0.5012255 ],\n",
       "          [0.22071078, 0.33161765, 0.48786765],\n",
       "          [0.22536765, 0.35588235, 0.5560049 ],\n",
       "          ...,\n",
       "          [0.3093137 , 0.4930147 , 0.7243872 ],\n",
       "          [0.28125   , 0.48517156, 0.70980394],\n",
       "          [0.24031863, 0.48235294, 0.71813726]],\n",
       " \n",
       "         [[0.22512256, 0.36397058, 0.46985295],\n",
       "          [0.20784314, 0.3197304 , 0.4747549 ],\n",
       "          [0.25392157, 0.36188725, 0.5634804 ],\n",
       "          ...,\n",
       "          [0.3137255 , 0.4862745 , 0.7254902 ],\n",
       "          [0.26666668, 0.46458334, 0.6922794 ],\n",
       "          [0.27732843, 0.48259804, 0.7102941 ]],\n",
       " \n",
       "         ...,\n",
       " \n",
       "         [[0.17095588, 0.32781863, 0.52365196],\n",
       "          [0.15294118, 0.3153186 , 0.45257354],\n",
       "          [0.17095588, 0.32965687, 0.43529412],\n",
       "          ...,\n",
       "          [0.14509805, 0.27267158, 0.32414216],\n",
       "          [0.11299019, 0.22855392, 0.27794117],\n",
       "          [0.16678922, 0.26507354, 0.4004902 ]],\n",
       " \n",
       "         [[0.17083333, 0.29693627, 0.46004903],\n",
       "          [0.1495098 , 0.3259804 , 0.4867647 ],\n",
       "          [0.16053921, 0.32193628, 0.4742647 ],\n",
       "          ...,\n",
       "          [0.1564951 , 0.2634804 , 0.28651962],\n",
       "          [0.11433823, 0.22303921, 0.28125   ],\n",
       "          [0.15428922, 0.24056372, 0.31519607]],\n",
       " \n",
       "         [[0.18504901, 0.3180147 , 0.46813726],\n",
       "          [0.17745098, 0.34607843, 0.5107843 ],\n",
       "          [0.175     , 0.3122549 , 0.4362745 ],\n",
       "          ...,\n",
       "          [0.09730392, 0.25992647, 0.26703432],\n",
       "          [0.10477941, 0.24240196, 0.32156864],\n",
       "          [0.14865196, 0.22426471, 0.2827206 ]]],\n",
       " \n",
       " \n",
       "        [[[0.43737745, 0.7678922 , 0.94007355],\n",
       "          [0.46985295, 0.7957108 , 0.9682598 ],\n",
       "          [0.5019608 , 0.7882353 , 0.9647059 ],\n",
       "          ...,\n",
       "          [0.2784314 , 0.45919117, 0.6502451 ],\n",
       "          [0.2509804 , 0.41960785, 0.61960787],\n",
       "          [0.25490198, 0.42034313, 0.6082108 ]],\n",
       " \n",
       "         [[0.46838236, 0.77144605, 0.95183825],\n",
       "          [0.4745098 , 0.7775735 , 0.95232844],\n",
       "          [0.4677696 , 0.7775735 , 0.94620097],\n",
       "          ...,\n",
       "          [0.27561274, 0.44424018, 0.65772057],\n",
       "          [0.2694853 , 0.42242646, 0.64595586],\n",
       "          [0.2694853 , 0.4185049 , 0.61066175]],\n",
       " \n",
       "         [[0.49019608, 0.78039217, 0.95686275],\n",
       "          [0.49436274, 0.7824755 , 0.95894605],\n",
       "          [0.49068627, 0.8060049 , 0.964951  ],\n",
       "          ...,\n",
       "          [0.2528186 , 0.43137255, 0.6408088 ],\n",
       "          [0.25465685, 0.43529412, 0.6447304 ],\n",
       "          [0.24865197, 0.44129902, 0.6237745 ]],\n",
       " \n",
       "         ...,\n",
       " \n",
       "         [[0.27659315, 0.46066177, 0.654902  ],\n",
       "          [0.26875   , 0.44914216, 0.641299  ],\n",
       "          [0.28259805, 0.44914216, 0.67107844],\n",
       "          ...,\n",
       "          [0.16286765, 0.2959559 , 0.41568628],\n",
       "          [0.19056372, 0.29644608, 0.4122549 ],\n",
       "          [0.17414215, 0.27034312, 0.38431373]],\n",
       " \n",
       "         [[0.2555147 , 0.46948528, 0.6509804 ],\n",
       "          [0.24987745, 0.44816175, 0.64142156],\n",
       "          [0.26838234, 0.45490196, 0.66887254],\n",
       "          ...,\n",
       "          [0.14178921, 0.28186274, 0.37720588],\n",
       "          [0.13786764, 0.2509804 , 0.33284312],\n",
       "          [0.17095588, 0.26446077, 0.3317402 ]],\n",
       " \n",
       "         [[0.24669118, 0.45453432, 0.6506128 ],\n",
       "          [0.2591912 , 0.45919117, 0.67487746],\n",
       "          [0.2620098 , 0.44240198, 0.6737745 ],\n",
       "          ...,\n",
       "          [0.14191176, 0.28345588, 0.32941177],\n",
       "          [0.15367647, 0.28308824, 0.3497549 ],\n",
       "          [0.14828432, 0.2545343 , 0.32977942]]]], dtype=float32),\n",
       " array([4, 5, 0, 2, 0, 1, 2, 1, 2, 1, 3, 2, 2, 3, 5, 4, 1, 2, 0, 5, 4, 0,\n",
       "        4, 5, 5, 5, 2, 0, 2, 1, 5, 3]))"
      ]
     },
     "execution_count": 17,
     "metadata": {},
     "output_type": "execute_result"
    }
   ],
   "source": [
    "data.as_numpy_iterator().next()"
   ]
  },
  {
   "cell_type": "code",
   "execution_count": 18,
   "id": "6e462a7e",
   "metadata": {},
   "outputs": [],
   "source": [
    "train_size = int(len(data)*.7)\n",
    "val_size = int(len(data)*.2)\n",
    "test_size = int(len(data)*.1)"
   ]
  },
  {
   "cell_type": "code",
   "execution_count": 19,
   "id": "6aa874cf",
   "metadata": {},
   "outputs": [
    {
     "data": {
      "text/plain": [
       "(35, 10, 5)"
      ]
     },
     "execution_count": 19,
     "metadata": {},
     "output_type": "execute_result"
    }
   ],
   "source": [
    "train_size,val_size,test_size"
   ]
  },
  {
   "cell_type": "code",
   "execution_count": 20,
   "id": "ccb9fffc",
   "metadata": {},
   "outputs": [],
   "source": [
    "train = data.take(train_size)\n",
    "val = data.skip(train_size).take(val_size)\n",
    "test = data.skip(train_size+val_size).take(test_size)"
   ]
  },
  {
   "cell_type": "code",
   "execution_count": 21,
   "id": "793db56c",
   "metadata": {},
   "outputs": [],
   "source": [
    "from tensorflow.keras.models import Sequential\n",
    "from tensorflow.keras.layers import Conv2D, MaxPooling2D, Dense, Flatten, Dropout, BatchNormalization"
   ]
  },
  {
   "cell_type": "code",
   "execution_count": 17,
   "id": "92dd2e3e",
   "metadata": {},
   "outputs": [],
   "source": [
    "model = Sequential()"
   ]
  },
  {
   "cell_type": "code",
   "execution_count": 18,
   "id": "58bba988",
   "metadata": {},
   "outputs": [],
   "source": [
    "model.add(Conv2D(16, (3,3), 1, activation='relu', input_shape=(256,256,3)))\n",
    "model.add(MaxPooling2D())\n",
    "\n",
    "model.add(Conv2D(32, (3,3), 1, activation='relu'))\n",
    "model.add(MaxPooling2D())\n",
    "\n",
    "model.add(Conv2D(16, (3,3), 1, activation='relu'))\n",
    "model.add(MaxPooling2D())\n",
    "\n",
    "model.add(Conv2D(32, (3,3), 1, activation='relu'))\n",
    "model.add(MaxPooling2D())\n",
    "\n",
    "model.add(Conv2D(64, (3,3), 1, activation='relu'))\n",
    "model.add(MaxPooling2D())\n",
    "\n",
    "\n",
    "model.add(Flatten())\n",
    "\n",
    "model.add(Dense(256, activation='relu'))\n",
    "model.add(Dense(6, activation='softmax'))"
   ]
  },
  {
   "cell_type": "code",
   "execution_count": 19,
   "id": "cd750788",
   "metadata": {},
   "outputs": [],
   "source": [
    "model.compile('adam', loss='sparse_categorical_crossentropy', metrics=['accuracy'])"
   ]
  },
  {
   "cell_type": "code",
   "execution_count": 20,
   "id": "ca2cc26a",
   "metadata": {},
   "outputs": [
    {
     "name": "stdout",
     "output_type": "stream",
     "text": [
      "Model: \"sequential\"\n",
      "_________________________________________________________________\n",
      " Layer (type)                Output Shape              Param #   \n",
      "=================================================================\n",
      " conv2d (Conv2D)             (None, 254, 254, 16)      448       \n",
      "                                                                 \n",
      " max_pooling2d (MaxPooling2D  (None, 127, 127, 16)     0         \n",
      " )                                                               \n",
      "                                                                 \n",
      " conv2d_1 (Conv2D)           (None, 125, 125, 32)      4640      \n",
      "                                                                 \n",
      " max_pooling2d_1 (MaxPooling  (None, 62, 62, 32)       0         \n",
      " 2D)                                                             \n",
      "                                                                 \n",
      " conv2d_2 (Conv2D)           (None, 60, 60, 16)        4624      \n",
      "                                                                 \n",
      " max_pooling2d_2 (MaxPooling  (None, 30, 30, 16)       0         \n",
      " 2D)                                                             \n",
      "                                                                 \n",
      " conv2d_3 (Conv2D)           (None, 28, 28, 32)        4640      \n",
      "                                                                 \n",
      " max_pooling2d_3 (MaxPooling  (None, 14, 14, 32)       0         \n",
      " 2D)                                                             \n",
      "                                                                 \n",
      " conv2d_4 (Conv2D)           (None, 12, 12, 64)        18496     \n",
      "                                                                 \n",
      " max_pooling2d_4 (MaxPooling  (None, 6, 6, 64)         0         \n",
      " 2D)                                                             \n",
      "                                                                 \n",
      " flatten (Flatten)           (None, 2304)              0         \n",
      "                                                                 \n",
      " dense (Dense)               (None, 256)               590080    \n",
      "                                                                 \n",
      " dense_1 (Dense)             (None, 6)                 1542      \n",
      "                                                                 \n",
      "=================================================================\n",
      "Total params: 624,470\n",
      "Trainable params: 624,470\n",
      "Non-trainable params: 0\n",
      "_________________________________________________________________\n"
     ]
    }
   ],
   "source": [
    "model.summary()"
   ]
  },
  {
   "cell_type": "code",
   "execution_count": 21,
   "id": "b827cc6a",
   "metadata": {},
   "outputs": [],
   "source": [
    "logdir='logs'"
   ]
  },
  {
   "cell_type": "code",
   "execution_count": 22,
   "id": "afcdbf89",
   "metadata": {},
   "outputs": [],
   "source": [
    "tensorboard_callback = tf.keras.callbacks.TensorBoard(log_dir=logdir)"
   ]
  },
  {
   "cell_type": "code",
   "execution_count": null,
   "id": "d9fc2636",
   "metadata": {},
   "outputs": [
    {
     "name": "stdout",
     "output_type": "stream",
     "text": [
      "Epoch 1/20\n",
      "17/35 [=============>................] - ETA: 11s - loss: 1.7938 - accuracy: 0.1765"
     ]
    }
   ],
   "source": [
    "hist = model.fit(train, epochs = 20, validation_data = val, callbacks = [tensorboard_callback])"
   ]
  },
  {
   "cell_type": "code",
   "execution_count": null,
   "id": "6ea52a16",
   "metadata": {},
   "outputs": [],
   "source": [
    "val_loss, val_acc = model.evaluate(val)\n",
    "train_loss, train_acc = model.evaluate(train)\n",
    "print('Val Accuracy: ', test_acc, '\\nVal Loss: ', val_loss)\n",
    "print('Train Accuracy: ', train_acc, '\\nTrain Loss: ', train_loss)"
   ]
  },
  {
   "cell_type": "code",
   "execution_count": null,
   "id": "243169cc",
   "metadata": {},
   "outputs": [],
   "source": [
    "fig = plt.figure()\n",
    "plt.plot(hist.history['loss'], color='teal', label='loss')\n",
    "plt.plot(hist.history['val_loss'], color='orange', label='val_loss')\n",
    "fig.suptitle('Loss', fontsize=20)\n",
    "plt.legend(loc=\"upper left\")\n",
    "plt.show()"
   ]
  },
  {
   "cell_type": "code",
   "execution_count": null,
   "id": "daa764ff",
   "metadata": {},
   "outputs": [],
   "source": [
    "fig = plt.figure()\n",
    "plt.plot(hist.history['accuracy'], color='teal', label='accuracy')\n",
    "plt.plot(hist.history['val_accuracy'], color='orange', label='val_accuracy')\n",
    "fig.suptitle('Accuracy', fontsize=20)\n",
    "plt.legend(loc=\"upper left\")\n",
    "plt.show()"
   ]
  },
  {
   "cell_type": "code",
   "execution_count": null,
   "id": "329460b0",
   "metadata": {},
   "outputs": [],
   "source": [
    "model.evaluate(test)"
   ]
  },
  {
   "cell_type": "code",
   "execution_count": null,
   "id": "542f940a",
   "metadata": {},
   "outputs": [],
   "source": [
    "model2 = Sequential()"
   ]
  },
  {
   "cell_type": "code",
   "execution_count": null,
   "id": "50829e6c",
   "metadata": {},
   "outputs": [],
   "source": [
    "model2.add(Conv2D(16, (3,3), 1, activation='relu', input_shape=(256,256,3)))\n",
    "model2.add(MaxPooling2D())\n",
    "\n",
    "model2.add(Conv2D(32, (3,3), 1, activation='relu'))\n",
    "model2.add(MaxPooling2D())\n",
    "\n",
    "model2.add(Conv2D(16, (3,3), 1, activation='relu'))\n",
    "model2.add(MaxPooling2D())\n",
    "\n",
    "\n",
    "\n",
    "model2.add(Flatten())\n",
    "\n",
    "model2.add(Dense(256, activation='relu'))\n",
    "model2.add(Dense(6, activation='softmax'))"
   ]
  },
  {
   "cell_type": "code",
   "execution_count": null,
   "id": "543d33b1",
   "metadata": {},
   "outputs": [],
   "source": [
    "model2.compile('adam', loss='sparse_categorical_crossentropy', metrics=['accuracy'])"
   ]
  },
  {
   "cell_type": "code",
   "execution_count": null,
   "id": "1496834d",
   "metadata": {},
   "outputs": [],
   "source": [
    "model2.summary()"
   ]
  },
  {
   "cell_type": "code",
   "execution_count": null,
   "id": "f06be001",
   "metadata": {},
   "outputs": [],
   "source": [
    "hist2 = model2.fit(train, epochs = 20, validation_data = val)"
   ]
  },
  {
   "cell_type": "code",
   "execution_count": null,
   "id": "0f12b729",
   "metadata": {},
   "outputs": [],
   "source": [
    "val_loss2, val_acc2 = model2.evaluate(val)\n",
    "train_loss2, train_acc2 = model2.evaluate(train)\n",
    "print('Val Accuracy: ', test_acc2, '\\nVal Loss: ', val_loss2)\n",
    "print('Train Accuracy: ', train_acc2, '\\nTrain Loss: ', train_loss2)"
   ]
  },
  {
   "cell_type": "code",
   "execution_count": null,
   "id": "45606dec",
   "metadata": {},
   "outputs": [],
   "source": [
    "model2.evaluate(test)"
   ]
  },
  {
   "cell_type": "code",
   "execution_count": null,
   "id": "dd406254",
   "metadata": {},
   "outputs": [],
   "source": [
    "model3 = Sequential()"
   ]
  },
  {
   "cell_type": "code",
   "execution_count": null,
   "id": "c6e5f612",
   "metadata": {},
   "outputs": [],
   "source": [
    "model3.add(Conv2D(16, (3,3), 1, activation='relu', input_shape=(256,256,3)))\n",
    "model3.add(MaxPooling2D())\n",
    "\n",
    "model3.add(Conv2D(32, (3,3), 1, activation='relu'))\n",
    "model3.add(MaxPooling2D())\n",
    "\n",
    "model3.add(Conv2D(16, (3,3), 1, activation='relu'))\n",
    "model3.add(MaxPooling2D())\n",
    "\n",
    "model3.add(Conv2D(32, (3,3), 1, activation='relu'))\n",
    "model3.add(MaxPooling2D())\n",
    "\n",
    "model3.add(Conv2D(64, (3,3), 1, activation='relu'))\n",
    "model3.add(MaxPooling2D())\n",
    "\n",
    "\n",
    "model3.add(Flatten())\n",
    "\n",
    "model3.add(Dense(256, activation='relu'))\n",
    "model3.add(Dense(128, activation='relu'))\n",
    "model3.add(Dense(6, activation='softmax'))"
   ]
  },
  {
   "cell_type": "code",
   "execution_count": null,
   "id": "1d87f43e",
   "metadata": {},
   "outputs": [],
   "source": [
    "model3.compile('adam', loss='sparse_categorical_crossentropy', metrics=['accuracy'])"
   ]
  },
  {
   "cell_type": "code",
   "execution_count": null,
   "id": "207c360e",
   "metadata": {},
   "outputs": [],
   "source": [
    "model3.summary()"
   ]
  },
  {
   "cell_type": "code",
   "execution_count": null,
   "id": "40e33a61",
   "metadata": {},
   "outputs": [],
   "source": [
    "hist3 = model3.fit(train, epochs = 20, validation_data = val)"
   ]
  },
  {
   "cell_type": "code",
   "execution_count": null,
   "id": "66de0a54",
   "metadata": {},
   "outputs": [],
   "source": [
    "test_loss3, test_acc3 = model3.evaluate(val)\n",
    "train_loss3, train_acc3 = model3.evaluate(train)\n",
    "print('Val Accuracy: ', test_acc3, '\\nVal Loss: ', test_loss3)\n",
    "print('Train Accuracy: ', train_acc3, '\\nTrain Loss: ', train_loss3)"
   ]
  },
  {
   "cell_type": "code",
   "execution_count": null,
   "id": "ce7bd609",
   "metadata": {},
   "outputs": [],
   "source": [
    "model3.evaluate(test)"
   ]
  },
  {
   "cell_type": "code",
   "execution_count": null,
   "id": "6d7bc9c1",
   "metadata": {},
   "outputs": [],
   "source": [
    "model4 = Sequential()"
   ]
  },
  {
   "cell_type": "code",
   "execution_count": null,
   "id": "fab9ecc2",
   "metadata": {},
   "outputs": [],
   "source": [
    "model4.add(Conv2D(16, (3,3), 1, activation='relu', input_shape=(256,256,3)))\n",
    "model4.add(MaxPooling2D())\n",
    "\n",
    "model4.add(Conv2D(32, (3,3), 1, activation='relu'))\n",
    "model4.add(MaxPooling2D())\n",
    "\n",
    "model4.add(Conv2D(16, (3,3), 1, activation='relu'))\n",
    "model4.add(MaxPooling2D())\n",
    "\n",
    "\n",
    "\n",
    "model4.add(Flatten())\n",
    "\n",
    "model4.add(Dense(256, activation='relu'))\n",
    "model4.add(Dense(128, activation='relu'))\n",
    "model4.add(Dense(6, activation='softmax'))"
   ]
  },
  {
   "cell_type": "code",
   "execution_count": null,
   "id": "50a56f3c",
   "metadata": {},
   "outputs": [],
   "source": [
    "model4.compile('adam', loss='sparse_categorical_crossentropy', metrics=['accuracy'])"
   ]
  },
  {
   "cell_type": "code",
   "execution_count": null,
   "id": "634f7fdc",
   "metadata": {},
   "outputs": [],
   "source": [
    "model4.summary()"
   ]
  },
  {
   "cell_type": "code",
   "execution_count": null,
   "id": "4cb4ee81",
   "metadata": {},
   "outputs": [],
   "source": [
    "hist4 = model4.fit(train, epochs = 20, validation_data = val)"
   ]
  },
  {
   "cell_type": "code",
   "execution_count": null,
   "id": "fd4dd58a",
   "metadata": {},
   "outputs": [],
   "source": [
    "test_loss4, test_acc4 = model4.evaluate(val)\n",
    "train_loss4, train_acc4 = model4.evaluate(train)\n",
    "print('Val Accuracy: ', test_acc4, '\\nVal Loss: ', test_loss4)\n",
    "print('Train Accuracy: ', train_acc4, '\\nTrain Loss: ', train_loss4)"
   ]
  },
  {
   "cell_type": "code",
   "execution_count": null,
   "id": "39f5855e",
   "metadata": {},
   "outputs": [],
   "source": [
    "model4.evaluate(test)"
   ]
  },
  {
   "cell_type": "code",
   "execution_count": null,
   "id": "f9b100bd",
   "metadata": {},
   "outputs": [],
   "source": [
    "model5 = Sequential()"
   ]
  },
  {
   "cell_type": "code",
   "execution_count": null,
   "id": "54662e4f",
   "metadata": {},
   "outputs": [],
   "source": [
    "model5.add(Conv2D(16, (3,3), 1, activation='relu', input_shape=(256,256,3)))\n",
    "model5.add(MaxPooling2D())\n",
    "\n",
    "model5.add(Conv2D(32, (3,3), 1, activation='relu'))\n",
    "model5.add(MaxPooling2D())\n",
    "\n",
    "model5.add(Conv2D(16, (3,3), 1, activation='relu'))\n",
    "model5.add(MaxPooling2D())\n",
    "\n",
    "model5.add(Conv2D(32, (3,3), 1, activation='relu'))\n",
    "model5.add(MaxPooling2D())\n",
    "\n",
    "model5.add(Conv2D(64, (3,3), 1, activation='relu'))\n",
    "model5.add(MaxPooling2D())\n",
    "\n",
    "\n",
    "model5.add(Flatten())\n",
    "\n",
    "model5.add(Dense(256, activation='relu'))\n",
    "model5.add(Dense(6, activation='softmax'))"
   ]
  },
  {
   "cell_type": "code",
   "execution_count": null,
   "id": "efe38894",
   "metadata": {},
   "outputs": [],
   "source": [
    "model5.compile('SGD', loss='sparse_categorical_crossentropy', metrics=['accuracy'])"
   ]
  },
  {
   "cell_type": "code",
   "execution_count": null,
   "id": "2fc766b1",
   "metadata": {},
   "outputs": [],
   "source": [
    "model5.summary()"
   ]
  },
  {
   "cell_type": "code",
   "execution_count": null,
   "id": "fce1ec65",
   "metadata": {},
   "outputs": [],
   "source": [
    "hist5 = model5.fit(train, epochs = 20, validation_data = val)"
   ]
  },
  {
   "cell_type": "code",
   "execution_count": null,
   "id": "447d8d3e",
   "metadata": {},
   "outputs": [],
   "source": [
    "test_loss5, test_acc5 = model5.evaluate(val)\n",
    "train_loss5, train_acc5 = model5.evaluate(train)\n",
    "print('Val Accuracy: ', test_acc5, '\\nVal Loss: ', test_loss5)\n",
    "print('Train Accuracy: ', train_acc5, '\\nTrain Loss: ', train_loss5)"
   ]
  },
  {
   "cell_type": "code",
   "execution_count": null,
   "id": "f25a18a0",
   "metadata": {},
   "outputs": [],
   "source": [
    "model5.evaluate(test)"
   ]
  },
  {
   "cell_type": "code",
   "execution_count": null,
   "id": "c8c831a5",
   "metadata": {},
   "outputs": [],
   "source": [
    "model6 = Sequential()"
   ]
  },
  {
   "cell_type": "code",
   "execution_count": null,
   "id": "1d76118e",
   "metadata": {},
   "outputs": [],
   "source": [
    "model6.add(Conv2D(16, (3,3), 1, activation='relu', input_shape=(256,256,3)))\n",
    "model6.add(MaxPooling2D())\n",
    "\n",
    "model6.add(Conv2D(32, (3,3), 1, activation='relu'))\n",
    "model6.add(MaxPooling2D())\n",
    "\n",
    "model6.add(Conv2D(16, (3,3), 1, activation='relu'))\n",
    "model6.add(MaxPooling2D())\n",
    "\n",
    "\n",
    "\n",
    "model6.add(Flatten())\n",
    "\n",
    "model6.add(Dense(256, activation='relu'))\n",
    "model6.add(Dense(6, activation='softmax'))"
   ]
  },
  {
   "cell_type": "code",
   "execution_count": null,
   "id": "6676bdb8",
   "metadata": {},
   "outputs": [],
   "source": [
    "model6.compile('SGD', loss='sparse_categorical_crossentropy', metrics=['accuracy'])"
   ]
  },
  {
   "cell_type": "code",
   "execution_count": null,
   "id": "0a55e770",
   "metadata": {},
   "outputs": [],
   "source": [
    "model6.summary()"
   ]
  },
  {
   "cell_type": "code",
   "execution_count": null,
   "id": "b1122e8f",
   "metadata": {},
   "outputs": [],
   "source": [
    "hist6 = model6.fit(train, epochs = 20, validation_data = val)"
   ]
  },
  {
   "cell_type": "code",
   "execution_count": null,
   "id": "a4a5b5ab",
   "metadata": {},
   "outputs": [],
   "source": [
    "test_loss6, test_acc6 = model6.evaluate(val)\n",
    "train_loss6, train_acc6 = model6.evaluate(train)\n",
    "print('Val Accuracy: ', test_acc6, '\\nVal Loss: ', test_loss6)\n",
    "print('Train Accuracy: ', train_acc6, '\\nTrain Loss: ', train_loss6)"
   ]
  },
  {
   "cell_type": "code",
   "execution_count": null,
   "id": "71d890c9",
   "metadata": {},
   "outputs": [],
   "source": [
    "model6.evaluate(test)"
   ]
  },
  {
   "cell_type": "code",
   "execution_count": null,
   "id": "9e087e87",
   "metadata": {},
   "outputs": [],
   "source": [
    "model7 = Sequential()"
   ]
  },
  {
   "cell_type": "code",
   "execution_count": null,
   "id": "7c0163f0",
   "metadata": {},
   "outputs": [],
   "source": [
    "model7.add(Conv2D(16, (5,5), 1, activation='relu', input_shape=(256,256,3)))\n",
    "model7.add(MaxPooling2D())\n",
    "\n",
    "model7.add(Conv2D(32, (5,5), 1, activation='relu'))\n",
    "model7.add(MaxPooling2D())\n",
    "\n",
    "model7.add(Conv2D(16, (5,5), 1, activation='relu'))\n",
    "model7.add(MaxPooling2D())\n",
    "\n",
    "model7.add(Conv2D(32, (5,5), 1, activation='relu'))\n",
    "model7.add(MaxPooling2D())\n",
    "\n",
    "model7.add(Conv2D(64, (5,5), 1, activation='relu'))\n",
    "model7.add(MaxPooling2D())\n",
    "\n",
    "\n",
    "model7.add(Flatten())\n",
    "\n",
    "model7.add(Dense(256, activation='relu'))\n",
    "model7.add(Dense(6, activation='softmax'))"
   ]
  },
  {
   "cell_type": "code",
   "execution_count": null,
   "id": "42879658",
   "metadata": {},
   "outputs": [],
   "source": [
    "model7.compile('adam', loss='sparse_categorical_crossentropy', metrics=['accuracy'])"
   ]
  },
  {
   "cell_type": "code",
   "execution_count": null,
   "id": "f562808f",
   "metadata": {},
   "outputs": [],
   "source": [
    "model7.summary()"
   ]
  },
  {
   "cell_type": "code",
   "execution_count": null,
   "id": "f794c1c5",
   "metadata": {},
   "outputs": [],
   "source": [
    "hist7 = model7.fit(train, epochs = 20, validation_data = val)"
   ]
  },
  {
   "cell_type": "code",
   "execution_count": null,
   "id": "cf5034e6",
   "metadata": {},
   "outputs": [],
   "source": [
    "test_loss7, test_acc7 = model7.evaluate(val)\n",
    "train_loss7, train_acc7 = model7.evaluate(train)\n",
    "print('Val Accuracy: ', test_acc7, '\\nVal Loss: ', test_loss7)\n",
    "print('Train Accuracy: ', train_acc7, '\\nTrain Loss: ', train_loss7)"
   ]
  },
  {
   "cell_type": "code",
   "execution_count": null,
   "id": "5628b9ba",
   "metadata": {},
   "outputs": [],
   "source": [
    "model7.evaluate(test)"
   ]
  },
  {
   "cell_type": "code",
   "execution_count": null,
   "id": "2d949061",
   "metadata": {},
   "outputs": [],
   "source": [
    "model8 = Sequential()"
   ]
  },
  {
   "cell_type": "code",
   "execution_count": null,
   "id": "88b24abf",
   "metadata": {},
   "outputs": [],
   "source": [
    "model8.add(Conv2D(16, (5,5), 1, activation='relu', input_shape=(256,256,3)))\n",
    "model8.add(MaxPooling2D())\n",
    "\n",
    "model8.add(Conv2D(32, (5,5), 1, activation='relu'))\n",
    "model8.add(MaxPooling2D())\n",
    "\n",
    "model8.add(Conv2D(16, (5,5), 1, activation='relu'))\n",
    "model8.add(MaxPooling2D())\n",
    "\n",
    "\n",
    "\n",
    "model8.add(Flatten())\n",
    "\n",
    "model8.add(Dense(256, activation='relu'))\n",
    "model8.add(Dense(6, activation='softmax'))"
   ]
  },
  {
   "cell_type": "code",
   "execution_count": null,
   "id": "9ce97e24",
   "metadata": {},
   "outputs": [],
   "source": [
    "model8.compile('adam', loss='sparse_categorical_crossentropy', metrics=['accuracy'])"
   ]
  },
  {
   "cell_type": "code",
   "execution_count": null,
   "id": "27eceb85",
   "metadata": {},
   "outputs": [],
   "source": [
    "model8.summary()"
   ]
  },
  {
   "cell_type": "code",
   "execution_count": null,
   "id": "92c0c7ee",
   "metadata": {},
   "outputs": [],
   "source": [
    "hist8 = model8.fit(train, epochs = 20, validation_data = val)"
   ]
  },
  {
   "cell_type": "code",
   "execution_count": null,
   "id": "24486d97",
   "metadata": {},
   "outputs": [],
   "source": [
    "test_loss8, test_acc8 = model8.evaluate(val)\n",
    "train_loss8, train_acc8 = model8.evaluate(train)\n",
    "print('Val Accuracy: ', test_acc8, '\\nVal Loss: ', test_loss8)\n",
    "print('Train Accuracy: ', train_acc8, '\\nTrain Loss: ', train_loss8)"
   ]
  },
  {
   "cell_type": "code",
   "execution_count": null,
   "id": "80106093",
   "metadata": {},
   "outputs": [],
   "source": [
    "model8.evaluate(test)"
   ]
  },
  {
   "cell_type": "code",
   "execution_count": null,
   "id": "087a930c",
   "metadata": {},
   "outputs": [],
   "source": [
    "model9 = Sequential()"
   ]
  },
  {
   "cell_type": "code",
   "execution_count": null,
   "id": "d0a5cf11",
   "metadata": {},
   "outputs": [],
   "source": [
    "model9.add(Conv2D(16, (3,3), 1, activation='relu', input_shape=(256,256,3)))\n",
    "model9.add(MaxPooling2D())\n",
    "\n",
    "model9.add(Conv2D(32, (3,3), 1, activation='relu'))\n",
    "model9.add(MaxPooling2D())\n",
    "\n",
    "model9.add(Conv2D(16, (3,3), 1, activation='relu'))\n",
    "model9.add(MaxPooling2D())\n",
    "\n",
    "model9.add(Conv2D(32, (3,3), 1, activation='relu'))\n",
    "model9.add(MaxPooling2D())\n",
    "\n",
    "model9.add(Conv2D(64, (3,3), 1, activation='relu'))\n",
    "model9.add(MaxPooling2D())\n",
    "\n",
    "\n",
    "model9.add(Flatten())\n",
    "\n",
    "model9.add(Dense(256, activation='relu'))\n",
    "model9.add(Dropout(0.5))\n",
    "model9.add(Dense(6, activation='softmax'))"
   ]
  },
  {
   "cell_type": "code",
   "execution_count": null,
   "id": "545386b2",
   "metadata": {},
   "outputs": [],
   "source": [
    "model9.compile('adam', loss='sparse_categorical_crossentropy', metrics=['accuracy'])"
   ]
  },
  {
   "cell_type": "code",
   "execution_count": null,
   "id": "ecd110f1",
   "metadata": {},
   "outputs": [],
   "source": [
    "model9.summary()"
   ]
  },
  {
   "cell_type": "code",
   "execution_count": null,
   "id": "63dd90e7",
   "metadata": {},
   "outputs": [],
   "source": [
    "hist9 = model9.fit(train, epochs = 20, validation_data = val)"
   ]
  },
  {
   "cell_type": "code",
   "execution_count": null,
   "id": "4f083a76",
   "metadata": {},
   "outputs": [],
   "source": [
    "test_loss9, test_acc9 = model9.evaluate(val)\n",
    "train_loss9, train_acc9 = model9.evaluate(train)\n",
    "print('Val Accuracy: ', test_acc9, '\\nVal Loss: ', test_loss9)\n",
    "print('Train Accuracy: ', train_acc9, '\\nTrain Loss: ', train_loss9)"
   ]
  },
  {
   "cell_type": "code",
   "execution_count": null,
   "id": "d79c5c0e",
   "metadata": {},
   "outputs": [],
   "source": [
    "model9.evaluate(test)"
   ]
  },
  {
   "cell_type": "code",
   "execution_count": null,
   "id": "441d0ebf",
   "metadata": {},
   "outputs": [],
   "source": [
    "model10 = Sequential()"
   ]
  },
  {
   "cell_type": "code",
   "execution_count": null,
   "id": "9982dcb0",
   "metadata": {},
   "outputs": [],
   "source": [
    "model10.add(Conv2D(16, (3,3), 1, activation='relu', input_shape=(256,256,3)))\n",
    "model10.add(MaxPooling2D())\n",
    "\n",
    "model10.add(Conv2D(32, (3,3), 1, activation='relu'))\n",
    "model10.add(MaxPooling2D())\n",
    "\n",
    "model10.add(Conv2D(16, (3,3), 1, activation='relu'))\n",
    "model10.add(MaxPooling2D())\n",
    "\n",
    "\n",
    "\n",
    "model10.add(Flatten())\n",
    "\n",
    "model10.add(Dense(256, activation='relu'))\n",
    "model10.add(Dropout(0.5))\n",
    "model10.add(Dense(6, activation='softmax'))"
   ]
  },
  {
   "cell_type": "code",
   "execution_count": null,
   "id": "a17c63f9",
   "metadata": {},
   "outputs": [],
   "source": [
    "model10.compile('adam', loss='sparse_categorical_crossentropy', metrics=['accuracy'])"
   ]
  },
  {
   "cell_type": "code",
   "execution_count": null,
   "id": "41a129ea",
   "metadata": {},
   "outputs": [],
   "source": [
    "model10.summary()"
   ]
  },
  {
   "cell_type": "code",
   "execution_count": null,
   "id": "ade600b6",
   "metadata": {},
   "outputs": [],
   "source": [
    "hist10 = model10.fit(train, epochs = 20, validation_data = val)"
   ]
  },
  {
   "cell_type": "code",
   "execution_count": null,
   "id": "28770171",
   "metadata": {},
   "outputs": [],
   "source": [
    "test_loss10, test_acc10 = model10.evaluate(val)\n",
    "train_loss10, train_acc10 = model10.evaluate(train)\n",
    "print('Val Accuracy: ', test_acc10, '\\nVal Loss: ', test_loss10)\n",
    "print('Train Accuracy: ', train_acc10, '\\nTrain Loss: ', train_loss10)"
   ]
  },
  {
   "cell_type": "code",
   "execution_count": null,
   "id": "455a848a",
   "metadata": {},
   "outputs": [],
   "source": [
    "model10.evaluate(test)"
   ]
  },
  {
   "cell_type": "code",
   "execution_count": 26,
   "id": "5052f3dc",
   "metadata": {},
   "outputs": [],
   "source": [
    "model11 = Sequential()"
   ]
  },
  {
   "cell_type": "code",
   "execution_count": 27,
   "id": "aa42ef3e",
   "metadata": {},
   "outputs": [],
   "source": [
    "model11.add(Conv2D(16, (3,3), 1, activation='relu', input_shape=(256,256,3)))\n",
    "model11.add(MaxPooling2D())\n",
    "\n",
    "model11.add(Conv2D(32, (3,3), 1, activation='relu'))\n",
    "model11.add(MaxPooling2D())\n",
    "\n",
    "model11.add(Conv2D(16, (3,3), 1, activation='relu'))\n",
    "model11.add(MaxPooling2D())\n",
    "\n",
    "model11.add(Conv2D(32, (3,3), 1, activation='relu'))\n",
    "model11.add(MaxPooling2D())\n",
    "\n",
    "model11.add(Conv2D(64, (3,3), 1, activation='relu'))\n",
    "model11.add(MaxPooling2D())\n",
    "\n",
    "\n",
    "model11.add(Flatten())\n",
    "\n",
    "model11.add(Dense(256))\n",
    "model11.add(BatchNormalization())\n",
    "model11.add(tf.keras.layers.Activation('relu'))\n",
    "model11.add(Dense(6, activation='softmax'))"
   ]
  },
  {
   "cell_type": "code",
   "execution_count": 29,
   "id": "bfb0ca68",
   "metadata": {},
   "outputs": [],
   "source": [
    "model11.compile(optimizer=tf.keras.optimizers.SGD(learning_rate=0.1), loss='sparse_categorical_crossentropy', metrics=['accuracy'])"
   ]
  },
  {
   "cell_type": "code",
   "execution_count": 30,
   "id": "4f37f4f1",
   "metadata": {},
   "outputs": [
    {
     "name": "stdout",
     "output_type": "stream",
     "text": [
      "Model: \"sequential_2\"\n",
      "_________________________________________________________________\n",
      " Layer (type)                Output Shape              Param #   \n",
      "=================================================================\n",
      " conv2d_10 (Conv2D)          (None, 254, 254, 16)      448       \n",
      "                                                                 \n",
      " max_pooling2d_10 (MaxPoolin  (None, 127, 127, 16)     0         \n",
      " g2D)                                                            \n",
      "                                                                 \n",
      " conv2d_11 (Conv2D)          (None, 125, 125, 32)      4640      \n",
      "                                                                 \n",
      " max_pooling2d_11 (MaxPoolin  (None, 62, 62, 32)       0         \n",
      " g2D)                                                            \n",
      "                                                                 \n",
      " conv2d_12 (Conv2D)          (None, 60, 60, 16)        4624      \n",
      "                                                                 \n",
      " max_pooling2d_12 (MaxPoolin  (None, 30, 30, 16)       0         \n",
      " g2D)                                                            \n",
      "                                                                 \n",
      " conv2d_13 (Conv2D)          (None, 28, 28, 32)        4640      \n",
      "                                                                 \n",
      " max_pooling2d_13 (MaxPoolin  (None, 14, 14, 32)       0         \n",
      " g2D)                                                            \n",
      "                                                                 \n",
      " conv2d_14 (Conv2D)          (None, 12, 12, 64)        18496     \n",
      "                                                                 \n",
      " max_pooling2d_14 (MaxPoolin  (None, 6, 6, 64)         0         \n",
      " g2D)                                                            \n",
      "                                                                 \n",
      " flatten_2 (Flatten)         (None, 2304)              0         \n",
      "                                                                 \n",
      " dense_2 (Dense)             (None, 256)               590080    \n",
      "                                                                 \n",
      " batch_normalization_2 (Batc  (None, 256)              1024      \n",
      " hNormalization)                                                 \n",
      "                                                                 \n",
      " activation (Activation)     (None, 256)               0         \n",
      "                                                                 \n",
      " dense_3 (Dense)             (None, 6)                 1542      \n",
      "                                                                 \n",
      "=================================================================\n",
      "Total params: 625,494\n",
      "Trainable params: 624,982\n",
      "Non-trainable params: 512\n",
      "_________________________________________________________________\n"
     ]
    }
   ],
   "source": [
    "model11.summary()"
   ]
  },
  {
   "cell_type": "code",
   "execution_count": 31,
   "id": "e7aab01c",
   "metadata": {},
   "outputs": [
    {
     "name": "stdout",
     "output_type": "stream",
     "text": [
      "Epoch 1/20\n",
      "35/35 [==============================] - 25s 694ms/step - loss: 1.7079 - accuracy: 0.3116 - val_loss: 1.8157 - val_accuracy: 0.1344\n",
      "Epoch 2/20\n",
      "35/35 [==============================] - 25s 695ms/step - loss: 1.2044 - accuracy: 0.5786 - val_loss: 1.7127 - val_accuracy: 0.2656\n",
      "Epoch 3/20\n",
      "35/35 [==============================] - 25s 690ms/step - loss: 0.6227 - accuracy: 0.7777 - val_loss: 2.4160 - val_accuracy: 0.2125\n",
      "Epoch 4/20\n",
      "35/35 [==============================] - 25s 692ms/step - loss: 0.1914 - accuracy: 0.9536 - val_loss: 1.7001 - val_accuracy: 0.3438\n",
      "Epoch 5/20\n",
      "35/35 [==============================] - 25s 693ms/step - loss: 0.0453 - accuracy: 0.9973 - val_loss: 1.2837 - val_accuracy: 0.3844\n",
      "Epoch 6/20\n",
      "35/35 [==============================] - 25s 688ms/step - loss: 0.0323 - accuracy: 0.9973 - val_loss: 0.9847 - val_accuracy: 0.5781\n",
      "Epoch 7/20\n",
      "35/35 [==============================] - 25s 692ms/step - loss: 0.0241 - accuracy: 0.9964 - val_loss: 0.8146 - val_accuracy: 0.7312\n",
      "Epoch 8/20\n",
      "35/35 [==============================] - 25s 694ms/step - loss: 0.0207 - accuracy: 0.9964 - val_loss: 0.5541 - val_accuracy: 0.9500\n",
      "Epoch 9/20\n",
      "35/35 [==============================] - 25s 697ms/step - loss: 0.0162 - accuracy: 0.9973 - val_loss: 0.2790 - val_accuracy: 0.9969\n",
      "Epoch 10/20\n",
      "35/35 [==============================] - 25s 699ms/step - loss: 0.0161 - accuracy: 0.9973 - val_loss: 0.2957 - val_accuracy: 0.9781\n",
      "Epoch 11/20\n",
      "35/35 [==============================] - 25s 700ms/step - loss: 0.0122 - accuracy: 0.9991 - val_loss: 0.1334 - val_accuracy: 0.9969\n",
      "Epoch 12/20\n",
      "35/35 [==============================] - 25s 701ms/step - loss: 0.0057 - accuracy: 1.0000 - val_loss: 0.0625 - val_accuracy: 0.9969\n",
      "Epoch 13/20\n",
      "35/35 [==============================] - 25s 702ms/step - loss: 0.0069 - accuracy: 0.9991 - val_loss: 0.0295 - val_accuracy: 1.0000\n",
      "Epoch 14/20\n",
      "35/35 [==============================] - 25s 704ms/step - loss: 0.0067 - accuracy: 0.9991 - val_loss: 0.0251 - val_accuracy: 1.0000\n",
      "Epoch 15/20\n",
      "35/35 [==============================] - 25s 706ms/step - loss: 0.0106 - accuracy: 0.9973 - val_loss: 0.0382 - val_accuracy: 0.9969\n",
      "Epoch 16/20\n",
      "35/35 [==============================] - 26s 707ms/step - loss: 0.0105 - accuracy: 0.9973 - val_loss: 0.0273 - val_accuracy: 1.0000\n",
      "Epoch 17/20\n",
      "35/35 [==============================] - 26s 714ms/step - loss: 0.0089 - accuracy: 0.9982 - val_loss: 0.0657 - val_accuracy: 0.9937\n",
      "Epoch 18/20\n",
      "35/35 [==============================] - 26s 715ms/step - loss: 0.0087 - accuracy: 0.9973 - val_loss: 0.0188 - val_accuracy: 0.9937\n",
      "Epoch 19/20\n",
      "35/35 [==============================] - 26s 719ms/step - loss: 0.0041 - accuracy: 1.0000 - val_loss: 0.0029 - val_accuracy: 1.0000\n",
      "Epoch 20/20\n",
      "35/35 [==============================] - 26s 719ms/step - loss: 0.0082 - accuracy: 0.9991 - val_loss: 0.0050 - val_accuracy: 1.0000\n"
     ]
    }
   ],
   "source": [
    "hist11 = model11.fit(train, epochs = 20, validation_data = val)"
   ]
  },
  {
   "cell_type": "code",
   "execution_count": 32,
   "id": "7a8f0746",
   "metadata": {},
   "outputs": [
    {
     "name": "stdout",
     "output_type": "stream",
     "text": [
      "10/10 [==============================] - 3s 121ms/step - loss: 0.0054 - accuracy: 1.0000\n",
      "35/35 [==============================] - 6s 154ms/step - loss: 0.0066 - accuracy: 0.9991\n",
      "Test Accuracy:  1.0 \n",
      "Test Loss:  0.005381362978368998\n",
      "Train Accuracy:  0.9991071224212646 \n",
      "Train Loss:  0.006649751216173172\n"
     ]
    }
   ],
   "source": [
    "test_loss11, test_acc11 = model11.evaluate(val)\n",
    "train_loss11, train_acc11 = model11.evaluate(train)\n",
    "print('Test Accuracy: ', test_acc11, '\\nTest Loss: ', test_loss11)\n",
    "print('Train Accuracy: ', train_acc11, '\\nTrain Loss: ', train_loss11)"
   ]
  },
  {
   "cell_type": "code",
   "execution_count": 33,
   "id": "9046949c",
   "metadata": {},
   "outputs": [
    {
     "name": "stdout",
     "output_type": "stream",
     "text": [
      "5/5 [==============================] - 2s 107ms/step - loss: 0.0057 - accuracy: 1.0000\n"
     ]
    },
    {
     "data": {
      "text/plain": [
       "[0.0057146186009049416, 1.0]"
      ]
     },
     "execution_count": 33,
     "metadata": {},
     "output_type": "execute_result"
    }
   ],
   "source": [
    "model11.evaluate(test)"
   ]
  },
  {
   "cell_type": "code",
   "execution_count": null,
   "id": "d16c291a",
   "metadata": {},
   "outputs": [],
   "source": []
  }
 ],
 "metadata": {
  "kernelspec": {
   "display_name": "tfod",
   "language": "python",
   "name": "tfod"
  },
  "language_info": {
   "codemirror_mode": {
    "name": "ipython",
    "version": 3
   },
   "file_extension": ".py",
   "mimetype": "text/x-python",
   "name": "python",
   "nbconvert_exporter": "python",
   "pygments_lexer": "ipython3",
   "version": "3.10.5"
  }
 },
 "nbformat": 4,
 "nbformat_minor": 5
}
