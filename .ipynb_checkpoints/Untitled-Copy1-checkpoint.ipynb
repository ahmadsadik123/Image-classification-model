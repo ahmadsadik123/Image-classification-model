{
 "cells": [
  {
   "cell_type": "code",
   "execution_count": 5,
   "id": "66a1e6cf",
   "metadata": {
    "scrolled": true
   },
   "outputs": [
    {
     "name": "stdout",
     "output_type": "stream",
     "text": [
      "Requirement already satisfied: tensorflow in c:\\users\\ahmad\\anaconda3\\lib\\site-packages (2.9.1)\n",
      "Requirement already satisfied: tensorflow-gpu in c:\\users\\ahmad\\anaconda3\\lib\\site-packages (2.9.1)\n",
      "Requirement already satisfied: opencv-python in c:\\users\\ahmad\\anaconda3\\lib\\site-packages (4.6.0.66)\n",
      "Requirement already satisfied: numpy>=1.17.3 in c:\\users\\ahmad\\anaconda3\\lib\\site-packages (from opencv-python) (1.20.1)\n",
      "Requirement already satisfied: tensorflow-io-gcs-filesystem>=0.23.1 in c:\\users\\ahmad\\anaconda3\\lib\\site-packages (from tensorflow) (0.26.0)\n",
      "Requirement already satisfied: typing-extensions>=3.6.6 in c:\\users\\ahmad\\anaconda3\\lib\\site-packages (from tensorflow) (3.7.4.3)\n",
      "Requirement already satisfied: gast<=0.4.0,>=0.2.1 in c:\\users\\ahmad\\anaconda3\\lib\\site-packages (from tensorflow) (0.4.0)\n",
      "Requirement already satisfied: grpcio<2.0,>=1.24.3 in c:\\users\\ahmad\\anaconda3\\lib\\site-packages (from tensorflow) (1.47.0)\n",
      "Requirement already satisfied: absl-py>=1.0.0 in c:\\users\\ahmad\\anaconda3\\lib\\site-packages (from tensorflow) (1.2.0)\n",
      "Requirement already satisfied: opt-einsum>=2.3.2 in c:\\users\\ahmad\\anaconda3\\lib\\site-packages (from tensorflow) (3.3.0)\n",
      "Requirement already satisfied: google-pasta>=0.1.1 in c:\\users\\ahmad\\anaconda3\\lib\\site-packages (from tensorflow) (0.2.0)\n",
      "Requirement already satisfied: tensorflow-estimator<2.10.0,>=2.9.0rc0 in c:\\users\\ahmad\\anaconda3\\lib\\site-packages (from tensorflow) (2.9.0)\n",
      "Requirement already satisfied: keras-preprocessing>=1.1.1 in c:\\users\\ahmad\\anaconda3\\lib\\site-packages (from tensorflow) (1.1.2)\n",
      "Requirement already satisfied: tensorboard<2.10,>=2.9 in c:\\users\\ahmad\\anaconda3\\lib\\site-packages (from tensorflow) (2.9.1)\n",
      "Requirement already satisfied: wrapt>=1.11.0 in c:\\users\\ahmad\\anaconda3\\lib\\site-packages (from tensorflow) (1.12.1)\n",
      "Requirement already satisfied: six>=1.12.0 in c:\\users\\ahmad\\anaconda3\\lib\\site-packages (from tensorflow) (1.15.0)\n",
      "Requirement already satisfied: h5py>=2.9.0 in c:\\users\\ahmad\\anaconda3\\lib\\site-packages (from tensorflow) (2.10.0)\n",
      "Requirement already satisfied: setuptools in c:\\users\\ahmad\\anaconda3\\lib\\site-packages (from tensorflow) (52.0.0.post20210125)\n",
      "Requirement already satisfied: protobuf<3.20,>=3.9.2 in c:\\users\\ahmad\\anaconda3\\lib\\site-packages (from tensorflow) (3.19.4)\n",
      "Requirement already satisfied: termcolor>=1.1.0 in c:\\users\\ahmad\\anaconda3\\lib\\site-packages (from tensorflow) (1.1.0)\n",
      "Requirement already satisfied: keras<2.10.0,>=2.9.0rc0 in c:\\users\\ahmad\\anaconda3\\lib\\site-packages (from tensorflow) (2.9.0)\n",
      "Requirement already satisfied: libclang>=13.0.0 in c:\\users\\ahmad\\anaconda3\\lib\\site-packages (from tensorflow) (14.0.6)\n",
      "Requirement already satisfied: flatbuffers<2,>=1.12 in c:\\users\\ahmad\\anaconda3\\lib\\site-packages (from tensorflow) (1.12)\n",
      "Requirement already satisfied: packaging in c:\\users\\ahmad\\anaconda3\\lib\\site-packages (from tensorflow) (20.9)\n",
      "Requirement already satisfied: astunparse>=1.6.0 in c:\\users\\ahmad\\anaconda3\\lib\\site-packages (from tensorflow) (1.6.3)\n",
      "Requirement already satisfied: wheel<1.0,>=0.23.0 in c:\\users\\ahmad\\anaconda3\\lib\\site-packages (from astunparse>=1.6.0->tensorflow) (0.36.2)\n",
      "Requirement already satisfied: tensorboard-plugin-wit>=1.6.0 in c:\\users\\ahmad\\anaconda3\\lib\\site-packages (from tensorboard<2.10,>=2.9->tensorflow) (1.8.1)\n",
      "Requirement already satisfied: google-auth-oauthlib<0.5,>=0.4.1 in c:\\users\\ahmad\\anaconda3\\lib\\site-packages (from tensorboard<2.10,>=2.9->tensorflow) (0.4.6)\n",
      "Requirement already satisfied: tensorboard-data-server<0.7.0,>=0.6.0 in c:\\users\\ahmad\\anaconda3\\lib\\site-packages (from tensorboard<2.10,>=2.9->tensorflow) (0.6.1)\n",
      "Requirement already satisfied: requests<3,>=2.21.0 in c:\\users\\ahmad\\anaconda3\\lib\\site-packages (from tensorboard<2.10,>=2.9->tensorflow) (2.25.1)\n",
      "Requirement already satisfied: markdown>=2.6.8 in c:\\users\\ahmad\\anaconda3\\lib\\site-packages (from tensorboard<2.10,>=2.9->tensorflow) (3.4.1)\n",
      "Requirement already satisfied: google-auth<3,>=1.6.3 in c:\\users\\ahmad\\anaconda3\\lib\\site-packages (from tensorboard<2.10,>=2.9->tensorflow) (2.9.1)\n",
      "Requirement already satisfied: werkzeug>=1.0.1 in c:\\users\\ahmad\\anaconda3\\lib\\site-packages (from tensorboard<2.10,>=2.9->tensorflow) (1.0.1)\n",
      "Requirement already satisfied: pyasn1-modules>=0.2.1 in c:\\users\\ahmad\\anaconda3\\lib\\site-packages (from google-auth<3,>=1.6.3->tensorboard<2.10,>=2.9->tensorflow) (0.2.8)\n",
      "Requirement already satisfied: cachetools<6.0,>=2.0.0 in c:\\users\\ahmad\\anaconda3\\lib\\site-packages (from google-auth<3,>=1.6.3->tensorboard<2.10,>=2.9->tensorflow) (5.2.0)\n",
      "Requirement already satisfied: rsa<5,>=3.1.4 in c:\\users\\ahmad\\anaconda3\\lib\\site-packages (from google-auth<3,>=1.6.3->tensorboard<2.10,>=2.9->tensorflow) (4.9)\n",
      "Requirement already satisfied: requests-oauthlib>=0.7.0 in c:\\users\\ahmad\\anaconda3\\lib\\site-packages (from google-auth-oauthlib<0.5,>=0.4.1->tensorboard<2.10,>=2.9->tensorflow) (1.3.1)\n",
      "Requirement already satisfied: importlib-metadata>=4.4 in c:\\users\\ahmad\\anaconda3\\lib\\site-packages (from markdown>=2.6.8->tensorboard<2.10,>=2.9->tensorflow) (4.12.0)\n",
      "Requirement already satisfied: zipp>=0.5 in c:\\users\\ahmad\\anaconda3\\lib\\site-packages (from importlib-metadata>=4.4->markdown>=2.6.8->tensorboard<2.10,>=2.9->tensorflow) (3.4.1)\n",
      "Requirement already satisfied: pyasn1<0.5.0,>=0.4.6 in c:\\users\\ahmad\\anaconda3\\lib\\site-packages (from pyasn1-modules>=0.2.1->google-auth<3,>=1.6.3->tensorboard<2.10,>=2.9->tensorflow) (0.4.8)\n",
      "Requirement already satisfied: urllib3<1.27,>=1.21.1 in c:\\users\\ahmad\\anaconda3\\lib\\site-packages (from requests<3,>=2.21.0->tensorboard<2.10,>=2.9->tensorflow) (1.26.4)\n",
      "Requirement already satisfied: certifi>=2017.4.17 in c:\\users\\ahmad\\anaconda3\\lib\\site-packages (from requests<3,>=2.21.0->tensorboard<2.10,>=2.9->tensorflow) (2020.12.5)\n",
      "Requirement already satisfied: idna<3,>=2.5 in c:\\users\\ahmad\\anaconda3\\lib\\site-packages (from requests<3,>=2.21.0->tensorboard<2.10,>=2.9->tensorflow) (2.10)\n",
      "Requirement already satisfied: chardet<5,>=3.0.2 in c:\\users\\ahmad\\anaconda3\\lib\\site-packages (from requests<3,>=2.21.0->tensorboard<2.10,>=2.9->tensorflow) (4.0.0)\n",
      "Requirement already satisfied: oauthlib>=3.0.0 in c:\\users\\ahmad\\anaconda3\\lib\\site-packages (from requests-oauthlib>=0.7.0->google-auth-oauthlib<0.5,>=0.4.1->tensorboard<2.10,>=2.9->tensorflow) (3.2.0)\n",
      "Requirement already satisfied: pyparsing>=2.0.2 in c:\\users\\ahmad\\anaconda3\\lib\\site-packages (from packaging->tensorflow) (2.4.7)\n",
      "Using matplotlib backend: TkAgg\n"
     ]
    }
   ],
   "source": [
    "!pip install tensorflow tensorflow-gpu opencv-python\n",
    "%matplotlib"
   ]
  },
  {
   "cell_type": "code",
   "execution_count": null,
   "id": "d813ec88",
   "metadata": {},
   "outputs": [],
   "source": [
    "import tensorflow as tf\n",
    "import os"
   ]
  },
  {
   "cell_type": "code",
   "execution_count": 6,
   "id": "c94c1010",
   "metadata": {},
   "outputs": [],
   "source": [
    "gpus = tf.config.experimental.list_physical_devices('GPU')\n",
    "for gpu in gpus:\n",
    "        tf.config.experimental.set_memory_growth(gpu, True)"
   ]
  },
  {
   "cell_type": "code",
   "execution_count": 7,
   "id": "b9fbe013",
   "metadata": {},
   "outputs": [],
   "source": [
    "import cv2\n",
    "import imghdr"
   ]
  },
  {
   "cell_type": "code",
   "execution_count": 8,
   "id": "3752dc3c",
   "metadata": {},
   "outputs": [],
   "source": [
    "data_dir = 'data'"
   ]
  },
  {
   "cell_type": "code",
   "execution_count": 9,
   "id": "7feac77f",
   "metadata": {},
   "outputs": [],
   "source": [
    "import numpy as np\n",
    "from matplotlib import pyplot as plt"
   ]
  },
  {
   "cell_type": "code",
   "execution_count": 10,
   "id": "454505af",
   "metadata": {},
   "outputs": [
    {
     "name": "stdout",
     "output_type": "stream",
     "text": [
      "Found 1605 files belonging to 6 classes.\n"
     ]
    }
   ],
   "source": [
    "data = tf.keras.utils.image_dataset_from_directory('data')"
   ]
  },
  {
   "cell_type": "code",
   "execution_count": 11,
   "id": "4995adf1",
   "metadata": {},
   "outputs": [],
   "source": [
    "data_iterator = data.as_numpy_iterator()"
   ]
  },
  {
   "cell_type": "code",
   "execution_count": 12,
   "id": "1a8cf718",
   "metadata": {},
   "outputs": [],
   "source": [
    "batch = data_iterator.next()"
   ]
  },
  {
   "cell_type": "code",
   "execution_count": 13,
   "id": "7c57b583",
   "metadata": {},
   "outputs": [],
   "source": [
    "fig, ax = plt.subplots(ncols=4, figsize=(20,20))\n",
    "for idx, img in enumerate(batch[0][:4]):\n",
    "    ax[idx].imshow(img.astype(int))\n",
    "    ax[idx].title.set_text(batch[1][idx])"
   ]
  },
  {
   "cell_type": "code",
   "execution_count": 14,
   "id": "f0517300",
   "metadata": {},
   "outputs": [],
   "source": [
    "data = data.map(lambda x,y: (x/255, y))"
   ]
  },
  {
   "cell_type": "code",
   "execution_count": 15,
   "id": "d9771630",
   "metadata": {
    "scrolled": true
   },
   "outputs": [
    {
     "data": {
      "text/plain": [
       "(array([[[[0.27990195, 0.5137255 , 0.7897059 ],\n",
       "          [0.26458332, 0.5579657 , 0.8210784 ],\n",
       "          [0.2591912 , 0.53296566, 0.7764706 ],\n",
       "          ...,\n",
       "          [0.29767156, 0.4930147 , 0.73259807],\n",
       "          [0.29411766, 0.49411765, 0.7490196 ],\n",
       "          [0.26311275, 0.46311274, 0.71838236]],\n",
       " \n",
       "         [[0.25661764, 0.5435049 , 0.78382355],\n",
       "          [0.264951  , 0.5651961 , 0.8105392 ],\n",
       "          [0.27450982, 0.54509807, 0.8       ],\n",
       "          ...,\n",
       "          [0.2935049 , 0.5052696 , 0.7484069 ],\n",
       "          [0.28627452, 0.49240196, 0.72990197],\n",
       "          [0.2622549 , 0.46948528, 0.6930147 ]],\n",
       " \n",
       "         [[0.26507354, 0.53933823, 0.8002451 ],\n",
       "          [0.2844363 , 0.5310049 , 0.78406864],\n",
       "          [0.26433823, 0.51740193, 0.75036764],\n",
       "          ...,\n",
       "          [0.29644608, 0.48835784, 0.7375    ],\n",
       "          [0.30245098, 0.47867647, 0.7160539 ],\n",
       "          [0.2802696 , 0.45857844, 0.689951  ]],\n",
       " \n",
       "         ...,\n",
       " \n",
       "         [[0.21568628, 0.3939951 , 0.6004902 ],\n",
       "          [0.21360295, 0.39791667, 0.60183823],\n",
       "          [0.21936275, 0.39767158, 0.60784316],\n",
       "          ...,\n",
       "          [0.18247549, 0.31764707, 0.46666667],\n",
       "          [0.1939951 , 0.358701  , 0.52340686],\n",
       "          [0.16654412, 0.30612746, 0.48259804]],\n",
       " \n",
       "         [[0.20392157, 0.39607844, 0.5590686 ],\n",
       "          [0.22745098, 0.41458333, 0.610049  ],\n",
       "          [0.21458334, 0.40281862, 0.5949755 ],\n",
       "          ...,\n",
       "          [0.18259804, 0.35232842, 0.48958334],\n",
       "          [0.1742647 , 0.3389706 , 0.49583334],\n",
       "          [0.18541667, 0.3047794 , 0.47512254]],\n",
       " \n",
       "         [[0.20428921, 0.38860294, 0.5939951 ],\n",
       "          [0.23602942, 0.41605392, 0.6610294 ],\n",
       "          [0.21139705, 0.39534312, 0.61605394],\n",
       "          ...,\n",
       "          [0.17181373, 0.36397058, 0.49338236],\n",
       "          [0.17610294, 0.32512254, 0.47806373],\n",
       "          [0.1882353 , 0.2784314 , 0.44313726]]],\n",
       " \n",
       " \n",
       "        [[[0.23566176, 0.41213235, 0.62781864],\n",
       "          [0.21605392, 0.45919117, 0.6591912 ],\n",
       "          [0.22389705, 0.43566176, 0.6795343 ],\n",
       "          ...,\n",
       "          [0.24705882, 0.50980395, 0.7764706 ],\n",
       "          [0.2627451 , 0.5058824 , 0.74509805],\n",
       "          [0.28161764, 0.50514704, 0.7678922 ]],\n",
       " \n",
       "         [[0.2185049 , 0.40281862, 0.6202206 ],\n",
       "          [0.22303921, 0.44987744, 0.6622549 ],\n",
       "          [0.2504902 , 0.45441177, 0.6790441 ],\n",
       "          ...,\n",
       "          [0.27291667, 0.5221814 , 0.78382355],\n",
       "          [0.27058825, 0.5182598 , 0.7681373 ],\n",
       "          [0.25931373, 0.50416666, 0.77254903]],\n",
       " \n",
       "         [[0.23737745, 0.43737745, 0.6452206 ],\n",
       "          [0.24497549, 0.44681373, 0.67034316],\n",
       "          [0.26458332, 0.4685049 , 0.6959559 ],\n",
       "          ...,\n",
       "          [0.28210783, 0.5213235 , 0.7762255 ],\n",
       "          [0.26642156, 0.5213235 , 0.7801471 ],\n",
       "          [0.2569853 , 0.5197304 , 0.7942402 ]],\n",
       " \n",
       "         ...,\n",
       " \n",
       "         [[0.15686275, 0.26666668, 0.45490196],\n",
       "          [0.11323529, 0.26617646, 0.3882353 ],\n",
       "          [0.14669117, 0.2800245 , 0.42144608],\n",
       "          ...,\n",
       "          [0.16102941, 0.27867648, 0.3884804 ],\n",
       "          [0.11813726, 0.24754901, 0.37279412],\n",
       "          [0.10955882, 0.25257352, 0.34620097]],\n",
       " \n",
       "         [[0.13897058, 0.2560049 , 0.4252451 ],\n",
       "          [0.13725491, 0.28014705, 0.38933823],\n",
       "          [0.17144608, 0.30980393, 0.43529412],\n",
       "          ...,\n",
       "          [0.15183823, 0.24987745, 0.37144607],\n",
       "          [0.11813726, 0.23860294, 0.3439951 ],\n",
       "          [0.13897058, 0.28014705, 0.41568628]],\n",
       " \n",
       "         [[0.14583333, 0.27169117, 0.41960785],\n",
       "          [0.15441176, 0.27132353, 0.41360295],\n",
       "          [0.1564951 , 0.29767156, 0.42316177],\n",
       "          ...,\n",
       "          [0.12438726, 0.24276961, 0.3365196 ],\n",
       "          [0.16617647, 0.27990195, 0.39828432],\n",
       "          [0.09338235, 0.24240196, 0.33186275]]],\n",
       " \n",
       " \n",
       "        [[[0.15012255, 0.2752451 , 0.31617647],\n",
       "          [0.21752451, 0.29840687, 0.4117647 ],\n",
       "          [0.19142157, 0.30514705, 0.4377451 ],\n",
       "          ...,\n",
       "          [0.5536765 , 0.8349265 , 0.99215686],\n",
       "          [0.5854167 , 0.827451  , 0.98860294],\n",
       "          [0.56041664, 0.8235294 , 1.        ]],\n",
       " \n",
       "         [[0.15232843, 0.30759802, 0.4151961 ],\n",
       "          [0.16911764, 0.34914216, 0.4790441 ],\n",
       "          [0.20612745, 0.33394608, 0.48737746],\n",
       "          ...,\n",
       "          [0.5131127 , 0.83982843, 0.9977941 ],\n",
       "          [0.5264706 , 0.8224265 , 0.9775735 ],\n",
       "          [0.5377451 , 0.83590686, 0.9893382 ]],\n",
       " \n",
       "         [[0.16311274, 0.29987746, 0.42193627],\n",
       "          [0.17438726, 0.31875   , 0.42487746],\n",
       "          [0.20575981, 0.3432598 , 0.44889706],\n",
       "          ...,\n",
       "          [0.53590685, 0.8295343 , 0.9963235 ],\n",
       "          [0.51188725, 0.813848  , 0.97855395],\n",
       "          [0.5275735 , 0.84914213, 0.9942402 ]],\n",
       " \n",
       "         ...,\n",
       " \n",
       "         [[0.14901961, 0.27794117, 0.35453433],\n",
       "          [0.14031863, 0.27316177, 0.37303922],\n",
       "          [0.12757353, 0.25257352, 0.39191177],\n",
       "          ...,\n",
       "          [0.17414215, 0.27242646, 0.4151961 ],\n",
       "          [0.18088235, 0.31053922, 0.40122548],\n",
       "          [0.16286765, 0.25490198, 0.36360294]],\n",
       " \n",
       "         [[0.12095588, 0.2677696 , 0.35906863],\n",
       "          [0.15122549, 0.30085784, 0.43357843],\n",
       "          [0.16078432, 0.29191175, 0.4392157 ],\n",
       "          ...,\n",
       "          [0.17377451, 0.2930147 , 0.4522059 ],\n",
       "          [0.15625   , 0.2917892 , 0.40318626],\n",
       "          [0.14019608, 0.30367646, 0.41164216]],\n",
       " \n",
       "         [[0.1622549 , 0.30735293, 0.37720588],\n",
       "          [0.18933824, 0.32267156, 0.45992646],\n",
       "          [0.18468137, 0.28946078, 0.46629903],\n",
       "          ...,\n",
       "          [0.17867647, 0.30379903, 0.40036765],\n",
       "          [0.13799019, 0.30269608, 0.4007353 ],\n",
       "          [0.11654412, 0.3047794 , 0.45306373]]],\n",
       " \n",
       " \n",
       "        ...,\n",
       " \n",
       " \n",
       "        [[[0.22144608, 0.37757352, 0.5155637 ],\n",
       "          [0.2007353 , 0.39681372, 0.5419118 ],\n",
       "          [0.18786764, 0.38897058, 0.5732843 ],\n",
       "          ...,\n",
       "          [0.2901961 , 0.49056372, 0.7069853 ],\n",
       "          [0.266299  , 0.48272058, 0.69485295],\n",
       "          [0.29840687, 0.4310049 , 0.72156864]],\n",
       " \n",
       "         [[0.21752451, 0.34901962, 0.45661765],\n",
       "          [0.1995098 , 0.37144607, 0.50759804],\n",
       "          [0.21568628, 0.40232843, 0.53835785],\n",
       "          ...,\n",
       "          [0.30759802, 0.4834559 , 0.7205882 ],\n",
       "          [0.27732843, 0.4560049 , 0.6762255 ],\n",
       "          [0.2784314 , 0.4639706 , 0.725     ]],\n",
       " \n",
       "         [[0.24656862, 0.3824755 , 0.5515931 ],\n",
       "          [0.23137255, 0.39816177, 0.56286764],\n",
       "          [0.24497549, 0.4332108 , 0.5785539 ],\n",
       "          ...,\n",
       "          [0.3019608 , 0.49019608, 0.7406863 ],\n",
       "          [0.3019608 , 0.5022059 , 0.73517156],\n",
       "          [0.27242646, 0.48811275, 0.74669117]],\n",
       " \n",
       "         ...,\n",
       " \n",
       "         [[0.21776961, 0.3259804 , 0.46482843],\n",
       "          [0.19166666, 0.3194853 , 0.47953433],\n",
       "          [0.2       , 0.35477942, 0.483701  ],\n",
       "          ...,\n",
       "          [0.19791667, 0.2857843 , 0.38615197],\n",
       "          [0.1324755 , 0.2517157 , 0.3314951 ],\n",
       "          [0.1264706 , 0.2694853 , 0.36495098]],\n",
       " \n",
       "         [[0.16102941, 0.2769608 , 0.40367648],\n",
       "          [0.20955883, 0.31715685, 0.47071078],\n",
       "          [0.17867647, 0.34007353, 0.49240196],\n",
       "          ...,\n",
       "          [0.18039216, 0.30416667, 0.3814951 ],\n",
       "          [0.11764706, 0.25710785, 0.36262256],\n",
       "          [0.16617647, 0.27720588, 0.40514705]],\n",
       " \n",
       "         [[0.14754902, 0.27303922, 0.35539216],\n",
       "          [0.19178921, 0.27022058, 0.46666667],\n",
       "          [0.16617647, 0.33088234, 0.4877451 ],\n",
       "          ...,\n",
       "          [0.1689951 , 0.31519607, 0.4167892 ],\n",
       "          [0.10343137, 0.2492647 , 0.31164217],\n",
       "          [0.19142157, 0.26164216, 0.30723038]]],\n",
       " \n",
       " \n",
       "        [[[0.22426471, 0.3764706 , 0.6324755 ],\n",
       "          [0.20465687, 0.37254903, 0.5729167 ],\n",
       "          [0.23210785, 0.41642156, 0.62107843],\n",
       "          ...,\n",
       "          [0.24166666, 0.47377452, 0.73223037],\n",
       "          [0.23492648, 0.4752451 , 0.7297794 ],\n",
       "          [0.23958333, 0.4502451 , 0.70159316]],\n",
       " \n",
       "         [[0.2       , 0.39558825, 0.58982843],\n",
       "          [0.20723039, 0.40110293, 0.5932598 ],\n",
       "          [0.20894608, 0.3932598 , 0.5971814 ],\n",
       "          ...,\n",
       "          [0.2542892 , 0.47843137, 0.72769606],\n",
       "          [0.23137255, 0.4655637 , 0.71593136],\n",
       "          [0.24485295, 0.45772058, 0.70870095]],\n",
       " \n",
       "         [[0.18088235, 0.39656863, 0.5495098 ],\n",
       "          [0.20735294, 0.4091912 , 0.61151963],\n",
       "          [0.21776961, 0.4060049 , 0.59607846],\n",
       "          ...,\n",
       "          [0.22720589, 0.49436274, 0.7314951 ],\n",
       "          [0.23112746, 0.47058824, 0.71164215],\n",
       "          [0.24497549, 0.4449755 , 0.6920343 ]],\n",
       " \n",
       "         ...,\n",
       " \n",
       "         [[0.08651961, 0.22352941, 0.32965687],\n",
       "          [0.08186275, 0.22120099, 0.34301472],\n",
       "          [0.09803922, 0.23921569, 0.34117648],\n",
       "          ...,\n",
       "          [0.08235294, 0.23921569, 0.34117648],\n",
       "          [0.08443628, 0.20784314, 0.31213236],\n",
       "          [0.12181372, 0.23737745, 0.35134804]],\n",
       " \n",
       "         [[0.07794118, 0.22083333, 0.3300245 ],\n",
       "          [0.11213236, 0.25159314, 0.3602941 ],\n",
       "          [0.09693628, 0.24031863, 0.3254902 ],\n",
       "          ...,\n",
       "          [0.08737745, 0.23026961, 0.33443627],\n",
       "          [0.09473039, 0.21237744, 0.31090686],\n",
       "          [0.09289216, 0.21556373, 0.30012256]],\n",
       " \n",
       "         [[0.07095588, 0.20747548, 0.28480393],\n",
       "          [0.07414216, 0.25526962, 0.34436274],\n",
       "          [0.08737745, 0.25992647, 0.358701  ],\n",
       "          ...,\n",
       "          [0.09840687, 0.23602942, 0.34509805],\n",
       "          [0.08235294, 0.1882353 , 0.30588236],\n",
       "          [0.09522059, 0.21678922, 0.32659313]]],\n",
       " \n",
       " \n",
       "        [[[0.19816177, 0.32328433, 0.5172794 ],\n",
       "          [0.1927696 , 0.2872549 , 0.4194853 ],\n",
       "          [0.2185049 , 0.35931373, 0.45906863],\n",
       "          ...,\n",
       "          [0.60428923, 0.87487745, 0.98860294],\n",
       "          [0.58860296, 0.8819853 , 1.        ],\n",
       "          [0.5682598 , 0.86740196, 0.9925245 ]],\n",
       " \n",
       "         [[0.20723039, 0.31593138, 0.49865195],\n",
       "          [0.23700981, 0.34240195, 0.52843136],\n",
       "          [0.20269608, 0.33995098, 0.49338236],\n",
       "          ...,\n",
       "          [0.57365197, 0.85992646, 0.9882353 ],\n",
       "          [0.5797794 , 0.8795343 , 0.99718136],\n",
       "          [0.58370095, 0.8654412 , 0.97634804]],\n",
       " \n",
       "         [[0.19448529, 0.34816176, 0.5400735 ],\n",
       "          [0.19142157, 0.34718138, 0.525     ],\n",
       "          [0.20808823, 0.35159314, 0.5026961 ],\n",
       "          ...,\n",
       "          [0.558701  , 0.8530637 , 0.98406863],\n",
       "          [0.55134803, 0.86531866, 0.98088235],\n",
       "          [0.5935049 , 0.889951  , 0.99791664]],\n",
       " \n",
       "         ...,\n",
       " \n",
       "         [[0.14926471, 0.28235295, 0.40208334],\n",
       "          [0.18504901, 0.32230392, 0.47916666],\n",
       "          [0.15612745, 0.28161764, 0.4345588 ],\n",
       "          ...,\n",
       "          [0.19583334, 0.33333334, 0.4685049 ],\n",
       "          [0.22536765, 0.37303922, 0.5047794 ],\n",
       "          [0.1764706 , 0.29938725, 0.45257354]],\n",
       " \n",
       "         [[0.14620098, 0.29632354, 0.44362745],\n",
       "          [0.17867647, 0.3069853 , 0.4677696 ],\n",
       "          [0.16029412, 0.29191175, 0.42022058],\n",
       "          ...,\n",
       "          [0.18210784, 0.3019608 , 0.44534314],\n",
       "          [0.20955883, 0.30870098, 0.42083332],\n",
       "          [0.20110294, 0.36078432, 0.47291666]],\n",
       " \n",
       "         [[0.175     , 0.33970588, 0.49656862],\n",
       "          [0.17855392, 0.31188726, 0.46090686],\n",
       "          [0.14865196, 0.30159312, 0.4310049 ],\n",
       "          ...,\n",
       "          [0.18786764, 0.3540441 , 0.54264706],\n",
       "          [0.17536765, 0.32193628, 0.39607844],\n",
       "          [0.22254902, 0.34264705, 0.45281863]]]], dtype=float32),\n",
       " array([1, 5, 2, 3, 4, 0, 0, 2, 4, 4, 2, 4, 3, 5, 4, 2, 2, 5, 0, 4, 4, 0,\n",
       "        1, 2, 1, 1, 5, 2, 2, 3, 2, 0]))"
      ]
     },
     "execution_count": 15,
     "metadata": {},
     "output_type": "execute_result"
    }
   ],
   "source": [
    "data.as_numpy_iterator().next()"
   ]
  },
  {
   "cell_type": "code",
   "execution_count": 16,
   "id": "6e462a7e",
   "metadata": {},
   "outputs": [],
   "source": [
    "train_size = int(len(data)*.7)\n",
    "val_size = int(len(data)*.2)\n",
    "test_size = int(len(data)*.1)"
   ]
  },
  {
   "cell_type": "code",
   "execution_count": 17,
   "id": "6aa874cf",
   "metadata": {},
   "outputs": [
    {
     "data": {
      "text/plain": [
       "(35, 10, 5)"
      ]
     },
     "execution_count": 17,
     "metadata": {},
     "output_type": "execute_result"
    }
   ],
   "source": [
    "train_size,val_size,test_size"
   ]
  },
  {
   "cell_type": "code",
   "execution_count": 18,
   "id": "ccb9fffc",
   "metadata": {},
   "outputs": [],
   "source": [
    "train = data.take(train_size)\n",
    "val = data.skip(train_size).take(val_size)\n",
    "test = data.skip(train_size+val_size).take(test_size)"
   ]
  },
  {
   "cell_type": "code",
   "execution_count": 19,
   "id": "793db56c",
   "metadata": {},
   "outputs": [],
   "source": [
    "from tensorflow.keras.models import Sequential\n",
    "from tensorflow.keras.layers import Conv2D, MaxPooling2D, Dense, Flatten, Dropout, BatchNormalization"
   ]
  },
  {
   "cell_type": "code",
   "execution_count": 17,
   "id": "92dd2e3e",
   "metadata": {},
   "outputs": [],
   "source": [
    "model = Sequential()"
   ]
  },
  {
   "cell_type": "code",
   "execution_count": 18,
   "id": "58bba988",
   "metadata": {},
   "outputs": [],
   "source": [
    "model.add(Conv2D(16, (3,3), 1, activation='relu', input_shape=(256,256,3)))\n",
    "model.add(MaxPooling2D())\n",
    "\n",
    "model.add(Conv2D(32, (3,3), 1, activation='relu'))\n",
    "model.add(MaxPooling2D())\n",
    "\n",
    "model.add(Conv2D(16, (3,3), 1, activation='relu'))\n",
    "model.add(MaxPooling2D())\n",
    "\n",
    "model.add(Conv2D(32, (3,3), 1, activation='relu'))\n",
    "model.add(MaxPooling2D())\n",
    "\n",
    "model.add(Conv2D(64, (3,3), 1, activation='relu'))\n",
    "model.add(MaxPooling2D())\n",
    "\n",
    "\n",
    "model.add(Flatten())\n",
    "\n",
    "model.add(Dense(256, activation='relu'))\n",
    "model.add(Dense(6, activation='softmax'))"
   ]
  },
  {
   "cell_type": "code",
   "execution_count": 19,
   "id": "cd750788",
   "metadata": {},
   "outputs": [],
   "source": [
    "model.compile('adam', loss='sparse_categorical_crossentropy', metrics=['accuracy'])"
   ]
  },
  {
   "cell_type": "code",
   "execution_count": 20,
   "id": "ca2cc26a",
   "metadata": {},
   "outputs": [
    {
     "name": "stdout",
     "output_type": "stream",
     "text": [
      "Model: \"sequential\"\n",
      "_________________________________________________________________\n",
      " Layer (type)                Output Shape              Param #   \n",
      "=================================================================\n",
      " conv2d (Conv2D)             (None, 254, 254, 16)      448       \n",
      "                                                                 \n",
      " max_pooling2d (MaxPooling2D  (None, 127, 127, 16)     0         \n",
      " )                                                               \n",
      "                                                                 \n",
      " conv2d_1 (Conv2D)           (None, 125, 125, 32)      4640      \n",
      "                                                                 \n",
      " max_pooling2d_1 (MaxPooling  (None, 62, 62, 32)       0         \n",
      " 2D)                                                             \n",
      "                                                                 \n",
      " conv2d_2 (Conv2D)           (None, 60, 60, 16)        4624      \n",
      "                                                                 \n",
      " max_pooling2d_2 (MaxPooling  (None, 30, 30, 16)       0         \n",
      " 2D)                                                             \n",
      "                                                                 \n",
      " conv2d_3 (Conv2D)           (None, 28, 28, 32)        4640      \n",
      "                                                                 \n",
      " max_pooling2d_3 (MaxPooling  (None, 14, 14, 32)       0         \n",
      " 2D)                                                             \n",
      "                                                                 \n",
      " conv2d_4 (Conv2D)           (None, 12, 12, 64)        18496     \n",
      "                                                                 \n",
      " max_pooling2d_4 (MaxPooling  (None, 6, 6, 64)         0         \n",
      " 2D)                                                             \n",
      "                                                                 \n",
      " flatten (Flatten)           (None, 2304)              0         \n",
      "                                                                 \n",
      " dense (Dense)               (None, 256)               590080    \n",
      "                                                                 \n",
      " dense_1 (Dense)             (None, 6)                 1542      \n",
      "                                                                 \n",
      "=================================================================\n",
      "Total params: 624,470\n",
      "Trainable params: 624,470\n",
      "Non-trainable params: 0\n",
      "_________________________________________________________________\n"
     ]
    }
   ],
   "source": [
    "model.summary()"
   ]
  },
  {
   "cell_type": "code",
   "execution_count": 21,
   "id": "b827cc6a",
   "metadata": {},
   "outputs": [],
   "source": [
    "logdir='logs'"
   ]
  },
  {
   "cell_type": "code",
   "execution_count": 22,
   "id": "afcdbf89",
   "metadata": {},
   "outputs": [],
   "source": [
    "tensorboard_callback = tf.keras.callbacks.TensorBoard(log_dir=logdir)"
   ]
  },
  {
   "cell_type": "code",
   "execution_count": 23,
   "id": "d9fc2636",
   "metadata": {},
   "outputs": [
    {
     "name": "stdout",
     "output_type": "stream",
     "text": [
      "Epoch 1/20\n",
      "35/35 [==============================] - 26s 698ms/step - loss: 1.7940 - accuracy: 0.1625 - val_loss: 1.7901 - val_accuracy: 0.1719\n",
      "Epoch 2/20\n",
      "35/35 [==============================] - 25s 690ms/step - loss: 1.7828 - accuracy: 0.2143 - val_loss: 1.7363 - val_accuracy: 0.3000\n",
      "Epoch 3/20\n",
      "35/35 [==============================] - 25s 691ms/step - loss: 1.5548 - accuracy: 0.3884 - val_loss: 1.2154 - val_accuracy: 0.5094\n",
      "Epoch 4/20\n",
      "35/35 [==============================] - 25s 692ms/step - loss: 0.7984 - accuracy: 0.7188 - val_loss: 0.5058 - val_accuracy: 0.8469\n",
      "Epoch 5/20\n",
      "35/35 [==============================] - 25s 699ms/step - loss: 0.2828 - accuracy: 0.9116 - val_loss: 0.2390 - val_accuracy: 0.9312\n",
      "Epoch 6/20\n",
      "35/35 [==============================] - 25s 700ms/step - loss: 0.1227 - accuracy: 0.9661 - val_loss: 0.0307 - val_accuracy: 1.0000\n",
      "Epoch 7/20\n",
      "35/35 [==============================] - 25s 699ms/step - loss: 0.0376 - accuracy: 0.9911 - val_loss: 0.0767 - val_accuracy: 0.9781\n",
      "Epoch 8/20\n",
      "35/35 [==============================] - 25s 699ms/step - loss: 0.0254 - accuracy: 0.9946 - val_loss: 0.0211 - val_accuracy: 0.9937\n",
      "Epoch 9/20\n",
      "35/35 [==============================] - 26s 710ms/step - loss: 0.0161 - accuracy: 0.9973 - val_loss: 0.0158 - val_accuracy: 0.9969\n",
      "Epoch 10/20\n",
      "35/35 [==============================] - 26s 713ms/step - loss: 0.1011 - accuracy: 0.9804 - val_loss: 0.0093 - val_accuracy: 1.0000\n",
      "Epoch 11/20\n",
      "35/35 [==============================] - 26s 709ms/step - loss: 0.0178 - accuracy: 0.9973 - val_loss: 0.0402 - val_accuracy: 0.9937\n",
      "Epoch 12/20\n",
      "35/35 [==============================] - 26s 712ms/step - loss: 0.0270 - accuracy: 0.9946 - val_loss: 0.0197 - val_accuracy: 0.9969\n",
      "Epoch 13/20\n",
      "35/35 [==============================] - 26s 729ms/step - loss: 0.0094 - accuracy: 0.9973 - val_loss: 0.0263 - val_accuracy: 0.9969\n",
      "Epoch 14/20\n",
      "35/35 [==============================] - 26s 723ms/step - loss: 0.0119 - accuracy: 0.9946 - val_loss: 0.0294 - val_accuracy: 0.9937\n",
      "Epoch 15/20\n",
      "35/35 [==============================] - 26s 728ms/step - loss: 0.0119 - accuracy: 0.9982 - val_loss: 0.0408 - val_accuracy: 0.9937\n",
      "Epoch 16/20\n",
      "35/35 [==============================] - 26s 718ms/step - loss: 0.0046 - accuracy: 0.9982 - val_loss: 0.0302 - val_accuracy: 0.9969\n",
      "Epoch 17/20\n",
      "35/35 [==============================] - 26s 722ms/step - loss: 0.0015 - accuracy: 0.9991 - val_loss: 0.0360 - val_accuracy: 0.9937\n",
      "Epoch 18/20\n",
      "35/35 [==============================] - 26s 721ms/step - loss: 0.0022 - accuracy: 0.9982 - val_loss: 0.0299 - val_accuracy: 0.9969\n",
      "Epoch 19/20\n",
      "35/35 [==============================] - 26s 723ms/step - loss: 6.0269e-04 - accuracy: 1.0000 - val_loss: 0.0291 - val_accuracy: 0.9969\n",
      "Epoch 20/20\n",
      "35/35 [==============================] - 26s 728ms/step - loss: 4.7192e-04 - accuracy: 1.0000 - val_loss: 0.0262 - val_accuracy: 0.9969\n"
     ]
    }
   ],
   "source": [
    "hist = model.fit(train, epochs = 20, validation_data = val, callbacks = [tensorboard_callback])"
   ]
  },
  {
   "cell_type": "code",
   "execution_count": 24,
   "id": "6ea52a16",
   "metadata": {},
   "outputs": [
    {
     "name": "stdout",
     "output_type": "stream",
     "text": [
      "10/10 [==============================] - 3s 118ms/step - loss: 2.6926e-04 - accuracy: 1.0000\n",
      "35/35 [==============================] - 6s 147ms/step - loss: 5.5287e-04 - accuracy: 1.0000\n",
      "Test Accuracy:  1.0 \n",
      "Test Loss:  0.00026926054852083325\n",
      "Train Accuracy:  1.0 \n",
      "Train Loss:  0.0005528689362108707\n"
     ]
    }
   ],
   "source": [
    "val_loss, val_acc = model.evaluate(val)\n",
    "train_loss, train_acc = model.evaluate(train)\n",
    "print('Val Accuracy: ', test_acc, '\\nVal Loss: ', val_loss)\n",
    "print('Train Accuracy: ', train_acc, '\\nTrain Loss: ', train_loss)"
   ]
  },
  {
   "cell_type": "code",
   "execution_count": 25,
   "id": "243169cc",
   "metadata": {},
   "outputs": [
    {
     "data": {
      "image/png": "[encoded data removed]",
      "text/plain": [
       "<Figure size 432x288 with 1 Axes>"
      ]
     },
     "metadata": {
      "needs_background": "light"
     },
     "output_type": "display_data"
    }
   ],
   "source": [
    "fig = plt.figure()\n",
    "plt.plot(hist.history['loss'], color='teal', label='loss')\n",
    "plt.plot(hist.history['val_loss'], color='orange', label='val_loss')\n",
    "fig.suptitle('Loss', fontsize=20)\n",
    "plt.legend(loc=\"upper left\")\n",
    "plt.show()"
   ]
  },
  {
   "cell_type": "code",
   "execution_count": 26,
   "id": "daa764ff",
   "metadata": {},
   "outputs": [
    {
     "data": {
      "image/png": "[encoded data removed]",
      "text/plain": [
       "<Figure size 432x288 with 1 Axes>"
      ]
     },
     "metadata": {
      "needs_background": "light"
     },
     "output_type": "display_data"
    }
   ],
   "source": [
    "fig = plt.figure()\n",
    "plt.plot(hist.history['accuracy'], color='teal', label='accuracy')\n",
    "plt.plot(hist.history['val_accuracy'], color='orange', label='val_accuracy')\n",
    "fig.suptitle('Accuracy', fontsize=20)\n",
    "plt.legend(loc=\"upper left\")\n",
    "plt.show()"
   ]
  },
  {
   "cell_type": "code",
   "execution_count": 27,
   "id": "329460b0",
   "metadata": {},
   "outputs": [
    {
     "name": "stdout",
     "output_type": "stream",
     "text": [
      "5/5 [==============================] - 2s 115ms/step - loss: 0.0519 - accuracy: 0.9937\n"
     ]
    },
    {
     "data": {
      "text/plain": [
       "[0.05194295570254326, 0.9937499761581421]"
      ]
     },
     "execution_count": 27,
     "metadata": {},
     "output_type": "execute_result"
    }
   ],
   "source": [
    "model.evaluate(test)"
   ]
  },
  {
   "cell_type": "code",
   "execution_count": 28,
   "id": "ff4a96bb",
   "metadata": {},
   "outputs": [
    {
     "data": {
      "image/png": "[encoded data removed]",
      "text/plain": [
       "<Figure size 432x288 with 1 Axes>"
      ]
     },
     "metadata": {
      "needs_background": "light"
     },
     "output_type": "display_data"
    }
   ],
   "source": [
    "img = cv2.imread('happy_test.jpg')\n",
    "plt.imshow(cv2.cvtColor(img, cv2.COLOR_BGR2RGB))\n",
    "plt.show()"
   ]
  },
  {
   "cell_type": "code",
   "execution_count": 29,
   "id": "00632b43",
   "metadata": {},
   "outputs": [
    {
     "data": {
      "image/png": "[encoded data removed]",
      "text/plain": [
       "<Figure size 432x288 with 1 Axes>"
      ]
     },
     "metadata": {
      "needs_background": "light"
     },
     "output_type": "display_data"
    }
   ],
   "source": [
    "resize = tf.image.resize(img, (256,256))\n",
    "plt.imshow(resize.numpy().astype(int))\n",
    "plt.show()"
   ]
  },
  {
   "cell_type": "code",
   "execution_count": 30,
   "id": "0c99ba35",
   "metadata": {},
   "outputs": [
    {
     "name": "stdout",
     "output_type": "stream",
     "text": [
      "1/1 [==============================] - 0s 100ms/step\n"
     ]
    }
   ],
   "source": [
    "yhat = model.predict(np.expand_dims(resize/255, 0))"
   ]
  },
  {
   "cell_type": "code",
   "execution_count": 31,
   "id": "23bbc8e4",
   "metadata": {},
   "outputs": [
    {
     "data": {
      "text/plain": [
       "array([[1.0000000e+00, 9.2406943e-16, 5.3852017e-15, 8.8832993e-16,\n",
       "        5.2411021e-16, 2.5158142e-14]], dtype=float32)"
      ]
     },
     "execution_count": 31,
     "metadata": {},
     "output_type": "execute_result"
    }
   ],
   "source": [
    "yhat"
   ]
  },
  {
   "cell_type": "code",
   "execution_count": 32,
   "id": "b76b52a6",
   "metadata": {},
   "outputs": [],
   "source": [
    "np.set_printoptions(formatter={'float_kind':'{:f}'.format})"
   ]
  },
  {
   "cell_type": "code",
   "execution_count": 33,
   "id": "0cb8e43a",
   "metadata": {},
   "outputs": [
    {
     "data": {
      "text/plain": [
       "array([[1.000000, 0.000000, 0.000000, 0.000000, 0.000000, 0.000000]],\n",
       "      dtype=float32)"
      ]
     },
     "execution_count": 33,
     "metadata": {},
     "output_type": "execute_result"
    }
   ],
   "source": [
    "yhat"
   ]
  },
  {
   "cell_type": "code",
   "execution_count": 124,
   "id": "ac961779",
   "metadata": {},
   "outputs": [
    {
     "name": "stdout",
     "output_type": "stream",
     "text": [
      "5/5 [==============================] - 2s 104ms/step\n"
     ]
    }
   ],
   "source": [
    "y_pred = model.predict(test)"
   ]
  },
  {
   "cell_type": "code",
   "execution_count": 125,
   "id": "bc5f1fba",
   "metadata": {},
   "outputs": [],
   "source": [
    "predicted_id = np.argmax(y_pred, axis=1)"
   ]
  },
  {
   "cell_type": "code",
   "execution_count": 126,
   "id": "decc5beb",
   "metadata": {},
   "outputs": [],
   "source": [
    "true_categories = tf.concat([y for x, y in test], axis=0)"
   ]
  },
  {
   "cell_type": "code",
   "execution_count": 127,
   "id": "e2055558",
   "metadata": {},
   "outputs": [
    {
     "data": {
      "image/png": "[encoded data removed]",
      "text/plain": [
       "<Figure size 576x576 with 1 Axes>"
      ]
     },
     "metadata": {},
     "output_type": "display_data"
    }
   ],
   "source": [
    "import matplotlib.pyplot as plt\n",
    "import seaborn as sns\n",
    "from sklearn.metrics import confusion_matrix\n",
    "\n",
    "cm = confusion_matrix(true_categories, predicted_id)\n",
    "fig = plt.figure(figsize = (8,8))\n",
    "ax1 = fig.add_subplot(1,1,1)\n",
    "sns.set(font_scale=1.4) #for label size\n",
    "sns.heatmap(cm, annot=True, annot_kws={\"size\": 12},\n",
    "     cbar = False, cmap='Purples');\n",
    "ax1.set_ylabel('True Values',fontsize=14)\n",
    "ax1.set_xlabel('Predicted Values',fontsize=14)\n",
    "plt.show()"
   ]
  },
  {
   "cell_type": "code",
   "execution_count": null,
   "id": "3d7c50c4",
   "metadata": {},
   "outputs": [],
   "source": []
  },
  {
   "cell_type": "code",
   "execution_count": null,
   "id": "0e8758a3",
   "metadata": {},
   "outputs": [],
   "source": [
    "%load_ext tensorboard"
   ]
  },
  {
   "cell_type": "code",
   "execution_count": null,
   "id": "2856fd0b",
   "metadata": {},
   "outputs": [],
   "source": [
    "%tensorboard --logdir \"C:\\Users\\ahmad\\Desktop\\Image classification model\\logs\\train\""
   ]
  },
  {
   "cell_type": "code",
   "execution_count": 36,
   "id": "542f940a",
   "metadata": {},
   "outputs": [],
   "source": [
    "model2 = Sequential()"
   ]
  },
  {
   "cell_type": "code",
   "execution_count": 37,
   "id": "50829e6c",
   "metadata": {},
   "outputs": [],
   "source": [
    "model2.add(Conv2D(16, (3,3), 1, activation='relu', input_shape=(256,256,3)))\n",
    "model2.add(MaxPooling2D())\n",
    "\n",
    "model2.add(Conv2D(32, (3,3), 1, activation='relu'))\n",
    "model2.add(MaxPooling2D())\n",
    "\n",
    "model2.add(Conv2D(16, (3,3), 1, activation='relu'))\n",
    "model2.add(MaxPooling2D())\n",
    "\n",
    "\n",
    "\n",
    "model2.add(Flatten())\n",
    "\n",
    "model2.add(Dense(256, activation='relu'))\n",
    "model2.add(Dense(6, activation='softmax'))"
   ]
  },
  {
   "cell_type": "code",
   "execution_count": 38,
   "id": "543d33b1",
   "metadata": {},
   "outputs": [],
   "source": [
    "model2.compile('adam', loss='sparse_categorical_crossentropy', metrics=['accuracy'])"
   ]
  },
  {
   "cell_type": "code",
   "execution_count": 39,
   "id": "1496834d",
   "metadata": {},
   "outputs": [
    {
     "name": "stdout",
     "output_type": "stream",
     "text": [
      "Model: \"sequential_1\"\n",
      "_________________________________________________________________\n",
      " Layer (type)                Output Shape              Param #   \n",
      "=================================================================\n",
      " conv2d_5 (Conv2D)           (None, 254, 254, 16)      448       \n",
      "                                                                 \n",
      " max_pooling2d_5 (MaxPooling  (None, 127, 127, 16)     0         \n",
      " 2D)                                                             \n",
      "                                                                 \n",
      " conv2d_6 (Conv2D)           (None, 125, 125, 32)      4640      \n",
      "                                                                 \n",
      " max_pooling2d_6 (MaxPooling  (None, 62, 62, 32)       0         \n",
      " 2D)                                                             \n",
      "                                                                 \n",
      " conv2d_7 (Conv2D)           (None, 60, 60, 16)        4624      \n",
      "                                                                 \n",
      " max_pooling2d_7 (MaxPooling  (None, 30, 30, 16)       0         \n",
      " 2D)                                                             \n",
      "                                                                 \n",
      " flatten_1 (Flatten)         (None, 14400)             0         \n",
      "                                                                 \n",
      " dense_2 (Dense)             (None, 256)               3686656   \n",
      "                                                                 \n",
      " dense_3 (Dense)             (None, 6)                 1542      \n",
      "                                                                 \n",
      "=================================================================\n",
      "Total params: 3,697,910\n",
      "Trainable params: 3,697,910\n",
      "Non-trainable params: 0\n",
      "_________________________________________________________________\n"
     ]
    }
   ],
   "source": [
    "model2.summary()"
   ]
  },
  {
   "cell_type": "code",
   "execution_count": 40,
   "id": "f06be001",
   "metadata": {},
   "outputs": [
    {
     "name": "stdout",
     "output_type": "stream",
     "text": [
      "Epoch 1/20\n",
      "35/35 [==============================] - 25s 691ms/step - loss: 1.7966 - accuracy: 0.2580 - val_loss: 1.6458 - val_accuracy: 0.3125\n",
      "Epoch 2/20\n",
      "35/35 [==============================] - 25s 691ms/step - loss: 1.2959 - accuracy: 0.5339 - val_loss: 0.9330 - val_accuracy: 0.6844\n",
      "Epoch 3/20\n",
      "35/35 [==============================] - 25s 685ms/step - loss: 0.6150 - accuracy: 0.8080 - val_loss: 0.3773 - val_accuracy: 0.8906\n",
      "Epoch 4/20\n",
      "35/35 [==============================] - 25s 693ms/step - loss: 0.2233 - accuracy: 0.9348 - val_loss: 0.2087 - val_accuracy: 0.9500\n",
      "Epoch 5/20\n",
      "35/35 [==============================] - 25s 692ms/step - loss: 0.0725 - accuracy: 0.9848 - val_loss: 0.1047 - val_accuracy: 0.9812\n",
      "Epoch 6/20\n",
      "35/35 [==============================] - 25s 697ms/step - loss: 0.0437 - accuracy: 0.9893 - val_loss: 0.0728 - val_accuracy: 0.9969\n",
      "Epoch 7/20\n",
      "35/35 [==============================] - 25s 694ms/step - loss: 0.0494 - accuracy: 0.9866 - val_loss: 0.0771 - val_accuracy: 0.9906\n",
      "Epoch 8/20\n",
      "35/35 [==============================] - 25s 701ms/step - loss: 0.0159 - accuracy: 0.9973 - val_loss: 0.0663 - val_accuracy: 0.9969\n",
      "Epoch 9/20\n",
      "35/35 [==============================] - 25s 701ms/step - loss: 0.0064 - accuracy: 1.0000 - val_loss: 0.0034 - val_accuracy: 1.0000\n",
      "Epoch 10/20\n",
      "35/35 [==============================] - 25s 704ms/step - loss: 0.0093 - accuracy: 0.9982 - val_loss: 0.0632 - val_accuracy: 0.9937\n",
      "Epoch 11/20\n",
      "35/35 [==============================] - 25s 696ms/step - loss: 0.0067 - accuracy: 0.9991 - val_loss: 0.0689 - val_accuracy: 0.9969\n",
      "Epoch 12/20\n",
      "35/35 [==============================] - 26s 709ms/step - loss: 0.0192 - accuracy: 0.9982 - val_loss: 0.0675 - val_accuracy: 0.9969\n",
      "Epoch 13/20\n",
      "35/35 [==============================] - 26s 711ms/step - loss: 0.0065 - accuracy: 0.9982 - val_loss: 0.0089 - val_accuracy: 0.9969\n",
      "Epoch 14/20\n",
      "35/35 [==============================] - 26s 717ms/step - loss: 0.0120 - accuracy: 0.9973 - val_loss: 0.0463 - val_accuracy: 0.9969\n",
      "Epoch 15/20\n",
      "35/35 [==============================] - 26s 714ms/step - loss: 0.0115 - accuracy: 0.9982 - val_loss: 0.0625 - val_accuracy: 0.9969\n",
      "Epoch 16/20\n",
      "35/35 [==============================] - 26s 714ms/step - loss: 0.0084 - accuracy: 0.9991 - val_loss: 0.0017 - val_accuracy: 1.0000\n",
      "Epoch 17/20\n",
      "35/35 [==============================] - 26s 723ms/step - loss: 0.0180 - accuracy: 0.9973 - val_loss: 0.0597 - val_accuracy: 0.9906\n",
      "Epoch 18/20\n",
      "35/35 [==============================] - 26s 722ms/step - loss: 0.0110 - accuracy: 0.9982 - val_loss: 0.0085 - val_accuracy: 1.0000\n",
      "Epoch 19/20\n",
      "35/35 [==============================] - 26s 722ms/step - loss: 0.0024 - accuracy: 1.0000 - val_loss: 0.0679 - val_accuracy: 0.9969\n",
      "Epoch 20/20\n",
      "35/35 [==============================] - 26s 720ms/step - loss: 0.0113 - accuracy: 0.9982 - val_loss: 0.0521 - val_accuracy: 0.9969\n"
     ]
    }
   ],
   "source": [
    "hist2 = model2.fit(train, epochs = 20, validation_data = val)"
   ]
  },
  {
   "cell_type": "code",
   "execution_count": 41,
   "id": "0f12b729",
   "metadata": {},
   "outputs": [
    {
     "name": "stdout",
     "output_type": "stream",
     "text": [
      "10/10 [==============================] - 3s 117ms/step - loss: 0.0506 - accuracy: 0.9969\n",
      "35/35 [==============================] - 6s 145ms/step - loss: 0.0055 - accuracy: 0.9982\n",
      "Test Accuracy:  0.996874988079071 \n",
      "Test Loss:  0.05064631626009941\n",
      "Train Accuracy:  0.9982143044471741 \n",
      "Train Loss:  0.005517314188182354\n"
     ]
    }
   ],
   "source": [
    "val_loss2, val_acc2 = model2.evaluate(val)\n",
    "train_loss2, train_acc2 = model2.evaluate(train)\n",
    "print('Val Accuracy: ', test_acc2, '\\nVal Loss: ', val_loss2)\n",
    "print('Train Accuracy: ', train_acc2, '\\nTrain Loss: ', train_loss2)"
   ]
  },
  {
   "cell_type": "code",
   "execution_count": 42,
   "id": "45606dec",
   "metadata": {},
   "outputs": [
    {
     "name": "stdout",
     "output_type": "stream",
     "text": [
      "5/5 [==============================] - 3s 114ms/step - loss: 0.0040 - accuracy: 1.0000\n"
     ]
    },
    {
     "data": {
      "text/plain": [
       "[0.0039862110279500484, 1.0]"
      ]
     },
     "execution_count": 42,
     "metadata": {},
     "output_type": "execute_result"
    }
   ],
   "source": [
    "model2.evaluate(test)"
   ]
  },
  {
   "cell_type": "code",
   "execution_count": 43,
   "id": "dd406254",
   "metadata": {},
   "outputs": [],
   "source": [
    "model3 = Sequential()"
   ]
  },
  {
   "cell_type": "code",
   "execution_count": 44,
   "id": "c6e5f612",
   "metadata": {},
   "outputs": [],
   "source": [
    "model3.add(Conv2D(16, (3,3), 1, activation='relu', input_shape=(256,256,3)))\n",
    "model3.add(MaxPooling2D())\n",
    "\n",
    "model3.add(Conv2D(32, (3,3), 1, activation='relu'))\n",
    "model3.add(MaxPooling2D())\n",
    "\n",
    "model3.add(Conv2D(16, (3,3), 1, activation='relu'))\n",
    "model3.add(MaxPooling2D())\n",
    "\n",
    "model3.add(Conv2D(32, (3,3), 1, activation='relu'))\n",
    "model3.add(MaxPooling2D())\n",
    "\n",
    "model3.add(Conv2D(64, (3,3), 1, activation='relu'))\n",
    "model3.add(MaxPooling2D())\n",
    "\n",
    "\n",
    "model3.add(Flatten())\n",
    "\n",
    "model3.add(Dense(256, activation='relu'))\n",
    "model3.add(Dense(128, activation='relu'))\n",
    "model3.add(Dense(6, activation='softmax'))"
   ]
  },
  {
   "cell_type": "code",
   "execution_count": 45,
   "id": "1d87f43e",
   "metadata": {},
   "outputs": [],
   "source": [
    "model3.compile('adam', loss='sparse_categorical_crossentropy', metrics=['accuracy'])"
   ]
  },
  {
   "cell_type": "code",
   "execution_count": 46,
   "id": "207c360e",
   "metadata": {},
   "outputs": [
    {
     "name": "stdout",
     "output_type": "stream",
     "text": [
      "Model: \"sequential_2\"\n",
      "_________________________________________________________________\n",
      " Layer (type)                Output Shape              Param #   \n",
      "=================================================================\n",
      " conv2d_8 (Conv2D)           (None, 254, 254, 16)      448       \n",
      "                                                                 \n",
      " max_pooling2d_8 (MaxPooling  (None, 127, 127, 16)     0         \n",
      " 2D)                                                             \n",
      "                                                                 \n",
      " conv2d_9 (Conv2D)           (None, 125, 125, 32)      4640      \n",
      "                                                                 \n",
      " max_pooling2d_9 (MaxPooling  (None, 62, 62, 32)       0         \n",
      " 2D)                                                             \n",
      "                                                                 \n",
      " conv2d_10 (Conv2D)          (None, 60, 60, 16)        4624      \n",
      "                                                                 \n",
      " max_pooling2d_10 (MaxPoolin  (None, 30, 30, 16)       0         \n",
      " g2D)                                                            \n",
      "                                                                 \n",
      " conv2d_11 (Conv2D)          (None, 28, 28, 32)        4640      \n",
      "                                                                 \n",
      " max_pooling2d_11 (MaxPoolin  (None, 14, 14, 32)       0         \n",
      " g2D)                                                            \n",
      "                                                                 \n",
      " conv2d_12 (Conv2D)          (None, 12, 12, 64)        18496     \n",
      "                                                                 \n",
      " max_pooling2d_12 (MaxPoolin  (None, 6, 6, 64)         0         \n",
      " g2D)                                                            \n",
      "                                                                 \n",
      " flatten_2 (Flatten)         (None, 2304)              0         \n",
      "                                                                 \n",
      " dense_4 (Dense)             (None, 256)               590080    \n",
      "                                                                 \n",
      " dense_5 (Dense)             (None, 128)               32896     \n",
      "                                                                 \n",
      " dense_6 (Dense)             (None, 6)                 774       \n",
      "                                                                 \n",
      "=================================================================\n",
      "Total params: 656,598\n",
      "Trainable params: 656,598\n",
      "Non-trainable params: 0\n",
      "_________________________________________________________________\n"
     ]
    }
   ],
   "source": [
    "model3.summary()"
   ]
  },
  {
   "cell_type": "code",
   "execution_count": 47,
   "id": "40e33a61",
   "metadata": {},
   "outputs": [
    {
     "name": "stdout",
     "output_type": "stream",
     "text": [
      "Epoch 1/20\n",
      "35/35 [==============================] - 26s 721ms/step - loss: 1.7954 - accuracy: 0.1616 - val_loss: 1.7916 - val_accuracy: 0.1312\n",
      "Epoch 2/20\n",
      "35/35 [==============================] - 26s 723ms/step - loss: 1.7533 - accuracy: 0.2438 - val_loss: 1.6369 - val_accuracy: 0.3688\n",
      "Epoch 3/20\n",
      "35/35 [==============================] - 27s 743ms/step - loss: 1.4201 - accuracy: 0.4420 - val_loss: 1.2031 - val_accuracy: 0.5813\n",
      "Epoch 4/20\n",
      "35/35 [==============================] - 26s 728ms/step - loss: 0.8551 - accuracy: 0.6687 - val_loss: 0.7349 - val_accuracy: 0.7719\n",
      "Epoch 5/20\n",
      "35/35 [==============================] - 26s 720ms/step - loss: 0.5008 - accuracy: 0.8393 - val_loss: 0.3574 - val_accuracy: 0.9000\n",
      "Epoch 6/20\n",
      "35/35 [==============================] - 26s 731ms/step - loss: 0.2009 - accuracy: 0.9402 - val_loss: 0.3987 - val_accuracy: 0.8969\n",
      "Epoch 7/20\n",
      "35/35 [==============================] - 78s 2s/step - loss: 0.1543 - accuracy: 0.9616 - val_loss: 0.1096 - val_accuracy: 0.9781\n",
      "Epoch 8/20\n",
      "35/35 [==============================] - 26s 737ms/step - loss: 0.0570 - accuracy: 0.9839 - val_loss: 0.0469 - val_accuracy: 0.9844\n",
      "Epoch 9/20\n",
      "35/35 [==============================] - 26s 729ms/step - loss: 0.0395 - accuracy: 0.9893 - val_loss: 0.1347 - val_accuracy: 0.9563\n",
      "Epoch 10/20\n",
      "35/35 [==============================] - 26s 726ms/step - loss: 0.0411 - accuracy: 0.9884 - val_loss: 0.1140 - val_accuracy: 0.9563\n",
      "Epoch 11/20\n",
      "35/35 [==============================] - 26s 725ms/step - loss: 0.0156 - accuracy: 0.9964 - val_loss: 0.0219 - val_accuracy: 0.9937\n",
      "Epoch 12/20\n",
      "35/35 [==============================] - 26s 723ms/step - loss: 0.0122 - accuracy: 0.9982 - val_loss: 0.2150 - val_accuracy: 0.9688\n",
      "Epoch 13/20\n",
      "35/35 [==============================] - 26s 723ms/step - loss: 0.1006 - accuracy: 0.9812 - val_loss: 0.1057 - val_accuracy: 0.9906\n",
      "Epoch 14/20\n",
      "35/35 [==============================] - 26s 718ms/step - loss: 0.0145 - accuracy: 0.9973 - val_loss: 0.0469 - val_accuracy: 0.9969\n",
      "Epoch 15/20\n",
      "35/35 [==============================] - 26s 723ms/step - loss: 0.0136 - accuracy: 0.9964 - val_loss: 0.0345 - val_accuracy: 0.9969\n",
      "Epoch 16/20\n",
      "35/35 [==============================] - 26s 729ms/step - loss: 0.0164 - accuracy: 0.9955 - val_loss: 0.0471 - val_accuracy: 0.9937\n",
      "Epoch 17/20\n",
      "35/35 [==============================] - 27s 740ms/step - loss: 0.0044 - accuracy: 0.9982 - val_loss: 0.0061 - val_accuracy: 0.9969\n",
      "Epoch 18/20\n",
      "35/35 [==============================] - 26s 723ms/step - loss: 0.0089 - accuracy: 0.9973 - val_loss: 0.0350 - val_accuracy: 0.9969\n",
      "Epoch 19/20\n",
      "35/35 [==============================] - 26s 728ms/step - loss: 0.0152 - accuracy: 0.9973 - val_loss: 0.0476 - val_accuracy: 0.9937\n",
      "Epoch 20/20\n",
      "35/35 [==============================] - 26s 723ms/step - loss: 0.0014 - accuracy: 1.0000 - val_loss: 4.3347e-04 - val_accuracy: 1.0000\n"
     ]
    }
   ],
   "source": [
    "hist3 = model3.fit(train, epochs = 20, validation_data = val)"
   ]
  },
  {
   "cell_type": "code",
   "execution_count": 48,
   "id": "66de0a54",
   "metadata": {},
   "outputs": [
    {
     "name": "stdout",
     "output_type": "stream",
     "text": [
      "10/10 [==============================] - 3s 115ms/step - loss: 0.0399 - accuracy: 0.9969\n",
      "35/35 [==============================] - 6s 148ms/step - loss: 0.0044 - accuracy: 0.9991\n",
      "Test Accuracy:  0.996874988079071 \n",
      "Test Loss:  0.03991151228547096\n",
      "Train Accuracy:  0.9991071224212646 \n",
      "Train Loss:  0.0043879542499780655\n"
     ]
    }
   ],
   "source": [
    "test_loss3, test_acc3 = model3.evaluate(val)\n",
    "train_loss3, train_acc3 = model3.evaluate(train)\n",
    "print('Val Accuracy: ', test_acc3, '\\nVal Loss: ', test_loss3)\n",
    "print('Train Accuracy: ', train_acc3, '\\nTrain Loss: ', train_loss3)"
   ]
  },
  {
   "cell_type": "code",
   "execution_count": 49,
   "id": "ce7bd609",
   "metadata": {},
   "outputs": [
    {
     "name": "stdout",
     "output_type": "stream",
     "text": [
      "5/5 [==============================] - 2s 115ms/step - loss: 3.8436e-04 - accuracy: 1.0000\n"
     ]
    },
    {
     "data": {
      "text/plain": [
       "[0.0003843567392323166, 1.0]"
      ]
     },
     "execution_count": 49,
     "metadata": {},
     "output_type": "execute_result"
    }
   ],
   "source": [
    "model3.evaluate(test)"
   ]
  },
  {
   "cell_type": "code",
   "execution_count": 50,
   "id": "6d7bc9c1",
   "metadata": {},
   "outputs": [],
   "source": [
    "model4 = Sequential()"
   ]
  },
  {
   "cell_type": "code",
   "execution_count": 51,
   "id": "fab9ecc2",
   "metadata": {},
   "outputs": [],
   "source": [
    "model4.add(Conv2D(16, (3,3), 1, activation='relu', input_shape=(256,256,3)))\n",
    "model4.add(MaxPooling2D())\n",
    "\n",
    "model4.add(Conv2D(32, (3,3), 1, activation='relu'))\n",
    "model4.add(MaxPooling2D())\n",
    "\n",
    "model4.add(Conv2D(16, (3,3), 1, activation='relu'))\n",
    "model4.add(MaxPooling2D())\n",
    "\n",
    "\n",
    "\n",
    "model4.add(Flatten())\n",
    "\n",
    "model4.add(Dense(256, activation='relu'))\n",
    "model4.add(Dense(128, activation='relu'))\n",
    "model4.add(Dense(6, activation='softmax'))"
   ]
  },
  {
   "cell_type": "code",
   "execution_count": 52,
   "id": "50a56f3c",
   "metadata": {},
   "outputs": [],
   "source": [
    "model4.compile('adam', loss='sparse_categorical_crossentropy', metrics=['accuracy'])"
   ]
  },
  {
   "cell_type": "code",
   "execution_count": 53,
   "id": "634f7fdc",
   "metadata": {},
   "outputs": [
    {
     "name": "stdout",
     "output_type": "stream",
     "text": [
      "Model: \"sequential_3\"\n",
      "_________________________________________________________________\n",
      " Layer (type)                Output Shape              Param #   \n",
      "=================================================================\n",
      " conv2d_13 (Conv2D)          (None, 254, 254, 16)      448       \n",
      "                                                                 \n",
      " max_pooling2d_13 (MaxPoolin  (None, 127, 127, 16)     0         \n",
      " g2D)                                                            \n",
      "                                                                 \n",
      " conv2d_14 (Conv2D)          (None, 125, 125, 32)      4640      \n",
      "                                                                 \n",
      " max_pooling2d_14 (MaxPoolin  (None, 62, 62, 32)       0         \n",
      " g2D)                                                            \n",
      "                                                                 \n",
      " conv2d_15 (Conv2D)          (None, 60, 60, 16)        4624      \n",
      "                                                                 \n",
      " max_pooling2d_15 (MaxPoolin  (None, 30, 30, 16)       0         \n",
      " g2D)                                                            \n",
      "                                                                 \n",
      " flatten_3 (Flatten)         (None, 14400)             0         \n",
      "                                                                 \n",
      " dense_7 (Dense)             (None, 256)               3686656   \n",
      "                                                                 \n",
      " dense_8 (Dense)             (None, 128)               32896     \n",
      "                                                                 \n",
      " dense_9 (Dense)             (None, 6)                 774       \n",
      "                                                                 \n",
      "=================================================================\n",
      "Total params: 3,730,038\n",
      "Trainable params: 3,730,038\n",
      "Non-trainable params: 0\n",
      "_________________________________________________________________\n"
     ]
    }
   ],
   "source": [
    "model4.summary()"
   ]
  },
  {
   "cell_type": "code",
   "execution_count": 54,
   "id": "4cb4ee81",
   "metadata": {},
   "outputs": [
    {
     "name": "stdout",
     "output_type": "stream",
     "text": [
      "Epoch 1/20\n",
      "35/35 [==============================] - 26s 715ms/step - loss: 1.8183 - accuracy: 0.1839 - val_loss: 1.7396 - val_accuracy: 0.4250\n",
      "Epoch 2/20\n",
      "35/35 [==============================] - 26s 709ms/step - loss: 1.5070 - accuracy: 0.4286 - val_loss: 1.1093 - val_accuracy: 0.6500\n",
      "Epoch 3/20\n",
      "35/35 [==============================] - 26s 707ms/step - loss: 0.8397 - accuracy: 0.6929 - val_loss: 0.5329 - val_accuracy: 0.8344\n",
      "Epoch 4/20\n",
      "35/35 [==============================] - 25s 705ms/step - loss: 0.3571 - accuracy: 0.8893 - val_loss: 0.2560 - val_accuracy: 0.9594\n",
      "Epoch 5/20\n",
      "35/35 [==============================] - 26s 710ms/step - loss: 0.1257 - accuracy: 0.9705 - val_loss: 0.1114 - val_accuracy: 0.9812\n",
      "Epoch 6/20\n",
      "35/35 [==============================] - 26s 710ms/step - loss: 0.0565 - accuracy: 0.9884 - val_loss: 0.0561 - val_accuracy: 0.9969\n",
      "Epoch 7/20\n",
      "35/35 [==============================] - 26s 710ms/step - loss: 0.0269 - accuracy: 0.9973 - val_loss: 0.0581 - val_accuracy: 0.9875\n",
      "Epoch 8/20\n",
      "35/35 [==============================] - 26s 707ms/step - loss: 0.0143 - accuracy: 0.9973 - val_loss: 0.0488 - val_accuracy: 0.9937\n",
      "Epoch 9/20\n",
      "35/35 [==============================] - 26s 730ms/step - loss: 0.0097 - accuracy: 0.9982 - val_loss: 0.0798 - val_accuracy: 0.9875\n",
      "Epoch 10/20\n",
      "35/35 [==============================] - 26s 718ms/step - loss: 0.0109 - accuracy: 0.9973 - val_loss: 0.0506 - val_accuracy: 0.9937\n",
      "Epoch 11/20\n",
      "35/35 [==============================] - 26s 716ms/step - loss: 0.0112 - accuracy: 0.9982 - val_loss: 0.0582 - val_accuracy: 0.9906\n",
      "Epoch 12/20\n",
      "35/35 [==============================] - 26s 712ms/step - loss: 0.0227 - accuracy: 0.9946 - val_loss: 0.0368 - val_accuracy: 0.9969\n",
      "Epoch 13/20\n",
      "35/35 [==============================] - 26s 710ms/step - loss: 0.0104 - accuracy: 0.9991 - val_loss: 0.0422 - val_accuracy: 0.9969\n",
      "Epoch 14/20\n",
      "35/35 [==============================] - 26s 713ms/step - loss: 0.0066 - accuracy: 0.9982 - val_loss: 0.0035 - val_accuracy: 1.0000\n",
      "Epoch 15/20\n",
      "35/35 [==============================] - 26s 719ms/step - loss: 0.0049 - accuracy: 0.9982 - val_loss: 0.0017 - val_accuracy: 1.0000\n",
      "Epoch 16/20\n",
      "35/35 [==============================] - 26s 729ms/step - loss: 0.0077 - accuracy: 0.9991 - val_loss: 8.2816e-04 - val_accuracy: 1.0000\n",
      "Epoch 17/20\n",
      "35/35 [==============================] - 26s 729ms/step - loss: 0.0018 - accuracy: 0.9991 - val_loss: 0.0449 - val_accuracy: 0.9969\n",
      "Epoch 18/20\n",
      "35/35 [==============================] - 26s 731ms/step - loss: 0.0124 - accuracy: 0.9982 - val_loss: 0.0339 - val_accuracy: 0.9969\n",
      "Epoch 19/20\n",
      "35/35 [==============================] - 26s 733ms/step - loss: 0.0016 - accuracy: 1.0000 - val_loss: 0.0012 - val_accuracy: 1.0000\n",
      "Epoch 20/20\n",
      "35/35 [==============================] - 26s 714ms/step - loss: 0.0050 - accuracy: 0.9982 - val_loss: 0.0029 - val_accuracy: 1.0000\n"
     ]
    }
   ],
   "source": [
    "hist4 = model4.fit(train, epochs = 20, validation_data = val)"
   ]
  },
  {
   "cell_type": "code",
   "execution_count": 55,
   "id": "fd4dd58a",
   "metadata": {},
   "outputs": [
    {
     "name": "stdout",
     "output_type": "stream",
     "text": [
      "10/10 [==============================] - 3s 123ms/step - loss: 6.3424e-04 - accuracy: 1.0000\n",
      "35/35 [==============================] - 6s 151ms/step - loss: 0.0059 - accuracy: 0.9982\n",
      "Test Accuracy:  1.0 \n",
      "Test Loss:  0.0006342426058836281\n",
      "Train Accuracy:  0.9982143044471741 \n",
      "Train Loss:  0.005937103647738695\n"
     ]
    }
   ],
   "source": [
    "test_loss4, test_acc4 = model4.evaluate(val)\n",
    "train_loss4, train_acc4 = model4.evaluate(train)\n",
    "print('Val Accuracy: ', test_acc4, '\\nVal Loss: ', test_loss4)\n",
    "print('Train Accuracy: ', train_acc4, '\\nTrain Loss: ', train_loss4)"
   ]
  },
  {
   "cell_type": "code",
   "execution_count": 56,
   "id": "39f5855e",
   "metadata": {},
   "outputs": [
    {
     "name": "stdout",
     "output_type": "stream",
     "text": [
      "5/5 [==============================] - 3s 117ms/step - loss: 7.5430e-04 - accuracy: 1.0000\n"
     ]
    },
    {
     "data": {
      "text/plain": [
       "[0.0007542973617091775, 1.0]"
      ]
     },
     "execution_count": 56,
     "metadata": {},
     "output_type": "execute_result"
    }
   ],
   "source": [
    "model4.evaluate(test)"
   ]
  },
  {
   "cell_type": "code",
   "execution_count": 57,
   "id": "f9b100bd",
   "metadata": {},
   "outputs": [],
   "source": [
    "model5 = Sequential()"
   ]
  },
  {
   "cell_type": "code",
   "execution_count": 58,
   "id": "54662e4f",
   "metadata": {},
   "outputs": [],
   "source": [
    "model5.add(Conv2D(16, (3,3), 1, activation='relu', input_shape=(256,256,3)))\n",
    "model5.add(MaxPooling2D())\n",
    "\n",
    "model5.add(Conv2D(32, (3,3), 1, activation='relu'))\n",
    "model5.add(MaxPooling2D())\n",
    "\n",
    "model5.add(Conv2D(16, (3,3), 1, activation='relu'))\n",
    "model5.add(MaxPooling2D())\n",
    "\n",
    "model5.add(Conv2D(32, (3,3), 1, activation='relu'))\n",
    "model5.add(MaxPooling2D())\n",
    "\n",
    "model5.add(Conv2D(64, (3,3), 1, activation='relu'))\n",
    "model5.add(MaxPooling2D())\n",
    "\n",
    "\n",
    "model5.add(Flatten())\n",
    "\n",
    "model5.add(Dense(256, activation='relu'))\n",
    "model5.add(Dense(6, activation='softmax'))"
   ]
  },
  {
   "cell_type": "code",
   "execution_count": 59,
   "id": "efe38894",
   "metadata": {},
   "outputs": [],
   "source": [
    "model5.compile('SGD', loss='sparse_categorical_crossentropy', metrics=['accuracy'])"
   ]
  },
  {
   "cell_type": "code",
   "execution_count": 60,
   "id": "2fc766b1",
   "metadata": {},
   "outputs": [
    {
     "name": "stdout",
     "output_type": "stream",
     "text": [
      "Model: \"sequential_4\"\n",
      "_________________________________________________________________\n",
      " Layer (type)                Output Shape              Param #   \n",
      "=================================================================\n",
      " conv2d_16 (Conv2D)          (None, 254, 254, 16)      448       \n",
      "                                                                 \n",
      " max_pooling2d_16 (MaxPoolin  (None, 127, 127, 16)     0         \n",
      " g2D)                                                            \n",
      "                                                                 \n",
      " conv2d_17 (Conv2D)          (None, 125, 125, 32)      4640      \n",
      "                                                                 \n",
      " max_pooling2d_17 (MaxPoolin  (None, 62, 62, 32)       0         \n",
      " g2D)                                                            \n",
      "                                                                 \n",
      " conv2d_18 (Conv2D)          (None, 60, 60, 16)        4624      \n",
      "                                                                 \n",
      " max_pooling2d_18 (MaxPoolin  (None, 30, 30, 16)       0         \n",
      " g2D)                                                            \n",
      "                                                                 \n",
      " conv2d_19 (Conv2D)          (None, 28, 28, 32)        4640      \n",
      "                                                                 \n",
      " max_pooling2d_19 (MaxPoolin  (None, 14, 14, 32)       0         \n",
      " g2D)                                                            \n",
      "                                                                 \n",
      " conv2d_20 (Conv2D)          (None, 12, 12, 64)        18496     \n",
      "                                                                 \n",
      " max_pooling2d_20 (MaxPoolin  (None, 6, 6, 64)         0         \n",
      " g2D)                                                            \n",
      "                                                                 \n",
      " flatten_4 (Flatten)         (None, 2304)              0         \n",
      "                                                                 \n",
      " dense_10 (Dense)            (None, 256)               590080    \n",
      "                                                                 \n",
      " dense_11 (Dense)            (None, 6)                 1542      \n",
      "                                                                 \n",
      "=================================================================\n",
      "Total params: 624,470\n",
      "Trainable params: 624,470\n",
      "Non-trainable params: 0\n",
      "_________________________________________________________________\n"
     ]
    }
   ],
   "source": [
    "model5.summary()"
   ]
  },
  {
   "cell_type": "code",
   "execution_count": 61,
   "id": "fce1ec65",
   "metadata": {},
   "outputs": [
    {
     "name": "stdout",
     "output_type": "stream",
     "text": [
      "Epoch 1/20\n",
      "35/35 [==============================] - 27s 729ms/step - loss: 1.7923 - accuracy: 0.1705 - val_loss: 1.7912 - val_accuracy: 0.1906\n",
      "Epoch 2/20\n",
      "35/35 [==============================] - 26s 719ms/step - loss: 1.7902 - accuracy: 0.1839 - val_loss: 1.7887 - val_accuracy: 0.1813\n",
      "Epoch 3/20\n",
      "35/35 [==============================] - 26s 721ms/step - loss: 1.7892 - accuracy: 0.2098 - val_loss: 1.7861 - val_accuracy: 0.2250\n",
      "Epoch 4/20\n",
      "35/35 [==============================] - 26s 716ms/step - loss: 1.7867 - accuracy: 0.2134 - val_loss: 1.7904 - val_accuracy: 0.1437\n",
      "Epoch 5/20\n",
      "35/35 [==============================] - 26s 719ms/step - loss: 1.7869 - accuracy: 0.1848 - val_loss: 1.7900 - val_accuracy: 0.1719\n",
      "Epoch 6/20\n",
      "35/35 [==============================] - 26s 714ms/step - loss: 1.7851 - accuracy: 0.2196 - val_loss: 1.7902 - val_accuracy: 0.1781\n",
      "Epoch 7/20\n",
      "35/35 [==============================] - 26s 721ms/step - loss: 1.7847 - accuracy: 0.2188 - val_loss: 1.7902 - val_accuracy: 0.1719\n",
      "Epoch 8/20\n",
      "35/35 [==============================] - 26s 718ms/step - loss: 1.7840 - accuracy: 0.2143 - val_loss: 1.7871 - val_accuracy: 0.2250\n",
      "Epoch 9/20\n",
      "35/35 [==============================] - 26s 724ms/step - loss: 1.7833 - accuracy: 0.2304 - val_loss: 1.7849 - val_accuracy: 0.2406\n",
      "Epoch 10/20\n",
      "35/35 [==============================] - 26s 732ms/step - loss: 1.7807 - accuracy: 0.2188 - val_loss: 1.7882 - val_accuracy: 0.1437\n",
      "Epoch 11/20\n",
      "35/35 [==============================] - 26s 717ms/step - loss: 1.7811 - accuracy: 0.2232 - val_loss: 1.7858 - val_accuracy: 0.1500\n",
      "Epoch 12/20\n",
      "35/35 [==============================] - 26s 726ms/step - loss: 1.7799 - accuracy: 0.2134 - val_loss: 1.7834 - val_accuracy: 0.1562\n",
      "Epoch 13/20\n",
      "35/35 [==============================] - 26s 718ms/step - loss: 1.7772 - accuracy: 0.2250 - val_loss: 1.7833 - val_accuracy: 0.1625\n",
      "Epoch 14/20\n",
      "35/35 [==============================] - 26s 725ms/step - loss: 1.7750 - accuracy: 0.2196 - val_loss: 1.7789 - val_accuracy: 0.2375\n",
      "Epoch 15/20\n",
      "35/35 [==============================] - 26s 721ms/step - loss: 1.7729 - accuracy: 0.2482 - val_loss: 1.7772 - val_accuracy: 0.2188\n",
      "Epoch 16/20\n",
      "35/35 [==============================] - 26s 721ms/step - loss: 1.7710 - accuracy: 0.2509 - val_loss: 1.7756 - val_accuracy: 0.1969\n",
      "Epoch 17/20\n",
      "35/35 [==============================] - 26s 722ms/step - loss: 1.7686 - accuracy: 0.2313 - val_loss: 1.7682 - val_accuracy: 0.3187\n",
      "Epoch 18/20\n",
      "35/35 [==============================] - 26s 722ms/step - loss: 1.7635 - accuracy: 0.2723 - val_loss: 1.7607 - val_accuracy: 0.2781\n",
      "Epoch 19/20\n",
      "35/35 [==============================] - 26s 716ms/step - loss: 1.7606 - accuracy: 0.2723 - val_loss: 1.7571 - val_accuracy: 0.2906\n",
      "Epoch 20/20\n",
      "35/35 [==============================] - 26s 717ms/step - loss: 1.7533 - accuracy: 0.2866 - val_loss: 1.7567 - val_accuracy: 0.2531\n"
     ]
    }
   ],
   "source": [
    "hist5 = model5.fit(train, epochs = 20, validation_data = val)"
   ]
  },
  {
   "cell_type": "code",
   "execution_count": 62,
   "id": "447d8d3e",
   "metadata": {},
   "outputs": [
    {
     "name": "stdout",
     "output_type": "stream",
     "text": [
      "10/10 [==============================] - 3s 119ms/step - loss: 1.7594 - accuracy: 0.2438\n",
      "35/35 [==============================] - 6s 154ms/step - loss: 1.7457 - accuracy: 0.2634\n",
      "Test Accuracy:  0.24375000596046448 \n",
      "Test Loss:  1.759416937828064\n",
      "Train Accuracy:  0.2633928656578064 \n",
      "Train Loss:  1.7456822395324707\n"
     ]
    }
   ],
   "source": [
    "test_loss5, test_acc5 = model5.evaluate(val)\n",
    "train_loss5, train_acc5 = model5.evaluate(train)\n",
    "print('Val Accuracy: ', test_acc5, '\\nVal Loss: ', test_loss5)\n",
    "print('Train Accuracy: ', train_acc5, '\\nTrain Loss: ', train_loss5)"
   ]
  },
  {
   "cell_type": "code",
   "execution_count": 63,
   "id": "f25a18a0",
   "metadata": {},
   "outputs": [
    {
     "name": "stdout",
     "output_type": "stream",
     "text": [
      "5/5 [==============================] - 3s 121ms/step - loss: 1.7705 - accuracy: 0.2375\n"
     ]
    },
    {
     "data": {
      "text/plain": [
       "[1.7705272436141968, 0.23749999701976776]"
      ]
     },
     "execution_count": 63,
     "metadata": {},
     "output_type": "execute_result"
    }
   ],
   "source": [
    "model5.evaluate(test)"
   ]
  },
  {
   "cell_type": "code",
   "execution_count": 64,
   "id": "c8c831a5",
   "metadata": {},
   "outputs": [],
   "source": [
    "model6 = Sequential()"
   ]
  },
  {
   "cell_type": "code",
   "execution_count": 65,
   "id": "1d76118e",
   "metadata": {},
   "outputs": [],
   "source": [
    "model6.add(Conv2D(16, (3,3), 1, activation='relu', input_shape=(256,256,3)))\n",
    "model6.add(MaxPooling2D())\n",
    "\n",
    "model6.add(Conv2D(32, (3,3), 1, activation='relu'))\n",
    "model6.add(MaxPooling2D())\n",
    "\n",
    "model6.add(Conv2D(16, (3,3), 1, activation='relu'))\n",
    "model6.add(MaxPooling2D())\n",
    "\n",
    "\n",
    "\n",
    "model6.add(Flatten())\n",
    "\n",
    "model6.add(Dense(256, activation='relu'))\n",
    "model6.add(Dense(6, activation='softmax'))"
   ]
  },
  {
   "cell_type": "code",
   "execution_count": 66,
   "id": "6676bdb8",
   "metadata": {},
   "outputs": [],
   "source": [
    "model6.compile('SGD', loss='sparse_categorical_crossentropy', metrics=['accuracy'])"
   ]
  },
  {
   "cell_type": "code",
   "execution_count": 67,
   "id": "0a55e770",
   "metadata": {},
   "outputs": [
    {
     "name": "stdout",
     "output_type": "stream",
     "text": [
      "Model: \"sequential_5\"\n",
      "_________________________________________________________________\n",
      " Layer (type)                Output Shape              Param #   \n",
      "=================================================================\n",
      " conv2d_21 (Conv2D)          (None, 254, 254, 16)      448       \n",
      "                                                                 \n",
      " max_pooling2d_21 (MaxPoolin  (None, 127, 127, 16)     0         \n",
      " g2D)                                                            \n",
      "                                                                 \n",
      " conv2d_22 (Conv2D)          (None, 125, 125, 32)      4640      \n",
      "                                                                 \n",
      " max_pooling2d_22 (MaxPoolin  (None, 62, 62, 32)       0         \n",
      " g2D)                                                            \n",
      "                                                                 \n",
      " conv2d_23 (Conv2D)          (None, 60, 60, 16)        4624      \n",
      "                                                                 \n",
      " max_pooling2d_23 (MaxPoolin  (None, 30, 30, 16)       0         \n",
      " g2D)                                                            \n",
      "                                                                 \n",
      " flatten_5 (Flatten)         (None, 14400)             0         \n",
      "                                                                 \n",
      " dense_12 (Dense)            (None, 256)               3686656   \n",
      "                                                                 \n",
      " dense_13 (Dense)            (None, 6)                 1542      \n",
      "                                                                 \n",
      "=================================================================\n",
      "Total params: 3,697,910\n",
      "Trainable params: 3,697,910\n",
      "Non-trainable params: 0\n",
      "_________________________________________________________________\n"
     ]
    }
   ],
   "source": [
    "model6.summary()"
   ]
  },
  {
   "cell_type": "code",
   "execution_count": 68,
   "id": "b1122e8f",
   "metadata": {},
   "outputs": [
    {
     "name": "stdout",
     "output_type": "stream",
     "text": [
      "Epoch 1/20\n",
      "35/35 [==============================] - 26s 712ms/step - loss: 1.7897 - accuracy: 0.1696 - val_loss: 1.7854 - val_accuracy: 0.2313\n",
      "Epoch 2/20\n",
      "35/35 [==============================] - 26s 711ms/step - loss: 1.7787 - accuracy: 0.2125 - val_loss: 1.7731 - val_accuracy: 0.2375\n",
      "Epoch 3/20\n",
      "35/35 [==============================] - 26s 712ms/step - loss: 1.7693 - accuracy: 0.2554 - val_loss: 1.7652 - val_accuracy: 0.2531\n",
      "Epoch 4/20\n",
      "35/35 [==============================] - 26s 708ms/step - loss: 1.7568 - accuracy: 0.2964 - val_loss: 1.7483 - val_accuracy: 0.3063\n",
      "Epoch 5/20\n",
      "35/35 [==============================] - 26s 711ms/step - loss: 1.7359 - accuracy: 0.3259 - val_loss: 1.7268 - val_accuracy: 0.3656\n",
      "Epoch 6/20\n",
      "35/35 [==============================] - 25s 707ms/step - loss: 1.7025 - accuracy: 0.3446 - val_loss: 1.6700 - val_accuracy: 0.3000\n",
      "Epoch 7/20\n",
      "35/35 [==============================] - 26s 708ms/step - loss: 1.6464 - accuracy: 0.3768 - val_loss: 1.6305 - val_accuracy: 0.3250\n",
      "Epoch 8/20\n",
      "35/35 [==============================] - 26s 707ms/step - loss: 1.5660 - accuracy: 0.3804 - val_loss: 1.5077 - val_accuracy: 0.5156\n",
      "Epoch 9/20\n",
      "35/35 [==============================] - 26s 708ms/step - loss: 1.4382 - accuracy: 0.4821 - val_loss: 1.3360 - val_accuracy: 0.5156\n",
      "Epoch 10/20\n",
      "35/35 [==============================] - 26s 709ms/step - loss: 1.2552 - accuracy: 0.5607 - val_loss: 1.1708 - val_accuracy: 0.6156\n",
      "Epoch 11/20\n",
      "35/35 [==============================] - 25s 704ms/step - loss: 1.0386 - accuracy: 0.6607 - val_loss: 0.9903 - val_accuracy: 0.6781\n",
      "Epoch 12/20\n",
      "35/35 [==============================] - 25s 706ms/step - loss: 0.8470 - accuracy: 0.7232 - val_loss: 0.8368 - val_accuracy: 0.6750\n",
      "Epoch 13/20\n",
      "35/35 [==============================] - 26s 715ms/step - loss: 0.6321 - accuracy: 0.7884 - val_loss: 0.5592 - val_accuracy: 0.8438\n",
      "Epoch 14/20\n",
      "35/35 [==============================] - 25s 705ms/step - loss: 0.4676 - accuracy: 0.8598 - val_loss: 0.4141 - val_accuracy: 0.8906\n",
      "Epoch 15/20\n",
      "35/35 [==============================] - 26s 722ms/step - loss: 0.3238 - accuracy: 0.9080 - val_loss: 0.3060 - val_accuracy: 0.9094\n",
      "Epoch 16/20\n",
      "35/35 [==============================] - 25s 705ms/step - loss: 0.2344 - accuracy: 0.9384 - val_loss: 0.2533 - val_accuracy: 0.9312\n",
      "Epoch 17/20\n",
      "35/35 [==============================] - 25s 704ms/step - loss: 0.1381 - accuracy: 0.9696 - val_loss: 0.1371 - val_accuracy: 0.9594\n",
      "Epoch 18/20\n",
      "35/35 [==============================] - 26s 720ms/step - loss: 0.1212 - accuracy: 0.9723 - val_loss: 0.1183 - val_accuracy: 0.9906\n",
      "Epoch 19/20\n",
      "35/35 [==============================] - 26s 724ms/step - loss: 0.0918 - accuracy: 0.9804 - val_loss: 0.1041 - val_accuracy: 0.9812\n",
      "Epoch 20/20\n",
      "35/35 [==============================] - 26s 721ms/step - loss: 0.0749 - accuracy: 0.9857 - val_loss: 0.0910 - val_accuracy: 0.9875\n"
     ]
    }
   ],
   "source": [
    "hist6 = model6.fit(train, epochs = 20, validation_data = val)"
   ]
  },
  {
   "cell_type": "code",
   "execution_count": 69,
   "id": "a4a5b5ab",
   "metadata": {},
   "outputs": [
    {
     "name": "stdout",
     "output_type": "stream",
     "text": [
      "10/10 [==============================] - 3s 115ms/step - loss: 0.0798 - accuracy: 0.9969\n",
      "35/35 [==============================] - 6s 150ms/step - loss: 0.0496 - accuracy: 0.9884\n",
      "Test Accuracy:  0.996874988079071 \n",
      "Test Loss:  0.0797799825668335\n",
      "Train Accuracy:  0.9883928298950195 \n",
      "Train Loss:  0.049588579684495926\n"
     ]
    }
   ],
   "source": [
    "test_loss6, test_acc6 = model6.evaluate(val)\n",
    "train_loss6, train_acc6 = model6.evaluate(train)\n",
    "print('Val Accuracy: ', test_acc6, '\\nVal Loss: ', test_loss6)\n",
    "print('Train Accuracy: ', train_acc6, '\\nTrain Loss: ', train_loss6)"
   ]
  },
  {
   "cell_type": "code",
   "execution_count": 70,
   "id": "71d890c9",
   "metadata": {},
   "outputs": [
    {
     "name": "stdout",
     "output_type": "stream",
     "text": [
      "5/5 [==============================] - 2s 115ms/step - loss: 0.0683 - accuracy: 0.9812\n"
     ]
    },
    {
     "data": {
      "text/plain": [
       "[0.06828886270523071, 0.981249988079071]"
      ]
     },
     "execution_count": 70,
     "metadata": {},
     "output_type": "execute_result"
    }
   ],
   "source": [
    "model6.evaluate(test)"
   ]
  },
  {
   "cell_type": "code",
   "execution_count": 71,
   "id": "9e087e87",
   "metadata": {},
   "outputs": [],
   "source": [
    "model7 = Sequential()"
   ]
  },
  {
   "cell_type": "code",
   "execution_count": 72,
   "id": "7c0163f0",
   "metadata": {},
   "outputs": [],
   "source": [
    "model7.add(Conv2D(16, (5,5), 1, activation='relu', input_shape=(256,256,3)))\n",
    "model7.add(MaxPooling2D())\n",
    "\n",
    "model7.add(Conv2D(32, (5,5), 1, activation='relu'))\n",
    "model7.add(MaxPooling2D())\n",
    "\n",
    "model7.add(Conv2D(16, (5,5), 1, activation='relu'))\n",
    "model7.add(MaxPooling2D())\n",
    "\n",
    "model7.add(Conv2D(32, (5,5), 1, activation='relu'))\n",
    "model7.add(MaxPooling2D())\n",
    "\n",
    "model7.add(Conv2D(64, (5,5), 1, activation='relu'))\n",
    "model7.add(MaxPooling2D())\n",
    "\n",
    "\n",
    "model7.add(Flatten())\n",
    "\n",
    "model7.add(Dense(256, activation='relu'))\n",
    "model7.add(Dense(6, activation='softmax'))"
   ]
  },
  {
   "cell_type": "code",
   "execution_count": 73,
   "id": "42879658",
   "metadata": {},
   "outputs": [],
   "source": [
    "model7.compile('adam', loss='sparse_categorical_crossentropy', metrics=['accuracy'])"
   ]
  },
  {
   "cell_type": "code",
   "execution_count": 74,
   "id": "f562808f",
   "metadata": {},
   "outputs": [
    {
     "name": "stdout",
     "output_type": "stream",
     "text": [
      "Model: \"sequential_6\"\n",
      "_________________________________________________________________\n",
      " Layer (type)                Output Shape              Param #   \n",
      "=================================================================\n",
      " conv2d_24 (Conv2D)          (None, 252, 252, 16)      1216      \n",
      "                                                                 \n",
      " max_pooling2d_24 (MaxPoolin  (None, 126, 126, 16)     0         \n",
      " g2D)                                                            \n",
      "                                                                 \n",
      " conv2d_25 (Conv2D)          (None, 122, 122, 32)      12832     \n",
      "                                                                 \n",
      " max_pooling2d_25 (MaxPoolin  (None, 61, 61, 32)       0         \n",
      " g2D)                                                            \n",
      "                                                                 \n",
      " conv2d_26 (Conv2D)          (None, 57, 57, 16)        12816     \n",
      "                                                                 \n",
      " max_pooling2d_26 (MaxPoolin  (None, 28, 28, 16)       0         \n",
      " g2D)                                                            \n",
      "                                                                 \n",
      " conv2d_27 (Conv2D)          (None, 24, 24, 32)        12832     \n",
      "                                                                 \n",
      " max_pooling2d_27 (MaxPoolin  (None, 12, 12, 32)       0         \n",
      " g2D)                                                            \n",
      "                                                                 \n",
      " conv2d_28 (Conv2D)          (None, 8, 8, 64)          51264     \n",
      "                                                                 \n",
      " max_pooling2d_28 (MaxPoolin  (None, 4, 4, 64)         0         \n",
      " g2D)                                                            \n",
      "                                                                 \n",
      " flatten_6 (Flatten)         (None, 1024)              0         \n",
      "                                                                 \n",
      " dense_14 (Dense)            (None, 256)               262400    \n",
      "                                                                 \n",
      " dense_15 (Dense)            (None, 6)                 1542      \n",
      "                                                                 \n",
      "=================================================================\n",
      "Total params: 354,902\n",
      "Trainable params: 354,902\n",
      "Non-trainable params: 0\n",
      "_________________________________________________________________\n"
     ]
    }
   ],
   "source": [
    "model7.summary()"
   ]
  },
  {
   "cell_type": "code",
   "execution_count": 75,
   "id": "f794c1c5",
   "metadata": {},
   "outputs": [
    {
     "name": "stdout",
     "output_type": "stream",
     "text": [
      "Epoch 1/20\n",
      "35/35 [==============================] - 44s 1s/step - loss: 1.7950 - accuracy: 0.1607 - val_loss: 1.7937 - val_accuracy: 0.1344\n",
      "Epoch 2/20\n",
      "35/35 [==============================] - 41s 1s/step - loss: 1.7916 - accuracy: 0.1679 - val_loss: 1.7963 - val_accuracy: 0.1344\n",
      "Epoch 3/20\n",
      "35/35 [==============================] - 42s 1s/step - loss: 1.7919 - accuracy: 0.1741 - val_loss: 1.7933 - val_accuracy: 0.1531\n",
      "Epoch 4/20\n",
      "35/35 [==============================] - 41s 1s/step - loss: 1.7916 - accuracy: 0.1688 - val_loss: 1.7929 - val_accuracy: 0.1719\n",
      "Epoch 5/20\n",
      "35/35 [==============================] - 43s 1s/step - loss: 1.7915 - accuracy: 0.1777 - val_loss: 1.7912 - val_accuracy: 0.1594\n",
      "Epoch 6/20\n",
      "35/35 [==============================] - 41s 1s/step - loss: 1.7923 - accuracy: 0.1759 - val_loss: 1.7947 - val_accuracy: 0.1656\n",
      "Epoch 7/20\n",
      "35/35 [==============================] - 41s 1s/step - loss: 1.7914 - accuracy: 0.1768 - val_loss: 1.7945 - val_accuracy: 0.1469\n",
      "Epoch 8/20\n",
      "35/35 [==============================] - 41s 1s/step - loss: 1.7913 - accuracy: 0.1786 - val_loss: 1.7951 - val_accuracy: 0.1375\n",
      "Epoch 9/20\n",
      "35/35 [==============================] - 41s 1s/step - loss: 1.7907 - accuracy: 0.1830 - val_loss: 1.7958 - val_accuracy: 0.1562\n",
      "Epoch 10/20\n",
      "35/35 [==============================] - 41s 1s/step - loss: 1.7906 - accuracy: 0.1821 - val_loss: 1.7958 - val_accuracy: 0.1562\n",
      "Epoch 11/20\n",
      "35/35 [==============================] - 41s 1s/step - loss: 1.7917 - accuracy: 0.1705 - val_loss: 1.7970 - val_accuracy: 0.1500\n",
      "Epoch 12/20\n",
      "35/35 [==============================] - 41s 1s/step - loss: 1.7907 - accuracy: 0.1804 - val_loss: 1.7962 - val_accuracy: 0.1469\n",
      "Epoch 13/20\n",
      "35/35 [==============================] - 41s 1s/step - loss: 1.7916 - accuracy: 0.1777 - val_loss: 1.7977 - val_accuracy: 0.1437\n",
      "Epoch 14/20\n",
      "35/35 [==============================] - 41s 1s/step - loss: 1.7907 - accuracy: 0.1732 - val_loss: 1.7949 - val_accuracy: 0.1562\n",
      "Epoch 15/20\n",
      "35/35 [==============================] - 41s 1s/step - loss: 1.7915 - accuracy: 0.1750 - val_loss: 1.7964 - val_accuracy: 0.1469\n",
      "Epoch 16/20\n",
      "35/35 [==============================] - 41s 1s/step - loss: 1.7909 - accuracy: 0.1750 - val_loss: 1.7960 - val_accuracy: 0.1625\n",
      "Epoch 17/20\n",
      "35/35 [==============================] - 41s 1s/step - loss: 1.7911 - accuracy: 0.1786 - val_loss: 1.7943 - val_accuracy: 0.1594\n",
      "Epoch 18/20\n",
      "35/35 [==============================] - 41s 1s/step - loss: 1.7916 - accuracy: 0.1732 - val_loss: 1.7966 - val_accuracy: 0.1312\n",
      "Epoch 19/20\n",
      "35/35 [==============================] - 41s 1s/step - loss: 1.7903 - accuracy: 0.1670 - val_loss: 1.7981 - val_accuracy: 0.1375\n",
      "Epoch 20/20\n",
      "35/35 [==============================] - 41s 1s/step - loss: 1.7911 - accuracy: 0.1527 - val_loss: 1.7970 - val_accuracy: 0.1312\n"
     ]
    }
   ],
   "source": [
    "hist7 = model7.fit(train, epochs = 20, validation_data = val)"
   ]
  },
  {
   "cell_type": "code",
   "execution_count": 76,
   "id": "cf5034e6",
   "metadata": {},
   "outputs": [
    {
     "name": "stdout",
     "output_type": "stream",
     "text": [
      "10/10 [==============================] - 3s 155ms/step - loss: 1.7973 - accuracy: 0.1437\n",
      "35/35 [==============================] - 7s 182ms/step - loss: 1.7902 - accuracy: 0.1750\n",
      "Test Accuracy:  0.14374999701976776 \n",
      "Test Loss:  1.7973222732543945\n",
      "Train Accuracy:  0.17499999701976776 \n",
      "Train Loss:  1.790178894996643\n"
     ]
    }
   ],
   "source": [
    "test_loss7, test_acc7 = model7.evaluate(val)\n",
    "train_loss7, train_acc7 = model7.evaluate(train)\n",
    "print('Val Accuracy: ', test_acc7, '\\nVal Loss: ', test_loss7)\n",
    "print('Train Accuracy: ', train_acc7, '\\nTrain Loss: ', train_loss7)"
   ]
  },
  {
   "cell_type": "code",
   "execution_count": 77,
   "id": "5628b9ba",
   "metadata": {},
   "outputs": [
    {
     "name": "stdout",
     "output_type": "stream",
     "text": [
      "5/5 [==============================] - 3s 146ms/step - loss: 1.8025 - accuracy: 0.1063\n"
     ]
    },
    {
     "data": {
      "text/plain": [
       "[1.8024801015853882, 0.10625000298023224]"
      ]
     },
     "execution_count": 77,
     "metadata": {},
     "output_type": "execute_result"
    }
   ],
   "source": [
    "model7.evaluate(test)"
   ]
  },
  {
   "cell_type": "code",
   "execution_count": 78,
   "id": "2d949061",
   "metadata": {},
   "outputs": [],
   "source": [
    "model8 = Sequential()"
   ]
  },
  {
   "cell_type": "code",
   "execution_count": 79,
   "id": "88b24abf",
   "metadata": {},
   "outputs": [],
   "source": [
    "model8.add(Conv2D(16, (5,5), 1, activation='relu', input_shape=(256,256,3)))\n",
    "model8.add(MaxPooling2D())\n",
    "\n",
    "model8.add(Conv2D(32, (5,5), 1, activation='relu'))\n",
    "model8.add(MaxPooling2D())\n",
    "\n",
    "model8.add(Conv2D(16, (5,5), 1, activation='relu'))\n",
    "model8.add(MaxPooling2D())\n",
    "\n",
    "\n",
    "\n",
    "model8.add(Flatten())\n",
    "\n",
    "model8.add(Dense(256, activation='relu'))\n",
    "model8.add(Dense(6, activation='softmax'))"
   ]
  },
  {
   "cell_type": "code",
   "execution_count": 80,
   "id": "9ce97e24",
   "metadata": {},
   "outputs": [],
   "source": [
    "model8.compile('adam', loss='sparse_categorical_crossentropy', metrics=['accuracy'])"
   ]
  },
  {
   "cell_type": "code",
   "execution_count": 81,
   "id": "27eceb85",
   "metadata": {},
   "outputs": [
    {
     "name": "stdout",
     "output_type": "stream",
     "text": [
      "Model: \"sequential_7\"\n",
      "_________________________________________________________________\n",
      " Layer (type)                Output Shape              Param #   \n",
      "=================================================================\n",
      " conv2d_29 (Conv2D)          (None, 252, 252, 16)      1216      \n",
      "                                                                 \n",
      " max_pooling2d_29 (MaxPoolin  (None, 126, 126, 16)     0         \n",
      " g2D)                                                            \n",
      "                                                                 \n",
      " conv2d_30 (Conv2D)          (None, 122, 122, 32)      12832     \n",
      "                                                                 \n",
      " max_pooling2d_30 (MaxPoolin  (None, 61, 61, 32)       0         \n",
      " g2D)                                                            \n",
      "                                                                 \n",
      " conv2d_31 (Conv2D)          (None, 57, 57, 16)        12816     \n",
      "                                                                 \n",
      " max_pooling2d_31 (MaxPoolin  (None, 28, 28, 16)       0         \n",
      " g2D)                                                            \n",
      "                                                                 \n",
      " flatten_7 (Flatten)         (None, 12544)             0         \n",
      "                                                                 \n",
      " dense_16 (Dense)            (None, 256)               3211520   \n",
      "                                                                 \n",
      " dense_17 (Dense)            (None, 6)                 1542      \n",
      "                                                                 \n",
      "=================================================================\n",
      "Total params: 3,239,926\n",
      "Trainable params: 3,239,926\n",
      "Non-trainable params: 0\n",
      "_________________________________________________________________\n"
     ]
    }
   ],
   "source": [
    "model8.summary()"
   ]
  },
  {
   "cell_type": "code",
   "execution_count": 82,
   "id": "92c0c7ee",
   "metadata": {},
   "outputs": [
    {
     "name": "stdout",
     "output_type": "stream",
     "text": [
      "Epoch 1/20\n",
      "35/35 [==============================] - 41s 1s/step - loss: 1.8290 - accuracy: 0.1982 - val_loss: 1.7679 - val_accuracy: 0.2875\n",
      "Epoch 2/20\n",
      "35/35 [==============================] - 41s 1s/step - loss: 1.5829 - accuracy: 0.3652 - val_loss: 1.1399 - val_accuracy: 0.5938\n",
      "Epoch 3/20\n",
      "35/35 [==============================] - 41s 1s/step - loss: 0.9141 - accuracy: 0.6750 - val_loss: 0.6117 - val_accuracy: 0.8000\n",
      "Epoch 4/20\n",
      "35/35 [==============================] - 41s 1s/step - loss: 0.4770 - accuracy: 0.8438 - val_loss: 0.2183 - val_accuracy: 0.9219\n",
      "Epoch 5/20\n",
      "35/35 [==============================] - 41s 1s/step - loss: 0.2811 - accuracy: 0.9036 - val_loss: 0.2997 - val_accuracy: 0.9563\n",
      "Epoch 6/20\n",
      "35/35 [==============================] - 41s 1s/step - loss: 0.0807 - accuracy: 0.9857 - val_loss: 0.1016 - val_accuracy: 0.9844\n",
      "Epoch 7/20\n",
      "35/35 [==============================] - 41s 1s/step - loss: 0.0356 - accuracy: 0.9920 - val_loss: 0.1257 - val_accuracy: 0.9625\n",
      "Epoch 8/20\n",
      "35/35 [==============================] - 40s 1s/step - loss: 0.0372 - accuracy: 0.9920 - val_loss: 0.0836 - val_accuracy: 0.9937\n",
      "Epoch 9/20\n",
      "35/35 [==============================] - 41s 1s/step - loss: 0.0515 - accuracy: 0.9884 - val_loss: 0.1324 - val_accuracy: 0.9750\n",
      "Epoch 10/20\n",
      "35/35 [==============================] - 41s 1s/step - loss: 0.0337 - accuracy: 0.9911 - val_loss: 0.0141 - val_accuracy: 0.9937\n",
      "Epoch 11/20\n",
      "35/35 [==============================] - 41s 1s/step - loss: 0.0234 - accuracy: 0.9955 - val_loss: 0.0930 - val_accuracy: 0.9844\n",
      "Epoch 12/20\n",
      "35/35 [==============================] - 40s 1s/step - loss: 0.0264 - accuracy: 0.9955 - val_loss: 0.0433 - val_accuracy: 0.9906\n",
      "Epoch 13/20\n",
      "35/35 [==============================] - 41s 1s/step - loss: 0.0126 - accuracy: 0.9973 - val_loss: 0.0021 - val_accuracy: 1.0000\n",
      "Epoch 14/20\n",
      "35/35 [==============================] - 41s 1s/step - loss: 0.0277 - accuracy: 0.9929 - val_loss: 0.0536 - val_accuracy: 0.9969\n",
      "Epoch 15/20\n",
      "35/35 [==============================] - 41s 1s/step - loss: 0.0412 - accuracy: 0.9929 - val_loss: 0.0141 - val_accuracy: 0.9937\n",
      "Epoch 16/20\n",
      "35/35 [==============================] - 40s 1s/step - loss: 0.0127 - accuracy: 0.9982 - val_loss: 0.0443 - val_accuracy: 0.9969\n",
      "Epoch 17/20\n",
      "35/35 [==============================] - 42s 1s/step - loss: 0.0096 - accuracy: 0.9991 - val_loss: 0.0753 - val_accuracy: 0.9937\n",
      "Epoch 18/20\n",
      "35/35 [==============================] - 41s 1s/step - loss: 0.0128 - accuracy: 0.9982 - val_loss: 8.9809e-04 - val_accuracy: 1.0000\n",
      "Epoch 19/20\n",
      "35/35 [==============================] - 41s 1s/step - loss: 0.0088 - accuracy: 0.9982 - val_loss: 0.0426 - val_accuracy: 0.9969\n",
      "Epoch 20/20\n",
      "35/35 [==============================] - 41s 1s/step - loss: 0.0055 - accuracy: 0.9973 - val_loss: 0.0499 - val_accuracy: 0.9969\n"
     ]
    }
   ],
   "source": [
    "hist8 = model8.fit(train, epochs = 20, validation_data = val)"
   ]
  },
  {
   "cell_type": "code",
   "execution_count": 83,
   "id": "24486d97",
   "metadata": {},
   "outputs": [
    {
     "name": "stdout",
     "output_type": "stream",
     "text": [
      "10/10 [==============================] - 3s 144ms/step - loss: 5.7902e-04 - accuracy: 1.0000\n",
      "35/35 [==============================] - 7s 181ms/step - loss: 0.0040 - accuracy: 0.9991\n",
      "Test Accuracy:  1.0 \n",
      "Test Loss:  0.0005790179711766541\n",
      "Train Accuracy:  0.9991071224212646 \n",
      "Train Loss:  0.003998609725385904\n"
     ]
    }
   ],
   "source": [
    "test_loss8, test_acc8 = model8.evaluate(val)\n",
    "train_loss8, train_acc8 = model8.evaluate(train)\n",
    "print('Val Accuracy: ', test_acc8, '\\nVal Loss: ', test_loss8)\n",
    "print('Train Accuracy: ', train_acc8, '\\nTrain Loss: ', train_loss8)"
   ]
  },
  {
   "cell_type": "code",
   "execution_count": 84,
   "id": "80106093",
   "metadata": {},
   "outputs": [
    {
     "name": "stdout",
     "output_type": "stream",
     "text": [
      "5/5 [==============================] - 3s 151ms/step - loss: 0.0993 - accuracy: 0.9937\n"
     ]
    },
    {
     "data": {
      "text/plain": [
       "[0.09934603422880173, 0.9937499761581421]"
      ]
     },
     "execution_count": 84,
     "metadata": {},
     "output_type": "execute_result"
    }
   ],
   "source": [
    "model8.evaluate(test)"
   ]
  },
  {
   "cell_type": "code",
   "execution_count": 23,
   "id": "087a930c",
   "metadata": {},
   "outputs": [],
   "source": [
    "model9 = Sequential()"
   ]
  },
  {
   "cell_type": "code",
   "execution_count": 24,
   "id": "d0a5cf11",
   "metadata": {},
   "outputs": [],
   "source": [
    "model9.add(Conv2D(16, (3,3), 1, activation='relu', input_shape=(256,256,3)))\n",
    "model9.add(MaxPooling2D())\n",
    "\n",
    "model9.add(Conv2D(32, (3,3), 1, activation='relu'))\n",
    "model9.add(MaxPooling2D())\n",
    "\n",
    "model9.add(Conv2D(16, (3,3), 1, activation='relu'))\n",
    "model9.add(MaxPooling2D())\n",
    "\n",
    "model9.add(Conv2D(32, (3,3), 1, activation='relu'))\n",
    "model9.add(MaxPooling2D())\n",
    "\n",
    "model9.add(Conv2D(64, (3,3), 1, activation='relu'))\n",
    "model9.add(MaxPooling2D())\n",
    "\n",
    "\n",
    "model9.add(Flatten())\n",
    "\n",
    "model9.add(Dense(256, activation='relu'))\n",
    "model9.add(Dropout(0.5))\n",
    "model9.add(Dense(6, activation='softmax'))"
   ]
  },
  {
   "cell_type": "code",
   "execution_count": 25,
   "id": "545386b2",
   "metadata": {},
   "outputs": [],
   "source": [
    "model9.compile('adam', loss='sparse_categorical_crossentropy', metrics=['accuracy'])"
   ]
  },
  {
   "cell_type": "code",
   "execution_count": 26,
   "id": "ecd110f1",
   "metadata": {},
   "outputs": [
    {
     "name": "stdout",
     "output_type": "stream",
     "text": [
      "Model: \"sequential_2\"\n",
      "_________________________________________________________________\n",
      " Layer (type)                Output Shape              Param #   \n",
      "=================================================================\n",
      " conv2d_12 (Conv2D)          (None, 254, 254, 16)      448       \n",
      "                                                                 \n",
      " max_pooling2d_10 (MaxPoolin  (None, 127, 127, 16)     0         \n",
      " g2D)                                                            \n",
      "                                                                 \n",
      " conv2d_13 (Conv2D)          (None, 125, 125, 32)      4640      \n",
      "                                                                 \n",
      " max_pooling2d_11 (MaxPoolin  (None, 62, 62, 32)       0         \n",
      " g2D)                                                            \n",
      "                                                                 \n",
      " conv2d_14 (Conv2D)          (None, 60, 60, 16)        4624      \n",
      "                                                                 \n",
      " max_pooling2d_12 (MaxPoolin  (None, 30, 30, 16)       0         \n",
      " g2D)                                                            \n",
      "                                                                 \n",
      " conv2d_15 (Conv2D)          (None, 28, 28, 32)        4640      \n",
      "                                                                 \n",
      " max_pooling2d_13 (MaxPoolin  (None, 14, 14, 32)       0         \n",
      " g2D)                                                            \n",
      "                                                                 \n",
      " conv2d_16 (Conv2D)          (None, 12, 12, 64)        18496     \n",
      "                                                                 \n",
      " max_pooling2d_14 (MaxPoolin  (None, 6, 6, 64)         0         \n",
      " g2D)                                                            \n",
      "                                                                 \n",
      " flatten_2 (Flatten)         (None, 2304)              0         \n",
      "                                                                 \n",
      " dense_3 (Dense)             (None, 256)               590080    \n",
      "                                                                 \n",
      " dropout (Dropout)           (None, 256)               0         \n",
      "                                                                 \n",
      " dense_4 (Dense)             (None, 6)                 1542      \n",
      "                                                                 \n",
      "=================================================================\n",
      "Total params: 624,470\n",
      "Trainable params: 624,470\n",
      "Non-trainable params: 0\n",
      "_________________________________________________________________\n"
     ]
    }
   ],
   "source": [
    "model9.summary()"
   ]
  },
  {
   "cell_type": "code",
   "execution_count": 27,
   "id": "63dd90e7",
   "metadata": {},
   "outputs": [
    {
     "name": "stdout",
     "output_type": "stream",
     "text": [
      "Epoch 1/20\n",
      "35/35 [==============================] - 26s 698ms/step - loss: 1.7949 - accuracy: 0.1866 - val_loss: 1.7928 - val_accuracy: 0.1719\n",
      "Epoch 2/20\n",
      "35/35 [==============================] - 25s 701ms/step - loss: 1.7939 - accuracy: 0.1625 - val_loss: 1.7901 - val_accuracy: 0.1781\n",
      "Epoch 3/20\n",
      "35/35 [==============================] - 25s 693ms/step - loss: 1.7925 - accuracy: 0.1554 - val_loss: 1.7908 - val_accuracy: 0.1781\n",
      "Epoch 4/20\n",
      "35/35 [==============================] - 25s 696ms/step - loss: 1.7923 - accuracy: 0.1429 - val_loss: 1.7911 - val_accuracy: 0.2000\n",
      "Epoch 5/20\n",
      "35/35 [==============================] - 25s 692ms/step - loss: 1.7837 - accuracy: 0.1973 - val_loss: 1.7645 - val_accuracy: 0.2062\n",
      "Epoch 6/20\n",
      "35/35 [==============================] - 25s 700ms/step - loss: 1.6711 - accuracy: 0.2804 - val_loss: 1.4791 - val_accuracy: 0.4625\n",
      "Epoch 7/20\n",
      "35/35 [==============================] - 26s 711ms/step - loss: 1.3214 - accuracy: 0.4804 - val_loss: 0.8156 - val_accuracy: 0.7250\n",
      "Epoch 8/20\n",
      "35/35 [==============================] - 26s 716ms/step - loss: 0.7396 - accuracy: 0.7366 - val_loss: 0.4125 - val_accuracy: 0.8750\n",
      "Epoch 9/20\n",
      "35/35 [==============================] - 26s 718ms/step - loss: 0.3637 - accuracy: 0.8723 - val_loss: 0.1255 - val_accuracy: 0.9688\n",
      "Epoch 10/20\n",
      "35/35 [==============================] - 26s 715ms/step - loss: 0.1860 - accuracy: 0.9348 - val_loss: 0.0538 - val_accuracy: 0.9937\n",
      "Epoch 11/20\n",
      "35/35 [==============================] - 26s 720ms/step - loss: 0.1201 - accuracy: 0.9634 - val_loss: 0.0404 - val_accuracy: 0.9937\n",
      "Epoch 12/20\n",
      "35/35 [==============================] - 26s 721ms/step - loss: 0.1002 - accuracy: 0.9714 - val_loss: 0.0239 - val_accuracy: 0.9969\n",
      "Epoch 13/20\n",
      "35/35 [==============================] - 26s 725ms/step - loss: 0.0451 - accuracy: 0.9875 - val_loss: 0.0039 - val_accuracy: 1.0000\n",
      "Epoch 14/20\n",
      "35/35 [==============================] - 26s 727ms/step - loss: 0.0389 - accuracy: 0.9929 - val_loss: 0.0064 - val_accuracy: 1.0000\n",
      "Epoch 15/20\n",
      "35/35 [==============================] - 26s 729ms/step - loss: 0.0353 - accuracy: 0.9920 - val_loss: 0.0318 - val_accuracy: 0.9937\n",
      "Epoch 16/20\n",
      "35/35 [==============================] - 26s 725ms/step - loss: 0.0228 - accuracy: 0.9964 - val_loss: 0.0012 - val_accuracy: 1.0000\n",
      "Epoch 17/20\n",
      "35/35 [==============================] - 26s 732ms/step - loss: 0.0350 - accuracy: 0.9902 - val_loss: 0.0073 - val_accuracy: 1.0000\n",
      "Epoch 18/20\n",
      "35/35 [==============================] - 26s 727ms/step - loss: 0.0381 - accuracy: 0.9893 - val_loss: 0.0084 - val_accuracy: 1.0000\n",
      "Epoch 19/20\n",
      "35/35 [==============================] - 26s 727ms/step - loss: 0.0319 - accuracy: 0.9929 - val_loss: 0.0054 - val_accuracy: 1.0000\n",
      "Epoch 20/20\n",
      "35/35 [==============================] - 27s 736ms/step - loss: 0.0206 - accuracy: 0.9929 - val_loss: 0.0041 - val_accuracy: 1.0000\n"
     ]
    }
   ],
   "source": [
    "hist9 = model9.fit(train, epochs = 20, validation_data = val)"
   ]
  },
  {
   "cell_type": "code",
   "execution_count": 28,
   "id": "4f083a76",
   "metadata": {},
   "outputs": [
    {
     "name": "stdout",
     "output_type": "stream",
     "text": [
      "10/10 [==============================] - 3s 119ms/step - loss: 0.0154 - accuracy: 0.9969\n",
      "35/35 [==============================] - 6s 151ms/step - loss: 0.0039 - accuracy: 0.9991\n",
      "Test Accuracy:  0.996874988079071 \n",
      "Test Loss:  0.015362565405666828\n",
      "Train Accuracy:  0.9991071224212646 \n",
      "Train Loss:  0.003911727573722601\n"
     ]
    }
   ],
   "source": [
    "test_loss9, test_acc9 = model9.evaluate(val)\n",
    "train_loss9, train_acc9 = model9.evaluate(train)\n",
    "print('Val Accuracy: ', test_acc9, '\\nVal Loss: ', test_loss9)\n",
    "print('Train Accuracy: ', train_acc9, '\\nTrain Loss: ', train_loss9)"
   ]
  },
  {
   "cell_type": "code",
   "execution_count": 29,
   "id": "d79c5c0e",
   "metadata": {},
   "outputs": [
    {
     "name": "stdout",
     "output_type": "stream",
     "text": [
      "5/5 [==============================] - 2s 112ms/step - loss: 0.0049 - accuracy: 1.0000\n"
     ]
    },
    {
     "data": {
      "text/plain": [
       "[0.004898628685623407, 1.0]"
      ]
     },
     "execution_count": 29,
     "metadata": {},
     "output_type": "execute_result"
    }
   ],
   "source": [
    "model9.evaluate(test)"
   ]
  },
  {
   "cell_type": "code",
   "execution_count": 30,
   "id": "441d0ebf",
   "metadata": {},
   "outputs": [],
   "source": [
    "model10 = Sequential()"
   ]
  },
  {
   "cell_type": "code",
   "execution_count": 31,
   "id": "9982dcb0",
   "metadata": {},
   "outputs": [],
   "source": [
    "model10.add(Conv2D(16, (3,3), 1, activation='relu', input_shape=(256,256,3)))\n",
    "model10.add(MaxPooling2D())\n",
    "\n",
    "model10.add(Conv2D(32, (3,3), 1, activation='relu'))\n",
    "model10.add(MaxPooling2D())\n",
    "\n",
    "model10.add(Conv2D(16, (3,3), 1, activation='relu'))\n",
    "model10.add(MaxPooling2D())\n",
    "\n",
    "\n",
    "\n",
    "model10.add(Flatten())\n",
    "\n",
    "model10.add(Dense(256, activation='relu'))\n",
    "model10.add(Dropout(0.5))\n",
    "model10.add(Dense(6, activation='softmax'))"
   ]
  },
  {
   "cell_type": "code",
   "execution_count": 32,
   "id": "a17c63f9",
   "metadata": {},
   "outputs": [],
   "source": [
    "model10.compile('adam', loss='sparse_categorical_crossentropy', metrics=['accuracy'])"
   ]
  },
  {
   "cell_type": "code",
   "execution_count": 33,
   "id": "41a129ea",
   "metadata": {},
   "outputs": [
    {
     "name": "stdout",
     "output_type": "stream",
     "text": [
      "Model: \"sequential_3\"\n",
      "_________________________________________________________________\n",
      " Layer (type)                Output Shape              Param #   \n",
      "=================================================================\n",
      " conv2d_17 (Conv2D)          (None, 254, 254, 16)      448       \n",
      "                                                                 \n",
      " max_pooling2d_15 (MaxPoolin  (None, 127, 127, 16)     0         \n",
      " g2D)                                                            \n",
      "                                                                 \n",
      " conv2d_18 (Conv2D)          (None, 125, 125, 32)      4640      \n",
      "                                                                 \n",
      " max_pooling2d_16 (MaxPoolin  (None, 62, 62, 32)       0         \n",
      " g2D)                                                            \n",
      "                                                                 \n",
      " conv2d_19 (Conv2D)          (None, 60, 60, 16)        4624      \n",
      "                                                                 \n",
      " max_pooling2d_17 (MaxPoolin  (None, 30, 30, 16)       0         \n",
      " g2D)                                                            \n",
      "                                                                 \n",
      " flatten_3 (Flatten)         (None, 14400)             0         \n",
      "                                                                 \n",
      " dense_5 (Dense)             (None, 256)               3686656   \n",
      "                                                                 \n",
      " dropout_1 (Dropout)         (None, 256)               0         \n",
      "                                                                 \n",
      " dense_6 (Dense)             (None, 6)                 1542      \n",
      "                                                                 \n",
      "=================================================================\n",
      "Total params: 3,697,910\n",
      "Trainable params: 3,697,910\n",
      "Non-trainable params: 0\n",
      "_________________________________________________________________\n"
     ]
    }
   ],
   "source": [
    "model10.summary()"
   ]
  },
  {
   "cell_type": "code",
   "execution_count": 34,
   "id": "ade600b6",
   "metadata": {},
   "outputs": [
    {
     "name": "stdout",
     "output_type": "stream",
     "text": [
      "Epoch 1/20\n",
      "35/35 [==============================] - 26s 708ms/step - loss: 1.8459 - accuracy: 0.2250 - val_loss: 1.6815 - val_accuracy: 0.5281\n",
      "Epoch 2/20\n",
      "35/35 [==============================] - 26s 709ms/step - loss: 1.4819 - accuracy: 0.4589 - val_loss: 1.0965 - val_accuracy: 0.5875\n",
      "Epoch 3/20\n",
      "35/35 [==============================] - 26s 710ms/step - loss: 0.9166 - accuracy: 0.6884 - val_loss: 0.5304 - val_accuracy: 0.8250\n",
      "Epoch 4/20\n",
      "35/35 [==============================] - 26s 717ms/step - loss: 0.5024 - accuracy: 0.8286 - val_loss: 0.2779 - val_accuracy: 0.9656\n",
      "Epoch 5/20\n",
      "35/35 [==============================] - 26s 717ms/step - loss: 0.2806 - accuracy: 0.9107 - val_loss: 0.1576 - val_accuracy: 0.9719\n",
      "Epoch 6/20\n",
      "35/35 [==============================] - 26s 713ms/step - loss: 0.1637 - accuracy: 0.9527 - val_loss: 0.0355 - val_accuracy: 1.0000\n",
      "Epoch 7/20\n",
      "35/35 [==============================] - 27s 742ms/step - loss: 0.0811 - accuracy: 0.9795 - val_loss: 0.0234 - val_accuracy: 1.0000\n",
      "Epoch 8/20\n",
      "35/35 [==============================] - 26s 720ms/step - loss: 0.0786 - accuracy: 0.9804 - val_loss: 0.0229 - val_accuracy: 1.0000\n",
      "Epoch 9/20\n",
      "35/35 [==============================] - 26s 726ms/step - loss: 0.0473 - accuracy: 0.9937 - val_loss: 0.0103 - val_accuracy: 1.0000\n",
      "Epoch 10/20\n",
      "35/35 [==============================] - 26s 719ms/step - loss: 0.0365 - accuracy: 0.9937 - val_loss: 0.0036 - val_accuracy: 1.0000\n",
      "Epoch 11/20\n",
      "35/35 [==============================] - 26s 726ms/step - loss: 0.0279 - accuracy: 0.9973 - val_loss: 0.0192 - val_accuracy: 0.9937\n",
      "Epoch 12/20\n",
      "35/35 [==============================] - 26s 725ms/step - loss: 0.0195 - accuracy: 0.9955 - val_loss: 0.0238 - val_accuracy: 0.9937\n",
      "Epoch 13/20\n",
      "35/35 [==============================] - 26s 723ms/step - loss: 0.0138 - accuracy: 0.9964 - val_loss: 6.5631e-04 - val_accuracy: 1.0000\n",
      "Epoch 14/20\n",
      "35/35 [==============================] - 26s 718ms/step - loss: 0.0113 - accuracy: 0.9982 - val_loss: 0.0134 - val_accuracy: 0.9969\n",
      "Epoch 15/20\n",
      "35/35 [==============================] - 26s 727ms/step - loss: 0.0103 - accuracy: 0.9982 - val_loss: 5.1590e-04 - val_accuracy: 1.0000\n",
      "Epoch 16/20\n",
      "35/35 [==============================] - 26s 721ms/step - loss: 0.0194 - accuracy: 0.9955 - val_loss: 0.0011 - val_accuracy: 1.0000\n",
      "Epoch 17/20\n",
      "35/35 [==============================] - 26s 726ms/step - loss: 0.0260 - accuracy: 0.9955 - val_loss: 0.0198 - val_accuracy: 0.9969\n",
      "Epoch 18/20\n",
      "35/35 [==============================] - 26s 722ms/step - loss: 0.0157 - accuracy: 0.9955 - val_loss: 0.0231 - val_accuracy: 0.9969\n",
      "Epoch 19/20\n",
      "35/35 [==============================] - 26s 736ms/step - loss: 0.0059 - accuracy: 0.9991 - val_loss: 2.8273e-04 - val_accuracy: 1.0000\n",
      "Epoch 20/20\n",
      "35/35 [==============================] - 27s 752ms/step - loss: 0.0091 - accuracy: 0.9973 - val_loss: 1.9267e-04 - val_accuracy: 1.0000\n"
     ]
    }
   ],
   "source": [
    "hist10 = model10.fit(train, epochs = 20, validation_data = val)"
   ]
  },
  {
   "cell_type": "code",
   "execution_count": 35,
   "id": "28770171",
   "metadata": {},
   "outputs": [
    {
     "name": "stdout",
     "output_type": "stream",
     "text": [
      "10/10 [==============================] - 3s 98ms/step - loss: 2.1847e-04 - accuracy: 1.0000\n",
      "35/35 [==============================] - 5s 138ms/step - loss: 0.0069 - accuracy: 0.9991\n",
      "Test Accuracy:  1.0 \n",
      "Test Loss:  0.00021847212337888777\n",
      "Train Accuracy:  0.9991071224212646 \n",
      "Train Loss:  0.006937108468264341\n"
     ]
    }
   ],
   "source": [
    "test_loss10, test_acc10 = model10.evaluate(val)\n",
    "train_loss10, train_acc10 = model10.evaluate(train)\n",
    "print('Val Accuracy: ', test_acc10, '\\nVal Loss: ', test_loss10)\n",
    "print('Train Accuracy: ', train_acc10, '\\nTrain Loss: ', train_loss10)"
   ]
  },
  {
   "cell_type": "code",
   "execution_count": 36,
   "id": "455a848a",
   "metadata": {},
   "outputs": [
    {
     "name": "stdout",
     "output_type": "stream",
     "text": [
      "5/5 [==============================] - 2s 99ms/step - loss: 1.9514e-04 - accuracy: 1.0000\n"
     ]
    },
    {
     "data": {
      "text/plain": [
       "[0.0001951436570379883, 1.0]"
      ]
     },
     "execution_count": 36,
     "metadata": {},
     "output_type": "execute_result"
    }
   ],
   "source": [
    "model10.evaluate(test)"
   ]
  },
  {
   "cell_type": "code",
   "execution_count": 45,
   "id": "77f5427f",
   "metadata": {},
   "outputs": [
    {
     "ename": "ModuleNotFoundError",
     "evalue": "No module named 'Tensorflow'",
     "output_type": "error",
     "traceback": [
      "\u001b[1;31m---------------------------------------------------------------------------\u001b[0m",
      "\u001b[1;31mModuleNotFoundError\u001b[0m                       Traceback (most recent call last)",
      "\u001b[1;32m<ipython-input-45-33f1fc200b7a>\u001b[0m in \u001b[0;36m<module>\u001b[1;34m\u001b[0m\n\u001b[1;32m----> 1\u001b[1;33m \u001b[1;32mfrom\u001b[0m \u001b[0mTensorflow\u001b[0m \u001b[1;32mimport\u001b[0m \u001b[0mkeras\u001b[0m\u001b[1;33m\u001b[0m\u001b[1;33m\u001b[0m\u001b[0m\n\u001b[0m",
      "\u001b[1;31mModuleNotFoundError\u001b[0m: No module named 'Tensorflow'"
     ]
    }
   ],
   "source": [
    "from Tensorflow import keras"
   ]
  },
  {
   "cell_type": "code",
   "execution_count": 43,
   "id": "5052f3dc",
   "metadata": {},
   "outputs": [],
   "source": [
    "model11 = Sequential()"
   ]
  },
  {
   "cell_type": "code",
   "execution_count": 44,
   "id": "aa42ef3e",
   "metadata": {},
   "outputs": [
    {
     "ename": "NameError",
     "evalue": "name 'keras' is not defined",
     "output_type": "error",
     "traceback": [
      "\u001b[1;31m---------------------------------------------------------------------------\u001b[0m",
      "\u001b[1;31mNameError\u001b[0m                                 Traceback (most recent call last)",
      "\u001b[1;32m<ipython-input-44-a2ea0e38696e>\u001b[0m in \u001b[0;36m<module>\u001b[1;34m\u001b[0m\n\u001b[0;32m     19\u001b[0m \u001b[0mmodel11\u001b[0m\u001b[1;33m.\u001b[0m\u001b[0madd\u001b[0m\u001b[1;33m(\u001b[0m\u001b[0mDense\u001b[0m\u001b[1;33m(\u001b[0m\u001b[1;36m256\u001b[0m\u001b[1;33m)\u001b[0m\u001b[1;33m)\u001b[0m\u001b[1;33m\u001b[0m\u001b[1;33m\u001b[0m\u001b[0m\n\u001b[0;32m     20\u001b[0m \u001b[0mmodel11\u001b[0m\u001b[1;33m.\u001b[0m\u001b[0madd\u001b[0m\u001b[1;33m(\u001b[0m\u001b[0mBatchNormalization\u001b[0m\u001b[1;33m(\u001b[0m\u001b[1;33m)\u001b[0m\u001b[1;33m)\u001b[0m\u001b[1;33m\u001b[0m\u001b[1;33m\u001b[0m\u001b[0m\n\u001b[1;32m---> 21\u001b[1;33m \u001b[0mmodel11\u001b[0m\u001b[1;33m.\u001b[0m\u001b[0madd\u001b[0m\u001b[1;33m(\u001b[0m\u001b[0mkeras\u001b[0m\u001b[1;33m.\u001b[0m\u001b[0mlayers\u001b[0m\u001b[1;33m.\u001b[0m\u001b[0mActivation\u001b[0m\u001b[1;33m(\u001b[0m\u001b[0mactivations\u001b[0m\u001b[1;33m.\u001b[0m\u001b[0mrelu\u001b[0m\u001b[1;33m)\u001b[0m\u001b[1;33m)\u001b[0m\u001b[1;33m\u001b[0m\u001b[1;33m\u001b[0m\u001b[0m\n\u001b[0m\u001b[0;32m     22\u001b[0m \u001b[0mmodel11\u001b[0m\u001b[1;33m.\u001b[0m\u001b[0madd\u001b[0m\u001b[1;33m(\u001b[0m\u001b[0mDense\u001b[0m\u001b[1;33m(\u001b[0m\u001b[1;36m6\u001b[0m\u001b[1;33m,\u001b[0m \u001b[0mactivation\u001b[0m\u001b[1;33m=\u001b[0m\u001b[1;34m'softmax'\u001b[0m\u001b[1;33m)\u001b[0m\u001b[1;33m)\u001b[0m\u001b[1;33m\u001b[0m\u001b[1;33m\u001b[0m\u001b[0m\n",
      "\u001b[1;31mNameError\u001b[0m: name 'keras' is not defined"
     ]
    }
   ],
   "source": [
    "model11.add(Conv2D(16, (3,3), 1, activation='relu', input_shape=(256,256,3)))\n",
    "model11.add(MaxPooling2D())\n",
    "\n",
    "model11.add(Conv2D(32, (3,3), 1, activation='relu'))\n",
    "model11.add(MaxPooling2D())\n",
    "\n",
    "model11.add(Conv2D(16, (3,3), 1, activation='relu'))\n",
    "model11.add(MaxPooling2D())\n",
    "\n",
    "model11.add(Conv2D(32, (3,3), 1, activation='relu'))\n",
    "model11.add(MaxPooling2D())\n",
    "\n",
    "model11.add(Conv2D(64, (3,3), 1, activation='relu'))\n",
    "model11.add(MaxPooling2D())\n",
    "\n",
    "\n",
    "model11.add(Flatten())\n",
    "\n",
    "model11.add(Dense(256))\n",
    "model11.add(BatchNormalization())\n",
    "model11.add(keras.layers.Activation(activations.relu))\n",
    "model11.add(Dense(6, activation='softmax'))"
   ]
  },
  {
   "cell_type": "code",
   "execution_count": null,
   "id": "bfb0ca68",
   "metadata": {},
   "outputs": [],
   "source": [
    "model11.compile(optimizer=keras.optimizers.SGD(learning_rate=0.1), loss='sparse_categorical_crossentropy', metrics=['accuracy'])"
   ]
  },
  {
   "cell_type": "code",
   "execution_count": null,
   "id": "4f37f4f1",
   "metadata": {},
   "outputs": [],
   "source": [
    "model11.summary()"
   ]
  },
  {
   "cell_type": "code",
   "execution_count": null,
   "id": "e7aab01c",
   "metadata": {},
   "outputs": [],
   "source": [
    "hist11 = model11.fit(train, epochs = 20, validation_data = val)"
   ]
  },
  {
   "cell_type": "code",
   "execution_count": null,
   "id": "7a8f0746",
   "metadata": {},
   "outputs": [],
   "source": [
    "test_loss11, test_acc11 = model11.evaluate(val)\n",
    "train_loss11, train_acc11 = model11.evaluate(train)\n",
    "print('Test Accuracy: ', test_acc11, '\\nTest Loss: ', test_loss11)\n",
    "print('Train Accuracy: ', train_acc11, '\\nTrain Loss: ', train_loss11)"
   ]
  },
  {
   "cell_type": "code",
   "execution_count": null,
   "id": "9046949c",
   "metadata": {},
   "outputs": [],
   "source": [
    "model11.evaluate(test)"
   ]
  }
 ],
 "metadata": {
  "kernelspec": {
   "display_name": "Python 3",
   "language": "python",
   "name": "python3"
  },
  "language_info": {
   "codemirror_mode": {
    "name": "ipython",
    "version": 3
   },
   "file_extension": ".py",
   "mimetype": "text/x-python",
   "name": "python",
   "nbconvert_exporter": "python",
   "pygments_lexer": "ipython3",
   "version": "3.8.8"
  }
 },
 "nbformat": 4,
 "nbformat_minor": 5
}
